{
 "metadata": {
  "language_info": {
   "codemirror_mode": {
    "name": "ipython",
    "version": 3
   },
   "file_extension": ".py",
   "mimetype": "text/x-python",
   "name": "python",
   "nbconvert_exporter": "python",
   "pygments_lexer": "ipython3",
   "version": "3.9.0-final"
  },
  "orig_nbformat": 2,
  "kernelspec": {
   "name": "python3",
   "display_name": "Python 3",
   "language": "python"
  }
 },
 "nbformat": 4,
 "nbformat_minor": 2,
 "cells": [
  {
   "source": [
    "# Metaprogramming\n",
    "\n",
    "I linguaggi dinamici mettono a disposizione meccanismi di gestione avanzata del codice. Essi permettono di adattare a runtime il comportamente del programma senza aver bisogno di ricompilazione. Per permettere questo adattamento a situazione differenti è necessario che il linguaggio supporti alcune funzionalità:\n",
    "\n",
    "- Capacità di auto analisi del codice a tempo di esecuzione\n",
    "- Generazione e modifica del codice a tempo di esecuzione\n",
    "- Intercettazione e gestione degli errori a tempo di esecuzione\n",
    "\n",
    "## Introspection\n",
    "\n",
    "L'introspection, introspezione, è la capacità di un linguaggio di determinare tipo e proprietà di un oggetto a tempo di esecuzione. Si presuppone quindi il type checking dinamico.\n",
    "\n",
    "L'introspezione è utilizzata principalmente per l'ispezione di classi, attributi e metodi senza il bisogno di conoscere il nome a tempo di compilazione. L'introspezione è una proprietà tipica di linguaggi dinamici, ma esiste anche in altri non dinamici, come ad esempio Java.\n",
    "\n",
    "Un esempio di introspezione è l'auto completazione del testo di un classico IDE. Infatti l'auto completamento avviene solamente a tempo di esecuzione del nostro IDE e non può conoscere a priori quello che noi andremo a scrivere. L'auto completamento procede prima con il recupero dei metodi pubblici dell'oggetto, controlla se sono callable ed infine ne presenta i nomi a noi sviluppatori.\n",
    "\n",
    "### Duck typing\n",
    "\n",
    "Il duck typing è un argomento che affronteremo meglio in un notebook sulla tipizzazione.\n",
    "\n",
    "In ogni caso, proviamo comunque a spiegare brevemente cosa sia questo duck typing. Consideriamo un generico oggetto ```O``` e vogliamo utilizzare il suo metodo ```O.write()```. Il compilatore non esegue controlli sul fatto che questo metodo appartenga effettivamente all'oggetto, come invece farebbe un linguaggio come Java. L'eventuale errore si verificicherà quindi a tempo di esecuzione se il metodo non viene trovato.\n",
    "\n",
    "Per controllare questo possibile errore abbiamo due modi. Il primo è il classico try except, mentre il secondo è l'utilizzo della funzione built-in ```hasattr(O, 'write')```, che è appunto uno strumento di introspezione.\n",
    "\n",
    "### Primo esempio metaprogramming\n",
    "\n",
    "Vediamo un primo esempio completo di metaprogramming. Immaginiamo di volere implementare in python il costrutto switch case. Vogliamo però renderlo dinamico, ovvero avere la possibilità di aggiungere e eliminare dei casi a runtime.\n",
    "\n",
    "Vogliamo in sintesi sviluppare un costrutto così costruito:\n",
    "\n",
    "```\n",
    "case condizione of:\n",
    "    caso_X: ...\n",
    "    caso_Y: ...\n",
    "    ...\n",
    "    default: ...\n",
    "```\n",
    "\n",
    "La prima cosa che facciamo è creare una classe ```switch``` callable."
   ],
   "cell_type": "markdown",
   "metadata": {}
  },
  {
   "cell_type": "code",
   "execution_count": 2,
   "metadata": {},
   "outputs": [],
   "source": [
    "class Switch:\n",
    "    def __call__(self, condizione):\n",
    "        azione = getattr(self, f'caso_{condizione}', None)\n",
    "        if not azione:\n",
    "            return self.default\n",
    "        return azione"
   ]
  },
  {
   "source": [
    "Ora con la classe switch, creiamo una classe contenente tanti metodi quanti casi vogliamo implementare."
   ],
   "cell_type": "markdown",
   "metadata": {}
  },
  {
   "cell_type": "code",
   "execution_count": 4,
   "metadata": {},
   "outputs": [],
   "source": [
    "class TestConditions(Switch):\n",
    "    def caso_1(self):\n",
    "        return \"Trattamento condizione 1\"\n",
    "\n",
    "    def caso_2(self):\n",
    "        return \"Trattamento condizione 2\"\n",
    "\n",
    "    def caso_A(self):\n",
    "        return \"Trattamento condizione A\"\n",
    "\n",
    "    def caso_BC(self):\n",
    "        return \"Trattamento condizione BC\"\n",
    "\n",
    "    def default(self):\n",
    "        raise Exception(\"Condizione non prevista\")"
   ]
  },
  {
   "source": [
    "Dalla struttura del nostro codice, è abbastanza immediato capire quanto sia semplice implementare un caso direttamente a runtime. Basterebbe aggiungere un \\__getattribute\\__ e un \\__getattr\\__ per settare una nuova funzione come metodo di nostro switch. Risulta anche immediato come semplicemente indicando una stringa di caso d'uso, il nostro codice riesce a ricondursi al nostro metodo.\n",
    "\n",
    "Ora ci basta solamente testare il nostro costrutto."
   ],
   "cell_type": "markdown",
   "metadata": {}
  },
  {
   "cell_type": "code",
   "execution_count": 8,
   "metadata": {},
   "outputs": [
    {
     "output_type": "stream",
     "name": "stdout",
     "text": [
      "Trattamento condizione 1\nTrattamento condizione BC\n"
     ]
    },
    {
     "output_type": "error",
     "ename": "Exception",
     "evalue": "Condizione non prevista",
     "traceback": [
      "\u001b[0;31m---------------------------------------------------------------------------\u001b[0m",
      "\u001b[0;31mException\u001b[0m                                 Traceback (most recent call last)",
      "\u001b[0;32m<ipython-input-8-90380c19a233>\u001b[0m in \u001b[0;36m<module>\u001b[0;34m\u001b[0m\n\u001b[1;32m      3\u001b[0m \u001b[0mprint\u001b[0m\u001b[0;34m(\u001b[0m\u001b[0mtest\u001b[0m\u001b[0;34m(\u001b[0m\u001b[0;34m\"1\"\u001b[0m\u001b[0;34m)\u001b[0m\u001b[0;34m(\u001b[0m\u001b[0;34m)\u001b[0m\u001b[0;34m)\u001b[0m\u001b[0;34m\u001b[0m\u001b[0;34m\u001b[0m\u001b[0m\n\u001b[1;32m      4\u001b[0m \u001b[0mprint\u001b[0m\u001b[0;34m(\u001b[0m\u001b[0mtest\u001b[0m\u001b[0;34m(\u001b[0m\u001b[0;34m\"BC\"\u001b[0m\u001b[0;34m)\u001b[0m\u001b[0;34m(\u001b[0m\u001b[0;34m)\u001b[0m\u001b[0;34m)\u001b[0m\u001b[0;34m\u001b[0m\u001b[0;34m\u001b[0m\u001b[0m\n\u001b[0;32m----> 5\u001b[0;31m \u001b[0mprint\u001b[0m\u001b[0;34m(\u001b[0m\u001b[0mtest\u001b[0m\u001b[0;34m(\u001b[0m\u001b[0;34m\"3\"\u001b[0m\u001b[0;34m)\u001b[0m\u001b[0;34m(\u001b[0m\u001b[0;34m)\u001b[0m\u001b[0;34m)\u001b[0m\u001b[0;34m\u001b[0m\u001b[0;34m\u001b[0m\u001b[0m\n\u001b[0m",
      "\u001b[0;32m<ipython-input-4-441e4e516d69>\u001b[0m in \u001b[0;36mdefault\u001b[0;34m(self)\u001b[0m\n\u001b[1;32m     13\u001b[0m \u001b[0;34m\u001b[0m\u001b[0m\n\u001b[1;32m     14\u001b[0m     \u001b[0;32mdef\u001b[0m \u001b[0mdefault\u001b[0m\u001b[0;34m(\u001b[0m\u001b[0mself\u001b[0m\u001b[0;34m)\u001b[0m\u001b[0;34m:\u001b[0m\u001b[0;34m\u001b[0m\u001b[0;34m\u001b[0m\u001b[0m\n\u001b[0;32m---> 15\u001b[0;31m         \u001b[0;32mraise\u001b[0m \u001b[0mException\u001b[0m\u001b[0;34m(\u001b[0m\u001b[0;34m\"Condizione non prevista\"\u001b[0m\u001b[0;34m)\u001b[0m\u001b[0;34m\u001b[0m\u001b[0;34m\u001b[0m\u001b[0m\n\u001b[0m",
      "\u001b[0;31mException\u001b[0m: Condizione non prevista"
     ]
    }
   ],
   "source": [
    "test = TestConditions()\n",
    "\n",
    "print(test(\"1\")())\n",
    "print(test(\"BC\")())\n",
    "print(test(\"3\")())"
   ]
  },
  {
   "source": [
    "### Strumenti primitivi per introspection\n",
    "\n",
    "Python ci mette a disposizione vari strumenti per l'introspezione:\n",
    "\n",
    "- ```type(obj)```\n",
    "\n",
    "    Funzione built-in con un singolo parametro. Questa chiamata ritorna il tipo dell'oggetto obj\n",
    "\n",
    "- ```isinstance(obj, cls)```\n",
    "\n",
    "    Restituisce True se il tipo di obj è il tipo cls, altrimenti restituisce False\n",
    "\n",
    "- ```obj.__dict__```\n",
    "\n",
    "    È un attributo di ogni oggetto che memorizza un dizionario contenente tutti gli attributi con il relativo valore\n",
    "\n",
    "- ```dir()``` e ```dir(obj)```\n",
    "\n",
    "    La prima funzione built-in restituisce i nomi dell'ambiente corrente. La seconda funzione built-in, ovvero con un parametro, restituisce la lista più ampia possibile degli attributi dell'oggetto obj secondo il seguente algoritmo:\n",
    "\n",
    "    - Se l'oggetto in questione obj implementa il metodo \\__dict\\__, allora viene utilizzaro questo metodo\n",
    "    - Se l'oggetto obj è un modulo, restituisce i suoi attributi\n",
    "    - Se l'oggetto obj è una classe, restituisce i suoi attributi e ricorsivamente quelli della classe base\n",
    "    - Per ogni altro oggetto, restituisce i suoi attributi, quelli della sua classe e ricorsivamente quelli delle classi base\n",
    "\n",
    "- ```locals()``` e ```globals(obj)```\n",
    "\n",
    "    Queste due funzioni built-in li conosciamo già. Esse ci permettono di recuperare i relativi namespace\n",
    "\n",
    "- ```vars()``` e ```vars(obj)```\n",
    "\n",
    "    La prima funzione è analoga alla funzione locals(), mentre se la utilizziamo in aggiunta al parametro obj, essa ci ritorna il valore di __dict__ dell'oggetto obj se presente, altrimenti solleva un'eccezzione di tipo TypeError\n",
    "\n",
    "- ```hasattr(obj, attr)```\n",
    "\n",
    "    Questa funzione ha lo scopo di controllare se un dato oggetto obj contiene un certo attributo attr. In caso affermativo ritorna True, altrimenti False\n",
    "\n",
    "- ```getattr(obj, attr)``` e ```getattr(obj, attr, default)```\n",
    "\n",
    "    La funzione getattr ci permette di ritornare un determinato attributo attr dell'oggetto obj. Se questo attributo non risulta presente nell'oggetto obj, gettattr solleva un'eccezzione AttributeError nel caso non sia specificato il parametro default, altrimenti ritorna proprio esso, default\n",
    "\n",
    "- ```callable(obj)```\n",
    "\n",
    "    Questa funzione controlla se l'oggetto obj è di tipo callable, ovvero implementa un metodo \\__call\\__\n",
    "\n",
    "- ```obj.__class__```\n",
    "\n",
    "    L'attributo speciale \\__class\\__ ha lo scopo di memorizzare il tipo di classe dell'oggetto obj\n",
    "\n",
    "- ```obj.__class__.__name__```\n",
    "\n",
    "    L'attributo \\__class\\__.\\__name\\__, a differenza di \\__class\\__, memorizza solamente il nome della classe dell'oggetto obj\n",
    "\n",
    "- ```id(obj)```\n",
    "\n",
    "    La funzione built-in id() permette di ottenere l'identificatore univoco di un dato ooggetto. Ciò vuole dire in sostanza ottenre l'indirizzo fisico in memoria sul quale è salvato l'oggetto obj. Questo metodo ci permette di avere il massimo del controllo sugli oggetti\n",
    "\n",
    "Iniziamo a vedere degli esempi in pratica di questi metodi di introspezione."
   ],
   "cell_type": "markdown",
   "metadata": {}
  },
  {
   "cell_type": "code",
   "execution_count": 1,
   "metadata": {},
   "outputs": [],
   "source": [
    "class A:\n",
    "    x = 1"
   ]
  },
  {
   "cell_type": "code",
   "execution_count": 2,
   "metadata": {},
   "outputs": [],
   "source": [
    "class B(A):\n",
    "    'Classe di esempio'\n",
    "    z = 0\n",
    "\n",
    "    def __init__(self, y):\n",
    "        self.y = y"
   ]
  },
  {
   "source": [
    "Esempi di ```isinstance(obj, cls)```, ```obj.__dict__```, ```dir()``` e ```dir(obj)```."
   ],
   "cell_type": "markdown",
   "metadata": {}
  },
  {
   "cell_type": "code",
   "execution_count": 5,
   "metadata": {},
   "outputs": [
    {
     "output_type": "stream",
     "name": "stdout",
     "text": [
      "a is instance of B? False\nb is instance of B? True\nb.__dict__:\n{'y': 2}\ndir():\n['A', 'B', 'In', 'Out', '_', '__', '___', '__builtin__', '__builtins__', '__doc__', '__loader__', '__name__', '__package__', '__spec__', '_dh', '_i', '_i1', '_i2', '_i3', '_i4', '_i5', '_ih', '_ii', '_iii', '_oh', '_rwho_ls', 'a', 'b', 'exit', 'get_ipython', 'os', 'quit', 'sys']\ndir(b):\n['__class__', '__delattr__', '__dict__', '__dir__', '__doc__', '__eq__', '__format__', '__ge__', '__getattribute__', '__gt__', '__hash__', '__init__', '__init_subclass__', '__le__', '__lt__', '__module__', '__ne__', '__new__', '__reduce__', '__reduce_ex__', '__repr__', '__setattr__', '__sizeof__', '__str__', '__subclasshook__', '__weakref__', 'x', 'y', 'z']\n"
     ]
    }
   ],
   "source": [
    "a = A()\n",
    "b = B(2)\n",
    "\n",
    "print(f\"a is instance of B? {isinstance(a, B)}\")\n",
    "print(f\"b is instance of B? {isinstance(b, B)}\")\n",
    "\n",
    "print(\"b.__dict__:\")\n",
    "print(b.__dict__)\n",
    "\n",
    "print(\"dir():\")\n",
    "print(dir())\n",
    "\n",
    "print(\"dir(b):\")\n",
    "print(dir(b))"
   ]
  },
  {
   "source": [
    "Esempi di ```locals()```, ```globals()``` e ```vars()```."
   ],
   "cell_type": "markdown",
   "metadata": {}
  },
  {
   "cell_type": "code",
   "execution_count": 6,
   "metadata": {},
   "outputs": [
    {
     "output_type": "stream",
     "name": "stdout",
     "text": [
      "locals() == vars()? True\nvars(b):\n{'y': 2}\n"
     ]
    }
   ],
   "source": [
    "# Attenzione: vars() lo utilizziamo senza parametri\n",
    "print(f\"locals() == vars()? {locals() == vars()}\")\n",
    "\n",
    "# Questa volta utilizziamo vars con un parametro, vars(b)\n",
    "print(\"vars(b):\")\n",
    "print(vars(b))"
   ]
  },
  {
   "source": [
    "Esempi di ```hasattr(obj, attr)``` e ```getattr(obj, attr)```."
   ],
   "cell_type": "markdown",
   "metadata": {}
  },
  {
   "cell_type": "code",
   "execution_count": 13,
   "metadata": {},
   "outputs": [
    {
     "output_type": "stream",
     "name": "stdout",
     "text": [
      "Has b customName attribute? False\nHas b z attribute? True\nGet attribute z from b: 0\nGet attribute customName from b: No attribute\n"
     ]
    }
   ],
   "source": [
    "print(f\"Has b customName attribute? {hasattr(b, 'customName')}\")\n",
    "print(f\"Has b z attribute? {hasattr(b, 'z')}\")\n",
    "\n",
    "print(f\"Get attribute z from b: {getattr(b, 'z')}\")\n",
    "print(f\"Get attribute customName from b: {getattr(b, 'customName', 'No attribute')}\")"
   ]
  },
  {
   "source": [
    "Esempi di ```callable(obj)```, ```obj.__class__``` e ```id(obj)```."
   ],
   "cell_type": "markdown",
   "metadata": {}
  },
  {
   "cell_type": "code",
   "execution_count": 14,
   "metadata": {},
   "outputs": [],
   "source": [
    "class C:\n",
    "    def __call__():\n",
    "        print(\"Called __call__\")"
   ]
  },
  {
   "cell_type": "code",
   "execution_count": 25,
   "metadata": {},
   "outputs": [
    {
     "output_type": "stream",
     "name": "stdout",
     "text": [
      "Is b callable? False\nIs c callable? True\nb.__class__:\n<class '__main__.B'>\nb.__class.__name__:\nB\nIs l list equals [without id()] of m list? True\nIs l list equals [with id()] of m list? False\n"
     ]
    }
   ],
   "source": [
    "c = C()\n",
    "\n",
    "print(f\"Is b callable? {callable(b)}\")\n",
    "print(f\"Is c callable? {callable(c)}\")\n",
    "\n",
    "print(\"b.__class__:\")\n",
    "print(b.__class__)\n",
    "\n",
    "print(\"b.__class.__name__:\")\n",
    "print(b.__class__.__name__)\n",
    "\n",
    "l = [1, 2, 3]\n",
    "m = [1, 2, 3]\n",
    "\n",
    "print(f\"Is l list equals [without id()] of m list? {l == m}\")\n",
    "print(f\"Is l list equals [with id()] of m list? {id(l) == id(m)}\")"
   ]
  },
  {
   "source": [
    "## Reflection\n",
    "\n",
    "La reflection differisce dalla introspection per una singola particolarità. Infatti, l'introspezione permette di analizzare il codice a tempo d esecizioine, mentre la riflessione permette non solo di auto analizzarsi, ma anche di modiificare il codice a runtime. È quindi un importante aspetto della meta programmazione.\n",
    "\n",
    "Avevamo già accennato nei precedenti noteboook dei metodi che implementavano il concetto di reflection. Un esempio è proprio la creazione di classi a runtime grazie a type. Un'altra funzione molto utile per modificare il codice a tempo di esecuzione è l'analogo di getattr, ovvero ```setattr```.\n",
    "\n",
    "La funzione built-in setattr, come possiamo immaginarci, permette di settare attributi, esistenti o non, di un qualsiasi oggetto oppure classe. Vediamo un esempio."
   ],
   "cell_type": "markdown",
   "metadata": {}
  },
  {
   "cell_type": "code",
   "execution_count": 26,
   "metadata": {},
   "outputs": [],
   "source": [
    "class A:\n",
    "    x = 0"
   ]
  },
  {
   "cell_type": "code",
   "execution_count": 27,
   "metadata": {},
   "outputs": [
    {
     "output_type": "stream",
     "name": "stdout",
     "text": [
      "a.x: 0\nAttribute not found\na.y: 1\na.x: 2\n"
     ]
    }
   ],
   "source": [
    "a = A()\n",
    "\n",
    "print(f\"a.x: {a.x}\")\n",
    "\n",
    "try:\n",
    "    print(f\"a.y: {a.y}\")\n",
    "except AttributeError:\n",
    "    print(\"Attribute not found\")\n",
    "\n",
    "setattr(a, \"y\", 1)\n",
    "\n",
    "print(f\"a.y: {a.y}\")\n",
    "\n",
    "setattr(a, \"x\", 2)\n",
    "\n",
    "print(f\"a.x: {a.x}\")"
   ]
  },
  {
   "source": [
    "Con settattr è possibile aggiungere ad oggetti o classi non solamente attributi, ma anche vere e proprie funzioni."
   ],
   "cell_type": "markdown",
   "metadata": {}
  },
  {
   "cell_type": "code",
   "execution_count": 31,
   "metadata": {},
   "outputs": [
    {
     "output_type": "stream",
     "name": "stdout",
     "text": [
      "b.x: 0\nAttribute not found\nb.z: 3\n"
     ]
    }
   ],
   "source": [
    "def init(self):\n",
    "    self.z = 3\n",
    "\n",
    "setattr(A, \"__init__\", init)\n",
    "\n",
    "b = A()\n",
    "\n",
    "print(f\"b.x: {b.x}\")\n",
    "try:\n",
    "    print(f\"b.y: {b.y}\")\n",
    "except AttributeError:\n",
    "    print(\"Attribute not found\")\n",
    "print(f\"b.z: {b.z}\")"
   ]
  },
  {
   "source": [
    "Ogni oggetto, e quindi anche le funzioni essendo anch'esse first-class object, possiedono un attributo speciale, ```__code__```. Questo attributo permette di ottenere il codice di una data funzione. Vediamo cosa intendo."
   ],
   "cell_type": "markdown",
   "metadata": {}
  },
  {
   "cell_type": "code",
   "execution_count": 2,
   "metadata": {},
   "outputs": [
    {
     "output_type": "stream",
     "name": "stdout",
     "text": [
      "Ciao\n<code object funzione at 0x1125ae0e0, file \"<ipython-input-2-df91efa5c070>\", line 1>\n"
     ]
    }
   ],
   "source": [
    "def funzione():\n",
    "    print(\"Ciao\")\n",
    "\n",
    "funzione()\n",
    "print(funzione.__code__)"
   ]
  },
  {
   "source": [
    "Questo attributo permette di rendere altamente dinamica la programmazione. Infatti questo ci permette di riassegnare il codice di una data funzione come codice di una seconda funzione, differente dalla prima."
   ],
   "cell_type": "markdown",
   "metadata": {}
  },
  {
   "cell_type": "code",
   "execution_count": 6,
   "metadata": {},
   "outputs": [
    {
     "output_type": "stream",
     "name": "stdout",
     "text": [
      "Ciao\n"
     ]
    }
   ],
   "source": [
    "def saluto():\n",
    "    pass\n",
    "\n",
    "saluto()    # Non esegue niente\n",
    "\n",
    "saluto.__code__ = funzione.__code__\n",
    "\n",
    "saluto()"
   ]
  },
  {
   "source": [
    "Abbiamo programmato una funzione dinamicamente, durante l'esecuzione del programma! Questo è meta programming.\n",
    "\n",
    "Ma possiamo fare ancora qualcosa in più. Possiamo modificare il codice stesso ritornato dall'attributo \\__code\\__."
   ],
   "cell_type": "markdown",
   "metadata": {}
  },
  {
   "cell_type": "code",
   "execution_count": 8,
   "metadata": {},
   "outputs": [
    {
     "output_type": "stream",
     "name": "stdout",
     "text": [
      "Ciao Mondo!\n"
     ]
    }
   ],
   "source": [
    "def one_time_only(message):\n",
    "    one_time_only.__code__ = (lambda x: None).__code__\n",
    "    print(message)\n",
    "\n",
    "one_time_only(\"Ciao Mondo!\")        # Esegue la stampa\n",
    "one_time_only(\"Non stampa più!\")    # Non esegue più la stampa"
   ]
  },
  {
   "source": [
    "Abbiamo definito una funzione la quale al suo interno altera il proprio comportamento dopo la prima chiamata, molto interessante.\n",
    "\n",
    "Ora analizziamo due funzioni built-in che applicano la reflection, ```eval()``` e ```exec```.\n",
    "\n",
    "Queste due funzioni sono altamente utili, ma anche molto pericolose se non utilizzate correttamente. Queste due funzioini permettono di eseguire letteralmente del codice a runtime. Diamo un primo sguardo alle relative docstring."
   ],
   "cell_type": "markdown",
   "metadata": {}
  },
  {
   "cell_type": "code",
   "execution_count": 10,
   "metadata": {},
   "outputs": [
    {
     "output_type": "stream",
     "name": "stdout",
     "text": [
      "Help on built-in function eval in module builtins:\n\neval(source, globals=None, locals=None, /)\n    Evaluate the given source in the context of globals and locals.\n    \n    The source may be a string representing a Python expression\n    or a code object as returned by compile().\n    The globals must be a dictionary and locals can be any mapping,\n    defaulting to the current globals and locals.\n    If only globals is given, locals defaults to it.\n\nHelp on built-in function exec in module builtins:\n\nexec(source, globals=None, locals=None, /)\n    Execute the given source in the context of globals and locals.\n    \n    The source may be a string representing one or more Python statements\n    or a code object as returned by compile().\n    The globals must be a dictionary and locals can be any mapping,\n    defaulting to the current globals and locals.\n    If only globals is given, locals defaults to it.\n\n"
     ]
    }
   ],
   "source": [
    "help(eval)\n",
    "\n",
    "help(exec)"
   ]
  },
  {
   "source": [
    "Le documentazioni ci dicono che ricevono come parametri delle stringhe rappresentati un'espressione e un'insieme di statement, relativamente per eval e exec. Vediamo un primo esempio."
   ],
   "cell_type": "markdown",
   "metadata": {}
  },
  {
   "cell_type": "code",
   "execution_count": 16,
   "metadata": {},
   "outputs": [
    {
     "output_type": "stream",
     "name": "stdout",
     "text": [
      "1.5\n1.5\n"
     ]
    }
   ],
   "source": [
    "print(eval(\"2*3/4\"))\n",
    "\n",
    "exec(\"print(f'{2*3/4}')\")"
   ]
  },
  {
   "source": [
    "Una prima differenza che notiamo è proprio il valore di ritorno. La funzione eval esegue un'espressione, come fosse una sorta di calcolatrice. Ha quindi necessità di ritornare il valore che ha ricavato. La funzione exec invece esegue veri e propri statement, come fossero statement in un file python. Eseguendo di suo degli statement, exec non ha la necessità di ritornare un valore, ma al posto di esso ritorna, come side effect, il risultato del codice da esso eseguito.\n",
    "\n",
    "Dalla documentazinoe ci viene detto che entrambe le funzioni possono ricevere come parametri dei namespace, ovvero i namespace globali e locali. Essi verranno passati sotto forma di dizionari."
   ],
   "cell_type": "markdown",
   "metadata": {}
  },
  {
   "cell_type": "code",
   "execution_count": 17,
   "metadata": {},
   "outputs": [
    {
     "output_type": "stream",
     "name": "stdout",
     "text": [
      "1.5\n4.285714285714286\n1.5\n4.285714285714286\n"
     ]
    }
   ],
   "source": [
    "print(eval(\"a*b/c\", {'a': 2, 'b': 3, 'c': 4}))\n",
    "print(eval(\"a*b/c\", {'a': 2, 'b': 3, 'c': 4}, {'a': 5, 'b': 6, 'c': 7}))\n",
    "\n",
    "exec(\"print(f'{a*b/c}')\", {'a': 2, 'b': 3, 'c': 4})\n",
    "exec(\"print(f'{a*b/c}')\", {'a': 2, 'b': 3, 'c': 4}, {'a': 5, 'b': 6, 'c': 7})"
   ]
  },
  {
   "source": [
    "Dai valori dei risultati riusciamo a comprendere come entrambe le funzioni utilizzano le regole a noi già conosciute, ovvero la regola LEGB. Infatti, nel caso il namespace locale viene definito, le funzioni utilizzeranno il primo namespace che trovano secondo la regola LEGB, quindi il namespace locale. Se invece esso non fosse definito, vengono utilizzate le variabili del namespace globale.\n",
    "\n",
    "Per concludere, sempre la documentazione ci dice che le funzioni possono ricevere il codice anche sotto forma di oggetto compilato e non solamente come stringa. Questo è possibile grazie alla funzione ```compile()``` che permette di ritornare un oggetto creato appositamente per l'utilizzo di eval oppure exec."
   ],
   "cell_type": "markdown",
   "metadata": {}
  },
  {
   "cell_type": "code",
   "execution_count": 25,
   "metadata": {},
   "outputs": [
    {
     "output_type": "stream",
     "name": "stdout",
     "text": [
      "1.5\n1.5\n"
     ]
    }
   ],
   "source": [
    "code = '''print(f\"{a*b/c}\")'''\n",
    "\n",
    "obj_eval = compile(code, \"example\", \"eval\")\n",
    "obj_exec = compile(code, \"example\", \"exec\")\n",
    "\n",
    "eval(obj_eval, {'a': 2, 'b': 3, 'c': 4})\n",
    "\n",
    "exec(obj_exec, {'a': 2, 'b': 3, 'c': 4})"
   ]
  },
  {
   "source": [
    "Questo esempio fa sorgere però qualche domanda. Come mai sia eval che exec eseguono ugualmente lo stesso codice? Eval non doveva eseguire solamente delle espressioni?\n",
    "\n",
    "Proviamo a fare un pò di chiarezza. Eval esegue sia espressioni che statement singoli. Nel caso esegua espressioni, eval avrà un valore di ritorno pari al valore calcolato, mentre se esegue un singolo statement, come in questo esempio, eval non avrà un valore di ritorno ma avrà un side effect grazie allo statement. Exec, a differenza di eval, non può eseguire espressioni ma in aggiunta ha le capacità per eseguire non un singolo statement, ma intere porzioni di codice e quindi un insieme di vari statement.\n",
    "\n",
    "Vediamo qualche esempio di questi casi."
   ],
   "cell_type": "markdown",
   "metadata": {}
  },
  {
   "cell_type": "code",
   "execution_count": 30,
   "metadata": {},
   "outputs": [
    {
     "output_type": "stream",
     "name": "stdout",
     "text": [
      "None\nNone\n1.5\n"
     ]
    }
   ],
   "source": [
    "# Exec non riesce ad eseguire espressioni\n",
    "print(exec(\"2*3/4\"))\n",
    "# Ma solamente degli statement, del codice\n",
    "print(exec(\"x=2*3/4\"))\n",
    "print(x)"
   ]
  },
  {
   "cell_type": "code",
   "execution_count": 34,
   "metadata": {},
   "outputs": [
    {
     "output_type": "stream",
     "name": "stdout",
     "text": [
      "Non riesce\n"
     ]
    }
   ],
   "source": [
    "# Eval non riesce ad eseguire più statement\n",
    "code = '''print(\"Ciao\")\n",
    "print(\"A\")\n",
    "print(\"Tutti\")'''\n",
    "\n",
    "try:\n",
    "    eval(code)\n",
    "except SyntaxError:\n",
    "    print(\"Non riesce\")"
   ]
  },
  {
   "source": [
    "## Gestione degli errori\n",
    "\n",
    "Tutti i linguaggi dinamici necessitano di un meccanismo che permetta di intercettare e gestire gli errori che si presentano a tempo di esecuzione.\n",
    "\n",
    "Il meccanismo oramai alla base della totalità dei linguaggi, non solo dinamici, è il meccanismo introdotto da Java. Java introdusse un meccanismo di gestione degli errori basato sulle eccezzioni software. La gestione degli errori è possibile suddividerla in due macro classi, un approccio basato su classi ed un'altro basato su istruzioni speciali.\n",
    "\n",
    "Java, come Python e la maggior parte dei linguaggi, adottano la gestione degli errori basata su classi. Linguaggi come Perl invece adotta la gestione degli errori basata su istruzioni speciali, come eval e die, accennata nel relativo notebook su perl.\n",
    "\n",
    "## Approccio basato su classi\n",
    "\n",
    "Approfondiamo la gestione degli errori basata su classi. Il concetto è semplice, il runtime environment prevede una singola classe madre rappresentante una generica eccezzione. Essa dovrà contenere almeno le seguenti informazioni:\n",
    "\n",
    "- Un identificativo dell'istanza eccezzione\n",
    "- Una rappresentazione dello stack corrente\n",
    "\n",
    "A questo punto, grazie alla classe madre, è possibile implementare una serie di eccezzioni solamente grazie al concetto di ereditarietà. Possiamo immaginarci una prima sottoclasse rappresentante le generiche eccezzioni riguardanti all'I/O e a sua volta contenere varie classi figlie le quali permettono di specificare ogni singola eccezione in maniera più dettagliata.\n",
    "\n",
    "Le eccezzioni possono essere sollevate in due modi differenti:\n",
    "\n",
    "- Automaticamente\n",
    "\n",
    "    L'interprete a tempo di esecuzione incontra un'istruzione vietata, possiamo immaginarci una divisione per 0, quindi solleva un'eccezzione specificandone il problema a riguardo\n",
    "\n",
    "- Manualmente\n",
    "\n",
    "    Il programmatore stesso decide di sollevare un'eccezzione per motivi suoi. Questo avviene grazie ad istruzioni specifiche come ```throw``` e ```raise```\n",
    "\n",
    "Generalmente, incontrare un'eccezzione permette di definire un codice specifico per gestire l'errore stesso. Nel caso questo codice di gestione dell'errore non fosse definito, allora viene eseguito il gestore di default e quindi termina l'esecuzione del programma stampando lo stack corrente.\n",
    "\n",
    "Python, come detto prima, basa la gestione degli errori come in Java, ovvero su classi e con le istruzioni ```try``` - ```except``` - ```finally```, le quali corrispondono alle istruzioni java ```try``` - ```catch``` - ```finally```. Questa di seguito è una generica struttura che permette la gestione di una o più generiche eccezzioni.\n",
    "\n",
    "```python\n",
    "try:\n",
    "    <Blocco di codice>\n",
    "except Eccezzione e_1:\n",
    "    <Gestione dell'eccezzione>\n",
    "except Eccezzione e_n:\n",
    "    <Gestione dell'eccezzione>\n",
    "else:\n",
    "    <Codice eseguito in assenza di qualsiasi precedente eccezzione>\n",
    "finally:\n",
    "    <Codice eseguito in ogni caso alla fine del try - except>\n",
    "```\n",
    "\n",
    "In python è possibile inoltre raggruppare un numero generico di eccezzioni dentro un unico blocco per la gestione di essi.\n",
    "\n",
    "```python\n",
    "try:\n",
    "    <Blocco di codice>\n",
    "except (Eccezzione e_1, ... Eccezzione e_n):\n",
    "    <Gestione dell'eccezzione>\n",
    "else:\n",
    "    <Codice eseguito in assenza di qualsiasi precedente eccezzione>\n",
    "finally:\n",
    "    <Codice eseguito in ogni caso alla fine del try - except>\n",
    "```\n",
    "\n",
    "Vediamo un semplice esempio per dimostrare quanto detto."
   ],
   "cell_type": "markdown",
   "metadata": {}
  },
  {
   "cell_type": "code",
   "execution_count": 35,
   "metadata": {},
   "outputs": [
    {
     "output_type": "stream",
     "name": "stdout",
     "text": [
      "Non hai inserito un intero!\n",
      "Riprova...\n",
      "Non hai inserito un intero!\n",
      "Riprova...\n",
      "Hai inserito un intero, bravo!\n"
     ]
    }
   ],
   "source": [
    "while True:\n",
    "    try:\n",
    "        num = int(input(\"Inserisci un intero: \"))\n",
    "    except ValueError:\n",
    "        print(\"Non hai inserito un intero!\")\n",
    "        print(\"Riprova...\")\n",
    "    else:\n",
    "        print(\"Hai inserito un intero, bravo!\")\n",
    "        break"
   ]
  },
  {
   "source": [
    "La struttura degli errori basata su classi abbiamo capito che è altamente estendibile. Infatti essa ci permette addirittura di definire delle eccezzioni definite dal programmatore stesso. Essa dovrà quindi essere una sottoclasse della classe padre Exception ed essere definita come segue."
   ],
   "cell_type": "markdown",
   "metadata": {}
  },
  {
   "cell_type": "code",
   "execution_count": 36,
   "metadata": {},
   "outputs": [],
   "source": [
    "class MyError(Exception):\n",
    "    def __init__(self, message=\"It's my error!\", errors=None):\n",
    "        super().__init__(message)\n",
    "        self.errors = errors"
   ]
  },
  {
   "source": [
    "A questo punto possiamo testare la nostra eccezzione appena definita con l'istruzione ```raise```. Essa infatti ci permette di sollevare un'eccezzione manualmente."
   ],
   "cell_type": "markdown",
   "metadata": {}
  },
  {
   "cell_type": "code",
   "execution_count": 37,
   "metadata": {},
   "outputs": [
    {
     "output_type": "error",
     "ename": "MyError",
     "evalue": "It's my error!",
     "traceback": [
      "\u001b[0;31m---------------------------------------------------------------------------\u001b[0m",
      "\u001b[0;31mMyError\u001b[0m                                   Traceback (most recent call last)",
      "\u001b[0;32m<ipython-input-37-6f28808d74c7>\u001b[0m in \u001b[0;36m<module>\u001b[0;34m\u001b[0m\n\u001b[0;32m----> 1\u001b[0;31m \u001b[0;32mraise\u001b[0m \u001b[0mMyError\u001b[0m\u001b[0;34m\u001b[0m\u001b[0;34m\u001b[0m\u001b[0m\n\u001b[0m",
      "\u001b[0;31mMyError\u001b[0m: It's my error!"
     ]
    }
   ],
   "source": [
    "raise MyError"
   ]
  },
  {
   "cell_type": "code",
   "execution_count": 38,
   "metadata": {},
   "outputs": [
    {
     "output_type": "error",
     "ename": "MyError",
     "evalue": "Another error message",
     "traceback": [
      "\u001b[0;31m---------------------------------------------------------------------------\u001b[0m",
      "\u001b[0;31mMyError\u001b[0m                                   Traceback (most recent call last)",
      "\u001b[0;32m<ipython-input-38-c499b14b0407>\u001b[0m in \u001b[0;36m<module>\u001b[0;34m\u001b[0m\n\u001b[0;32m----> 1\u001b[0;31m \u001b[0;32mraise\u001b[0m \u001b[0mMyError\u001b[0m\u001b[0;34m(\u001b[0m\u001b[0;34m\"Another error message\"\u001b[0m\u001b[0;34m)\u001b[0m\u001b[0;34m\u001b[0m\u001b[0;34m\u001b[0m\u001b[0m\n\u001b[0m",
      "\u001b[0;31mMyError\u001b[0m: Another error message"
     ]
    }
   ],
   "source": [
    "raise MyError(\"Another error message\")"
   ]
  },
  {
   "source": [
    "Quando si scrive un codice per la gestione degli errori è possibile voler ottenere specifiche informazioni dall'errore stesso, banalmente per fare del debugging. Per fare ciò si può utilizzare l'istruzione ```as``` segeuita dal nome che vogliamo dare all'istanza dell'eccezzione in questione."
   ],
   "cell_type": "markdown",
   "metadata": {}
  },
  {
   "cell_type": "code",
   "execution_count": 39,
   "metadata": {},
   "outputs": [
    {
     "output_type": "stream",
     "name": "stdout",
     "text": [
      "('Another another error message',)\n",
      "None\n",
      "Traceback (most recent call last):\n",
      "  File \"<ipython-input-39-b88fbf193f56>\", line 4, in <module>\n",
      "    raise MyError(\"Another another error message\")\n",
      "MyError: Another another error message\n"
     ]
    }
   ],
   "source": [
    "import traceback\n",
    "\n",
    "try:\n",
    "    raise MyError(\"Another another error message\")\n",
    "except MyError as instance:\n",
    "    print(instance.args)\n",
    "    print(instance.errors)\n",
    "    traceback.print_exc()"
   ]
  }
 ]
}