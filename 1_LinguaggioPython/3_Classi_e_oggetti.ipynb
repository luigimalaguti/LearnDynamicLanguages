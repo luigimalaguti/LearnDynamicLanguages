{
 "metadata": {
  "language_info": {
   "codemirror_mode": {
    "name": "ipython",
    "version": 3
   },
   "file_extension": ".py",
   "mimetype": "text/x-python",
   "name": "python",
   "nbconvert_exporter": "python",
   "pygments_lexer": "ipython3",
   "version": "3.9.0-final"
  },
  "orig_nbformat": 2,
  "kernelspec": {
   "name": "python3",
   "display_name": "Python 3"
  }
 },
 "nbformat": 4,
 "nbformat_minor": 2,
 "cells": [
  {
   "source": [
    "# Classi e oggetti\n",
    "\n",
    "In questo capitolo approfondiamo le classi e gli oggetti in python. Abbiamo già visto che in python ogni tipo è una classe, incluso i tipi che in altri linguaggi vengono chiamati primitivi come int, float, char e altri.\n",
    "\n",
    "La filosofia in python è che ogni oggetto è un first-class object, ovvero è un oggetto che può essere assegnato a variabili, inserito in liste, salvato nei dizionari, passato come parametro e altre cose.\n",
    "\n",
    "Inizialmente lavoreremo solamente sulle classi, quindi definizioni, attributi ed ereditarietà di esse.  \n",
    "In un secondo momento considereremo il meccanismo di istanziazione delle classi stesse.\n",
    "\n",
    "## Classi predefinite e attributi\n",
    "\n",
    "Abbiamo già detto e ripetuto che int, float, str, list, dict e gli altri sono classi. Queste classi vengono chiamate classi predefinite, un po come chiamavamo gli stessi tipi dn altri linguaggi come tipi primitivi.\n",
    "\n",
    "Ogni classe può avere delle variabili interne, chiamate ```attributi```. Gli attributi sono coppie nome valore, dove il valore è a sua volta un oggetto python. Per accedere ad un attributo di una classe si utilizza la nozione puntata, ovvero qualificando il nome dell'attributo con il riferimento della classe stessa. "
   ],
   "cell_type": "markdown",
   "metadata": {}
  },
  {
   "cell_type": "code",
   "execution_count": 2,
   "metadata": {},
   "outputs": [
    {
     "output_type": "execute_result",
     "data": {
      "text/plain": [
       "<method 'bit_length' of 'int' objects>"
      ]
     },
     "metadata": {},
     "execution_count": 2
    }
   ],
   "source": [
    "int.bit_length"
   ]
  },
  {
   "cell_type": "code",
   "execution_count": 3,
   "metadata": {},
   "outputs": [
    {
     "output_type": "execute_result",
     "data": {
      "text/plain": [
       "<method 'capitalize' of 'str' objects>"
      ]
     },
     "metadata": {},
     "execution_count": 3
    }
   ],
   "source": [
    "str.capitalize"
   ]
  },
  {
   "source": [
    "Come è possibile notare, molti attributi di classe sono appunto funzioni. Le funzioni appartenenti a classi vengono chiamate ```metodi```. Detto ciò, è tutto abbastanza simile a quello che già conosciamo dalla programmazione OO (Object Oriented). Un metodo può ricevere parametri in input e restituire valori in output. Internamente un metodo può avere riferimenti ad un oggetto specifico della stessa classe, ma questo lo approfondiremo tra un po.  \n",
    "Vediamo quindi i due esempi precedenti utilizzati come metodi."
   ],
   "cell_type": "markdown",
   "metadata": {}
  },
  {
   "cell_type": "code",
   "execution_count": 4,
   "metadata": {},
   "outputs": [
    {
     "output_type": "execute_result",
     "data": {
      "text/plain": [
       "8"
      ]
     },
     "metadata": {},
     "execution_count": 4
    }
   ],
   "source": [
    "int.bit_length(128)"
   ]
  },
  {
   "cell_type": "code",
   "execution_count": 5,
   "metadata": {},
   "outputs": [
    {
     "output_type": "execute_result",
     "data": {
      "text/plain": [
       "'Hello world!'"
      ]
     },
     "metadata": {},
     "execution_count": 5
    }
   ],
   "source": [
    "str.capitalize(\"hello world!\")"
   ]
  },
  {
   "source": [
    "## Classi definite da utente\n",
    "\n",
    "Naturalmente in python è possibile definire nuove classi. Vediamo un esempio per comprenderne la sintassi."
   ],
   "cell_type": "markdown",
   "metadata": {}
  },
  {
   "cell_type": "code",
   "execution_count": 14,
   "metadata": {},
   "outputs": [],
   "source": [
    "class Padre:\n",
    "    padre = \"Sono la classe padre\"\n",
    "\n",
    "    def chiSono():\n",
    "        print(\"Sono il padre\")"
   ]
  },
  {
   "source": [
    "Una classe viene definita dall'istruzione ```class``` seguita dal nome di essa. Internamente alla classe è possibile specificare attributi, siano essi variabili come ```padre``` oppure funzioni, metodi, come ```chiSono```.\n",
    "\n",
    "Come abbiamo visto dai precedenti esempi è possibile accedere agli attributi stessi."
   ],
   "cell_type": "markdown",
   "metadata": {}
  },
  {
   "cell_type": "code",
   "execution_count": 15,
   "metadata": {},
   "outputs": [
    {
     "output_type": "execute_result",
     "data": {
      "text/plain": [
       "'Sono la classe padre'"
      ]
     },
     "metadata": {},
     "execution_count": 15
    }
   ],
   "source": [
    "Padre.padre"
   ]
  },
  {
   "cell_type": "code",
   "execution_count": 16,
   "metadata": {},
   "outputs": [
    {
     "output_type": "execute_result",
     "data": {
      "text/plain": [
       "<function __main__.Padre.chiSono()>"
      ]
     },
     "metadata": {},
     "execution_count": 16
    }
   ],
   "source": [
    "Padre.chiSono"
   ]
  },
  {
   "cell_type": "code",
   "execution_count": 17,
   "metadata": {},
   "outputs": [
    {
     "output_type": "stream",
     "name": "stdout",
     "text": [
      "Sono il padre\n"
     ]
    }
   ],
   "source": [
    "Padre.chiSono()"
   ]
  },
  {
   "source": [
    "Python permette l'ereditarietà di classi. Questo vuole dire che una classe figlia può ereditare attributi dalla classe padre."
   ],
   "cell_type": "markdown",
   "metadata": {}
  },
  {
   "cell_type": "code",
   "execution_count": 25,
   "metadata": {},
   "outputs": [],
   "source": [
    "class Figlio(Padre):\n",
    "    figlio = \"Sono la classe figlia\""
   ]
  },
  {
   "cell_type": "code",
   "execution_count": 26,
   "metadata": {},
   "outputs": [
    {
     "output_type": "execute_result",
     "data": {
      "text/plain": [
       "'Sono la classe padre'"
      ]
     },
     "metadata": {},
     "execution_count": 26
    }
   ],
   "source": [
    "Figlio.padre"
   ]
  },
  {
   "cell_type": "code",
   "execution_count": 27,
   "metadata": {},
   "outputs": [
    {
     "output_type": "execute_result",
     "data": {
      "text/plain": [
       "'Sono la classe figlia'"
      ]
     },
     "metadata": {},
     "execution_count": 27
    }
   ],
   "source": [
    "Figlio.figlio"
   ]
  },
  {
   "source": [
    "Figlio.chiSono"
   ],
   "cell_type": "code",
   "metadata": {},
   "execution_count": 28,
   "outputs": [
    {
     "output_type": "execute_result",
     "data": {
      "text/plain": [
       "<function __main__.Padre.chiSono()>"
      ]
     },
     "metadata": {},
     "execution_count": 28
    }
   ]
  },
  {
   "cell_type": "code",
   "execution_count": 29,
   "metadata": {},
   "outputs": [
    {
     "output_type": "stream",
     "name": "stdout",
     "text": [
      "Sono il padre\n"
     ]
    }
   ],
   "source": [
    "Figlio.chiSono()"
   ]
  },
  {
   "source": [
    "## Ereditarietà\n",
    "\n",
    "L'ereditarietà avviene specificando dopo il nome della classe, tutti i nomi separati da virgole delle classi da cui vogliamo ereditare gli attributi, racchiusi in parentesi tonde.\n",
    "\n",
    "L'ereditarietà porta con se un concetto simile all'```override```, chiamato così da altri linguaggi OO come Java.  \n",
    "Se la classe ```Figlio``` implementasse il metodo ```chiSono```, il metodo stesso cambia il proprio comportamente rispetto al metodo ```chiSono``` della classe padre."
   ],
   "cell_type": "markdown",
   "metadata": {}
  },
  {
   "cell_type": "code",
   "execution_count": 30,
   "metadata": {},
   "outputs": [],
   "source": [
    "class Figlio(Padre):\n",
    "    figlio = \"Sono la classe figlia\"\n",
    "\n",
    "    def chiSono():\n",
    "        print(\"Sono il figlio\")"
   ]
  },
  {
   "cell_type": "code",
   "execution_count": 31,
   "metadata": {},
   "outputs": [
    {
     "output_type": "stream",
     "name": "stdout",
     "text": [
      "Sono il figlio\n"
     ]
    }
   ],
   "source": [
    "Figlio.chiSono()"
   ]
  },
  {
   "source": [
    "La classe ```Padre``` viene chiamata superclasse, mentre la classe ```Figlio``` viene chiamata sottoclasse.\n",
    "\n",
    "Ora, immaginiamo di volere riscrivere il metodo chiSono in maniera più sensata, ovvero stampando l'attributo della classe."
   ],
   "cell_type": "markdown",
   "metadata": {}
  },
  {
   "cell_type": "code",
   "execution_count": 32,
   "metadata": {},
   "outputs": [],
   "source": [
    "class Padre:\n",
    "    padre = \"Sono la classe padre\"\n",
    "\n",
    "    def chiSono():\n",
    "        print(padre)"
   ]
  },
  {
   "cell_type": "code",
   "execution_count": 33,
   "metadata": {},
   "outputs": [],
   "source": [
    "class Figlio(Padre):\n",
    "    figlio = \"Sono la classe figlia\"\n",
    "\n",
    "    def chiSono():\n",
    "        print(figlio)"
   ]
  },
  {
   "cell_type": "code",
   "execution_count": 34,
   "metadata": {},
   "outputs": [
    {
     "output_type": "error",
     "ename": "NameError",
     "evalue": "name 'padre' is not defined",
     "traceback": [
      "\u001b[0;31m---------------------------------------------------------------------------\u001b[0m",
      "\u001b[0;31mNameError\u001b[0m                                 Traceback (most recent call last)",
      "\u001b[0;32m<ipython-input-34-d6b5206cc020>\u001b[0m in \u001b[0;36m<module>\u001b[0;34m\u001b[0m\n\u001b[0;32m----> 1\u001b[0;31m \u001b[0mPadre\u001b[0m\u001b[0;34m.\u001b[0m\u001b[0mchiSono\u001b[0m\u001b[0;34m(\u001b[0m\u001b[0;34m)\u001b[0m\u001b[0;34m\u001b[0m\u001b[0;34m\u001b[0m\u001b[0m\n\u001b[0m",
      "\u001b[0;32m<ipython-input-32-6cb1e5005c92>\u001b[0m in \u001b[0;36mchiSono\u001b[0;34m()\u001b[0m\n\u001b[1;32m      3\u001b[0m \u001b[0;34m\u001b[0m\u001b[0m\n\u001b[1;32m      4\u001b[0m     \u001b[0;32mdef\u001b[0m \u001b[0mchiSono\u001b[0m\u001b[0;34m(\u001b[0m\u001b[0;34m)\u001b[0m\u001b[0;34m:\u001b[0m\u001b[0;34m\u001b[0m\u001b[0;34m\u001b[0m\u001b[0m\n\u001b[0;32m----> 5\u001b[0;31m         \u001b[0mprint\u001b[0m\u001b[0;34m(\u001b[0m\u001b[0mpadre\u001b[0m\u001b[0;34m)\u001b[0m\u001b[0;34m\u001b[0m\u001b[0;34m\u001b[0m\u001b[0m\n\u001b[0m",
      "\u001b[0;31mNameError\u001b[0m: name 'padre' is not defined"
     ]
    }
   ],
   "source": [
    "Padre.chiSono()"
   ]
  },
  {
   "cell_type": "code",
   "execution_count": 35,
   "metadata": {},
   "outputs": [
    {
     "output_type": "error",
     "ename": "NameError",
     "evalue": "name 'figlio' is not defined",
     "traceback": [
      "\u001b[0;31m---------------------------------------------------------------------------\u001b[0m",
      "\u001b[0;31mNameError\u001b[0m                                 Traceback (most recent call last)",
      "\u001b[0;32m<ipython-input-35-ce60bcb5ae80>\u001b[0m in \u001b[0;36m<module>\u001b[0;34m\u001b[0m\n\u001b[0;32m----> 1\u001b[0;31m \u001b[0mFiglio\u001b[0m\u001b[0;34m.\u001b[0m\u001b[0mchiSono\u001b[0m\u001b[0;34m(\u001b[0m\u001b[0;34m)\u001b[0m\u001b[0;34m\u001b[0m\u001b[0;34m\u001b[0m\u001b[0m\n\u001b[0m",
      "\u001b[0;32m<ipython-input-33-c725dcffb6d2>\u001b[0m in \u001b[0;36mchiSono\u001b[0;34m()\u001b[0m\n\u001b[1;32m      3\u001b[0m \u001b[0;34m\u001b[0m\u001b[0m\n\u001b[1;32m      4\u001b[0m     \u001b[0;32mdef\u001b[0m \u001b[0mchiSono\u001b[0m\u001b[0;34m(\u001b[0m\u001b[0;34m)\u001b[0m\u001b[0;34m:\u001b[0m\u001b[0;34m\u001b[0m\u001b[0;34m\u001b[0m\u001b[0m\n\u001b[0;32m----> 5\u001b[0;31m         \u001b[0mprint\u001b[0m\u001b[0;34m(\u001b[0m\u001b[0mfiglio\u001b[0m\u001b[0;34m)\u001b[0m\u001b[0;34m\u001b[0m\u001b[0;34m\u001b[0m\u001b[0m\n\u001b[0m",
      "\u001b[0;31mNameError\u001b[0m: name 'figlio' is not defined"
     ]
    }
   ],
   "source": [
    "Figlio.chiSono()"
   ]
  },
  {
   "source": [
    "Entrambi i metodi ci danno un errore. Python ci dice che gli attributi non sono definiti. Cosa strana...\n",
    "\n",
    "Python ci restiruisce questo errore perchè l'attributo che chiamiamo nel metodo non è qualificato, non ha riferimenti della classe stessa. Infatti python procede con la regola LEGB e quindi andrà a cercare inizialmente dentro il metodo, local, poi nell'enclosing, non presente in questo caso, successivamente nel global e nel built-in.\n",
    "\n",
    "Proviamo a vedere il procedimento che adotta python."
   ],
   "cell_type": "markdown",
   "metadata": {}
  },
  {
   "cell_type": "code",
   "execution_count": 36,
   "metadata": {},
   "outputs": [],
   "source": [
    "class Padre:\n",
    "    padre = \"Sono la classe padre\"\n",
    "\n",
    "    def chiSono():\n",
    "        # Local\n",
    "        padre = \"Padre\"\n",
    "        print(padre)"
   ]
  },
  {
   "cell_type": "code",
   "execution_count": 37,
   "metadata": {},
   "outputs": [
    {
     "output_type": "stream",
     "name": "stdout",
     "text": [
      "Padre\n"
     ]
    }
   ],
   "source": [
    "Padre.chiSono()"
   ]
  },
  {
   "cell_type": "code",
   "execution_count": 38,
   "metadata": {},
   "outputs": [],
   "source": [
    "# Global\n",
    "padre = \"Padre\"\n",
    "\n",
    "class Padre:\n",
    "    padre = \"Sono la classe padre\"\n",
    "\n",
    "    def chiSono():\n",
    "        print(padre)"
   ]
  },
  {
   "cell_type": "code",
   "execution_count": 39,
   "metadata": {},
   "outputs": [
    {
     "output_type": "stream",
     "name": "stdout",
     "text": [
      "Padre\n"
     ]
    }
   ],
   "source": [
    "Padre.chiSono()"
   ]
  },
  {
   "source": [
    "Funzionano entrambe. Dobbiamo quindi legare l'attributo della classe alla variabile utilizzata all'interno del metodo.  \n",
    "Per fare ciò possiamo utilizzare la nozione puntata."
   ],
   "cell_type": "markdown",
   "metadata": {}
  },
  {
   "cell_type": "code",
   "execution_count": 40,
   "metadata": {},
   "outputs": [],
   "source": [
    "class Padre:\n",
    "    padre = \"Sono la classe padre\"\n",
    "\n",
    "    def chiSono():\n",
    "        print(Padre.padre)"
   ]
  },
  {
   "cell_type": "code",
   "execution_count": 41,
   "metadata": {},
   "outputs": [
    {
     "output_type": "stream",
     "name": "stdout",
     "text": [
      "Sono la classe padre\n"
     ]
    }
   ],
   "source": [
    "Padre.chiSono()"
   ]
  },
  {
   "source": [
    "E facendo ciò, python capisce che la variabile padre è l'attributo padre della classe Padre.\n",
    "\n",
    "Nelle classi in python, i metodi, seppur inseriti all'interno di classi, hanno una loro vita a se stante, non hanno nessun riferimento nella classe in cui sono inserite. Infatti potrebbero benissimo essere definite all'esterno del namespace della classe ed essere successivamente inserite all'interno di essa.  \n",
    "Per legare i metodi alle classi abbiamo bisogno di dare a python dei riferiemnti espliciti, come nell'esempio sopra.\n",
    "\n",
    "Nel caso in cui un attributo non venga trovato nella classe corrente, python passa alla ricerca nella eventuale superclasse per cercarlo."
   ],
   "cell_type": "markdown",
   "metadata": {}
  },
  {
   "cell_type": "code",
   "execution_count": 42,
   "metadata": {},
   "outputs": [],
   "source": [
    "class Figlio(Padre):\n",
    "    figlio = \"Sono la classe padre\""
   ]
  },
  {
   "cell_type": "code",
   "execution_count": 43,
   "metadata": {},
   "outputs": [
    {
     "output_type": "stream",
     "name": "stdout",
     "text": [
      "Sono la classe padre\n"
     ]
    }
   ],
   "source": [
    "Figlio.chiSono()"
   ]
  },
  {
   "cell_type": "code",
   "execution_count": 48,
   "metadata": {},
   "outputs": [],
   "source": [
    "class Figlio(Padre):\n",
    "    figlio = \"Sono la classe figlia\"\n",
    "\n",
    "    def chiSono():\n",
    "        print(Figlio.figlio)"
   ]
  },
  {
   "cell_type": "code",
   "execution_count": 49,
   "metadata": {},
   "outputs": [
    {
     "output_type": "stream",
     "name": "stdout",
     "text": [
      "Sono la classe figlia\n"
     ]
    }
   ],
   "source": [
    "Figlio.chiSono()"
   ]
  },
  {
   "source": [
    "## Ereditarietà multipla\n",
    "\n",
    "Nel caso di ereditarietà singola, la ricerca dell'attributo viene effettuata nella classe corrente per poi passare all'unica classe padre, la classe ```object```.  \n",
    "La classe objcet è la superclasse di qualsiasi classe in python, anche delle predefinite come int, str...  \n",
    "Quindi la ricerca di un attributo in classi con una sola superclasse è una ricerca lineare.\n",
    "\n",
    "Nel caso di ereditarieà multipla, la ricerca dell'attributo avviene nella classe corrente e poi passa a cercare in ogni superclasse e se non trovata, si arriva fino alla classe object.\n",
    "\n",
    "Python utilizza il ```MRO```, ```Method Resolution Order```, per la ricerca di attributi nelle classi.  \n",
    "L'ereditarietà multipla implica una ricerca non lineare. Essa forma un ```Directed Acyclic Graph```, ```DAG```. L'interprete deve cercare quindi di linearizzare le classi che formano i vertici di tale grafo ed è proprio quello che fa il MRO.\n",
    "\n",
    "Facciamo un esempio."
   ],
   "cell_type": "markdown",
   "metadata": {}
  },
  {
   "cell_type": "code",
   "execution_count": 51,
   "metadata": {},
   "outputs": [],
   "source": [
    "class D: pass\n",
    "class E: pass\n",
    "class A(D): pass\n",
    "class B(E): pass\n",
    "class C(A, D, B): pass"
   ]
  },
  {
   "source": [
    "![Image 1](images/image-1.png)\n",
    "\n",
    "L'ordine di ricerca seguito dall'interprete può essere visualizzato usando il metodo ```mro```."
   ],
   "cell_type": "markdown",
   "metadata": {}
  },
  {
   "cell_type": "code",
   "execution_count": 52,
   "metadata": {},
   "outputs": [
    {
     "output_type": "execute_result",
     "data": {
      "text/plain": [
       "[__main__.C, __main__.A, __main__.D, __main__.B, __main__.E, object]"
      ]
     },
     "metadata": {},
     "execution_count": 52
    }
   ],
   "source": [
    "C.mro()"
   ]
  },
  {
   "source": [
    "Un qualsiasi accesso ad un attributo C.x può quindi riferirsi ad una qualsiasi superclasse A, D, B e in modo ricorsivo anche a E e object.\n",
    "\n",
    "Dunque, l'interprete linearizza le superclassi di C in modo da avere un ordine lineare per ricercare gli attributi richiesti.\n",
    "\n",
    "Ma come lavora il MRO per linearizzare l'ereditarietà delle superclassi? Ora proviamo a spiegarlo.\n",
    "\n",
    "> Il documento ufficiale Python che spiega il MRO è il seguente: [The Python 2.3 Method Resolution Order](https://www.python.org/download/releases/2.3/mro/)\n",
    "\n",
    "Diamo un paio di nozioni sintattiche:\n",
    "\n",
    "- $G_C$ indica il grafo rispetto una generica classe $C$, cioè il grafo costituito da tutti e i soli vertici raggiungibili dalla classe $C$\n",
    "- $L(C)$ indica la linearizzazione del grafo $G_C$ e viene rappresentata come una lista di classi $L(C) = C, C_1, C_2, ..., C_k$, dove $C$ è la testa della linearizzazione e $C_1, ..., C_k$ è la coda\n",
    "- $L_1, ..., L_k$ indica una lista di linearizzazioni\n",
    "\n",
    "Il processo di linearizzazione deve soddisfare due proprietà:\n",
    "\n",
    "1. Monotonicità\n",
    "\n",
    "    Se una classe $C_1$ precede la classe $C_2$ nella linearizzazione di $C$, allora $C_1$ precede $C_2$ nella linearizzazione di ogni sottoclasse di $C$\n",
    "\n",
    "2. Regola della precedenza locale\n",
    "\n",
    "    L'ordine di classi base presnti nella definizione di una classe $C$ è previsto nella linearizzazione del grafo $G_C$\n",
    "\n",
    "La linearizzazione viene eseguita seguendo un ordine ```depth-first left-to-right``` del grafo.\n",
    "\n",
    "Algoritmo di linearizzazione:\n",
    "\n",
    "1. Se $C$ è la classe object, alloca $L(C) = object$\n",
    "2. Se $C$ ha classi base $C_1, ..., C_k$, allora $L(C) = C + merge(L_{C_1}, ..., L_{C_k}, C_1...C_k)$, dove $C_1...C_k$ è la lista con tutte le tese delle varie liste\n",
    "\n",
    "Calcolo di $M = merge(L_1, ..., L_k)$\n",
    "\n",
    "1. $M = []$\n",
    "2. $i = 0$\n",
    "3. incremento $i$\n",
    "4. Se $i = 0$\n",
    "    - Restituisco $M$\n",
    "5. Fintanto che $i \\neq 0$ e la testa $L_i[0]$ della lista $i$ compare nella coda di qualche altra lista\n",
    "    - Allora incremento $i$\n",
    "6. Se $i = 0$\n",
    "    - stop, la linearizzazione non è possibile\n",
    "7. Altrimenti ho trovato una buona testa:\n",
    "    - Pongo $M = M + L_i[0]$\n",
    "    - Rimuovo $L_i[0]$ da tutte le teste di altre liste\n",
    "    - Ritorniamo al passo 2\n",
    "\n",
    "Per comprendere il calcolo del merge, ho provato a scrivere un pseudo codice per cercare di capire al meglio l'algoritmo utilizzato.\n",
    "\n",
    "> Questo pseudo codice sicuramente non è ottimizzato per bene e molto probabilmente ci sono passaggi non necessari al fine dell'algoritmo. Mi serviva per cercare di fare un semplice programma Python che mi consentisse di analizzare meglio l'algoritmo stesso.  \n",
    "Nel caso interessasse dare un occhiata al programma scritto di getto e non ottimizzato, è possibile trovarlo a questo link, [mro-python](https://github.com/luigimalaguti/mro-python) (forse in futuro, con molta voglia e volontà, metterò a posto l'algoritmo).\n",
    "\n",
    "```\n",
    "imposto M come lista vuota\n",
    "ciclo:\n",
    "    imposto i a 0\n",
    "    se tutte le L(j) sono liste vuote:\n",
    "        fermati\n",
    "    finchè L(i)[0] è presente nella coda delle altre L(j):\n",
    "        se i è diverso da k:\n",
    "            incrementa i di 1\n",
    "        altrimenti:\n",
    "            ritorna un errore\n",
    "    se i è uguale a k:\n",
    "        fermati\n",
    "    altrimenti:\n",
    "        concatena L(i)[0] a M\n",
    "        rimuovi L(i)[0] da tutte le teste\n",
    "ritorna M\n",
    "```\n",
    "\n",
    "Proiamo ad utilizzarlo in un esempio."
   ],
   "cell_type": "markdown",
   "metadata": {}
  },
  {
   "cell_type": "code",
   "execution_count": 1,
   "metadata": {},
   "outputs": [],
   "source": [
    "class F: pass\n",
    "class E: pass\n",
    "class D: pass\n",
    "class C(D, F): pass\n",
    "class B(D, E): pass\n",
    "class A(B, C): pass"
   ]
  },
  {
   "source": [
    "![Image 2](images/image-2.png)"
   ],
   "cell_type": "markdown",
   "metadata": {}
  },
  {
   "source": [
    "Vogliamo ottenere la linearizzazione delle classi rispetto alla classe A.\n",
    "\n",
    "Per fare ciò, il secondo punto dell'algoritmo ci dice che la linearizzazione è la concatenazione della classe A con il merge delle linearizzazioni delle classi base, ovvero le classi vertice di A, quindi B e C.\n",
    "\n",
    "Per comprendere l'ordine delle linearizzazioni, dalla seonda proprietà della linearizzazione, sappiamo che l'ordine è dato dal grafo $G_A$, ovvero depth-first left-to-right. Segue che la linearizzazione risulta come $L(A) = A + merge \\left (L(B), L(C), BC \\right )$.\n",
    "\n",
    "A questo punto, prima di procedere con il calcolo del merge, dobbiamo individuare le linearizzazioni di B e di C, altrimenti non riusciamo a calcolare il merge. Detto ciò, procediamo come i precedenti passi che risulteranno semplici ed immediati per queste due classi. Avremo quindi i seguenti risultati:\n",
    "\n",
    "- $L(B) = B + merge \\left (L(D), L(E), DE \\right ) = B + merge \\left (DO, EO, DE \\right ) = BDEO$\n",
    "- $L(C) = C + merge \\left (L(D), L(F), DF \\right ) = C + merge \\left (DO, FO, DF \\right ) = CDFO$.\n",
    "\n",
    "Sotituiamo questi risultati nella linearizzazione di A e otteniamo $L(A) = A + merge \\left ( BDEO, CDFO, BC \\right )$.\n",
    "\n",
    "L'ultimo passaggio è appunto il calcolo del merge.\n",
    "\n",
    "Proviamo a seguire i passaggi e l'algoritmo. Iniziamo con la prima lista del merge, $BDEO$. Prendiamo la testa di essa, $B$, e controlliamo che non sia presente nelle code delle liste restanti, ovvero \"DFO\" e $C$.\n",
    "\n",
    "La classe B non risulta nelle code, quindi possiamo rimuoverla da tutte le teste delle altre liste e considerarla una buona testa. A questo punto concateniamo la classe B alla linearizzazione iniziale ottenendo $L(A) = AB + merge \\left ( DEO, CDFO, C \\right )$.\n",
    "\n",
    "Ora ripetiamo lo stesso ragionamento sempre sulla testa della prima lista, ovvero consideriamo la classe D della lista $DEO$. Valutiamo le code delle liste restanti e questa volta notiamo che la classe D è presente nella coda della lista $CDFO$, ovvero in $DFO$. Concludiamo che la classe D non è attualmente una buona testa e passiamo a valutare questa volta la lista successiva, $CDFO$.\n",
    "\n",
    "Ripetiamo ancora una volta il procedimento. Consideriamo la testa C della lista $CDFO$. Essa non risulta in code di altre liste e quindi è una buona testa. La rimuoviamo dalle teste e la concateniamo. Abbiamo $L(A) = ABC + merge \\left ( DEO, DFO, [] \\right )$.\n",
    "\n",
    "Notiamo che a questo punto una delle liste è diventata vuota. Possiamo quindi non considerarla più e riscrivere come segue $L(A) = ABC + merge \\left ( DEO, DFO \\right )$.  \n",
    "Ripetiamo ora il gioco per la classe D della prima lista. Essa non compare nella coda della restante lista e quindi possiamo rimuovere le teste e concatenare, $L(A) = ABCD + merge \\left ( EO, FO \\right )$.\n",
    "\n",
    "Nuovamente lo stesso procedimento per E, che risulterà una buona testa e successivamente con F, anch'essa una buona testa. Rimaniamo con la seguente linearizzazione $L(A) = ABCDF + merge \\left ( O, O \\right )$.\n",
    "\n",
    "A questo punto risulta banale, O è una buona testa e otteniamo la linearizzazione finale $L(A) = ABCDEFO$.\n",
    "\n",
    "Abbiamo concluso il Method Resolution Order manualmente. Ora che abbiamo capito come funziona, possiamo lasciare tutti i meriti a python per la risoluzione delle linearizzazioni perchè farlo a mano diventa una cosa impensabile."
   ],
   "cell_type": "markdown",
   "metadata": {}
  },
  {
   "cell_type": "code",
   "execution_count": 2,
   "metadata": {},
   "outputs": [
    {
     "output_type": "execute_result",
     "data": {
      "text/plain": [
       "[__main__.A,\n",
       " __main__.B,\n",
       " __main__.C,\n",
       " __main__.D,\n",
       " __main__.E,\n",
       " __main__.F,\n",
       " object]"
      ]
     },
     "metadata": {},
     "execution_count": 2
    }
   ],
   "source": [
    "A.mro()"
   ]
  },
  {
   "source": [
    "## Istanziazione di una classe\n",
    "\n",
    "È arrivato il momento di capire come funziona il meccanismo di istanziazione di una classe, ovvero il processo di base al quale si creano oggetti il cui tipo è quella classe.  \n",
    "Questo processo avviene utilizzando la classe come fosse una funzione. Vediamo un esempio."
   ],
   "cell_type": "markdown",
   "metadata": {}
  },
  {
   "cell_type": "code",
   "execution_count": 2,
   "metadata": {},
   "outputs": [
    {
     "output_type": "stream",
     "name": "stdout",
     "text": [
      "<class '__main__.MyClass'>\n"
     ]
    }
   ],
   "source": [
    "class MyClass:\n",
    "    pass\n",
    "\n",
    "myClass = MyClass()\n",
    "\n",
    "print(type(myClass))"
   ]
  },
  {
   "source": [
    "Il processo più in dettaglio dell'istanziazione di una classe può essere suddiviso in più fasi.\n",
    "\n",
    "Per svolgere queste fasi, python utilizza dei metodi speciali, ```__new___``` e ```__init__```. Solitamente i metodi che iniziano e finiscono con il doppio trattino basso ```__``` sono considerati metodi utilizzati esclusivamente dall'interprete, anche se rimane possibile a discrezione del programmatore definire metodi con i doppi trattini bassi.\n",
    "\n",
    "Lo schema generale che segue un interprete python per istanziare una classe è il seguente.\n",
    "\n",
    "![Image 3](images/image-3.jpg)\n",
    "\n",
    "Ogni volta che python trova la dichiarazione ```ClasseGenerica()```, viene chiamato l'interprete che avrà il compito di chiamare il metodo __new__ sulla classe stessa. Il metodo __new__ non è necessario definirlo esplicitamente. Il compito è quello di allocare in memoria lo spazio necessario per l'oggetto che verrà poi generato dall'interprete stesso. Quindi, se non dichiarato, l'interprete andrà a chiamare __new__ sulla superclasse, ```super().__new__```, finchè non arriva alla superclasse che lo definisce, solitamente la classe object.\n",
    "\n",
    "Successivamente, super().__new__ ritorna all'interprete un'istanza di un oggetto salvato nella memoria disposta per esso. Questa istanza che rappresenta l'oggetto in memoria è definita come ```self```.\n",
    "\n",
    "L'interprete a questo punto, con l'istanza self, può chiamare il metodo __init__ definito questa volta obbligatoriamente sulla classe in questione, passandone tutti i parametri necessari per potere inizializzare l'oggetto.\n",
    "\n",
    "Il metodo __init__ ritornerà quindi all'interprete un'istanza di un oggetto della classe iniziale, contenente tutti gli attributi richiesti dalla classe.\n",
    "\n",
    "Abbiamo istanziato un oggetto!  \n",
    "La dichiarazione self è molto importante perchè permette di fare riferimento agli attributi su un determinato oggetto in memoria, ovvero l'oggetto puntato da self.\n",
    "\n",
    "Vediamo un esempio di istanziazione di una classe e di utilizzo di self."
   ],
   "cell_type": "markdown",
   "metadata": {}
  },
  {
   "cell_type": "code",
   "execution_count": 3,
   "metadata": {},
   "outputs": [],
   "source": [
    "class Person:\n",
    "    def __init__(self, name):\n",
    "        self.name = name\n",
    "\n",
    "    def get_name(self):\n",
    "        return self.name\n",
    "\n",
    "    def set_name(self, name):\n",
    "        self.name = name"
   ]
  },
  {
   "cell_type": "code",
   "execution_count": 11,
   "metadata": {},
   "outputs": [
    {
     "output_type": "stream",
     "name": "stdout",
     "text": [
      "Luca\nFrancesco\n"
     ]
    }
   ],
   "source": [
    "person = Person(\"Luca\")\n",
    "\n",
    "print(person.get_name())\n",
    "\n",
    "person.set_name(\"Francesco\")\n",
    "\n",
    "print(person.get_name())"
   ]
  },
  {
   "source": [
    "La prima cosa che notiamo è che il metodo __new__ non è stato definito. Infatti, in questo caso, verrà chiamato il metodo __new__ della classe object.\n",
    "\n",
    "La seconda cose da notare è che ogni metodo o attributo è acceduto tramite il riferimento self, infatti self indica un determinato oggetto di una data classe. È possibile avere più oggetti della stessa classe, ogniuno di questi oggetti ha il proprio self su cui avere i propri attributi differenti da altri oggetti, seppur della stessa classe.\n",
    "\n",
    "La terza cosa da notare è che ogni metodo ha bisogno di self come parametro. Seppur il parametro self non viene mai passato nel programma principale, serve per python a comprendere con quale oggetto stiamo interagendo. Sostanzialmente è analogo alla seguente scrittura:"
   ],
   "cell_type": "markdown",
   "metadata": {}
  },
  {
   "cell_type": "code",
   "execution_count": 7,
   "metadata": {},
   "outputs": [
    {
     "output_type": "stream",
     "name": "stdout",
     "text": [
      "Patrizia\n"
     ]
    }
   ],
   "source": [
    "person = Person(\"Patrizia\")\n",
    "\n",
    "print(Person.get_name(person))"
   ]
  },
  {
   "source": [
    "Questo ultimo esempio è possibile grazie alla tipizzazione utilizzata in python, chiamata ```duck typing``` e che vedremo in seguito.\n",
    "\n",
    "In python è da precisare che non esistono scope per gli attributi e i metodi. Un linguaggio OO come Java aveva le istruzioni ```private```, ```protected```, ```public```, ```static```, python non ha nessuna istruzione analoga. Anzi, ci verrebbe da dire che in python tutti gli attributi siano statici, ma non è esattamente corrette. Python non fa distinzione in statici, pubblici o privati, semplicemente li considera come attributi di classe o di oggetto.\n",
    "\n",
    "Python utilizza una gestione della memoria dinamica, ciò permette di tenere in memoria classi per un utilizzo futuro. Vediamo un esempio."
   ],
   "cell_type": "markdown",
   "metadata": {}
  },
  {
   "cell_type": "code",
   "execution_count": 1,
   "metadata": {},
   "outputs": [
    {
     "output_type": "stream",
     "name": "stdout",
     "text": [
      "Hello\n"
     ]
    }
   ],
   "source": [
    "class Hello:\n",
    "    hello = \"Hello\"\n",
    "\n",
    "hello = Hello()\n",
    "print(hello.hello)"
   ]
  },
  {
   "cell_type": "code",
   "execution_count": 2,
   "metadata": {},
   "outputs": [],
   "source": [
    "class Hello:\n",
    "    hello = \"Hi\""
   ]
  },
  {
   "cell_type": "code",
   "execution_count": 3,
   "metadata": {},
   "outputs": [
    {
     "output_type": "stream",
     "name": "stdout",
     "text": [
      "Hello\n"
     ]
    }
   ],
   "source": [
    "print(hello.hello)"
   ]
  },
  {
   "source": [
    "Questa cosa può risultare strana perchè tra un print ed un altro, la classe Hello è stata ridefinita. Ma l'oggetto hello è della classe Hello iniziale, la prima definita, e quindi grazie alla gestione della memoria dinamica python riesce a risalire ad essa seppur sia stata ridefinita.\n",
    "\n",
    "Inoltre, è possibile riottenere un riferimento alla classe Hello iniziale senza dover per forza ridefinirla."
   ],
   "cell_type": "markdown",
   "metadata": {}
  },
  {
   "cell_type": "code",
   "execution_count": 6,
   "metadata": {},
   "outputs": [
    {
     "output_type": "stream",
     "name": "stdout",
     "text": [
      "<class '__main__.Hello'>\nHello\n"
     ]
    }
   ],
   "source": [
    "HelloOld = hello.__class__\n",
    "\n",
    "hello_old = HelloOld()\n",
    "\n",
    "print(type(hello_old))\n",
    "print(hello_old.hello)"
   ]
  },
  {
   "source": [
    "## Naming convention\n",
    "\n",
    "Abbiamo detto che in python non esistono modi per definire attributi o variabili come privati. Sostanzialmente è possibile considerarli tutti come pubblici.\n",
    "\n",
    "Per sopperire a ciò, il ```PEP 8```, ```Python Enhacement Proposal 8```, ha dato alcune linee guida sulla convenzione della nomenclatura degli attributi, in modo da avere una sorta di dizionario comune.\n",
    "\n",
    "- I nomi che iniziano con un trattino basso, ```_attr```, vengono considerati come indicatore, seppur debole, di uso riseervato dell'attributo o del metodo.\n",
    "- I nomi che iniziano con un doppio trattino basso, ```__attr```, vengono chiamate ```name mangling``` perchè per utilizzarle all'esterno della classe la scrittura è più complicata, ovvero ```_Class__attr```.\n",
    "- I nomi che iniziano e finiscono con un doppio trattino basso, ```__attr__```, come abbiamo già visto sono considerati nomi riservati al linguaggio python, anche se possibile comunque definirle.\n",
    "\n",
    "Vediamo un esempio di classe contenente tutte queste convention."
   ],
   "cell_type": "markdown",
   "metadata": {}
  },
  {
   "cell_type": "code",
   "execution_count": 1,
   "metadata": {},
   "outputs": [],
   "source": [
    "class A:\n",
    "    # Ricordiamoci che le variabili vengono considerate pubbliche o private\n",
    "    # Dallo sviluppatore, python non fa distinzioni\n",
    "    var = \"Analogia con una variabile pubblica e statica\" \n",
    "    _var = \"Analogia con una variabile privata, seppur debole come scrittua\"\n",
    "    __var = \"Analogia con una variabile privata, scrittura più forte\"\n",
    "\n",
    "    def __init__(self):\n",
    "        self.ogg = \"Analogia con una variabile oggetto privata\""
   ]
  },
  {
   "cell_type": "code",
   "execution_count": 3,
   "metadata": {},
   "outputs": [],
   "source": [
    "a = A()"
   ]
  },
  {
   "cell_type": "code",
   "execution_count": 13,
   "metadata": {},
   "outputs": [
    {
     "output_type": "stream",
     "name": "stdout",
     "text": [
      "Analogia con una variabile pubblica e statica\nAnalogia con una variabile privata, seppur debole come scrittua\nAnalogia con una variabile privata, scrittura più forte\nAccesso solamente tramite name mangling\nAnalogia con una variabile oggetto privata\n"
     ]
    }
   ],
   "source": [
    "print(a.var)\n",
    "print(a._var)\n",
    "print(a._A__var)\n",
    "try:\n",
    "    print(a.__var)\n",
    "except:\n",
    "    print(\"Accesso solamente tramite name mangling\")\n",
    "print(a.ogg)"
   ]
  },
  {
   "source": [
    "Una nota importante riguarda il name mangling. Esso è una sorta di meccanismo per cercare di rendere privato un attributo che in realtà non lo è.  \n",
    "Quando si utilizza il doppio trattino basso per definire attributi bisogna stare attenti al dove viene definito, se come attributo di classe o di oggetto.\n",
    "\n",
    "Proviamo a ridefinire leggermente la classe A."
   ],
   "cell_type": "markdown",
   "metadata": {}
  },
  {
   "cell_type": "code",
   "execution_count": 14,
   "metadata": {},
   "outputs": [],
   "source": [
    "class A:\n",
    "    # Ricordiamoci che le variabili vengono considerate pubbliche o private\n",
    "    # Dallo sviluppatore, python non fa distinzioni\n",
    "    var = \"Analogia con una variabile pubblica e statica\" \n",
    "    _var = \"Analogia con una variabile privata, seppur debole come scrittua\"\n",
    "    __var = \"Analogia con una variabile privata, attributo di classe\"\n",
    "\n",
    "    def __init__(self):\n",
    "        self.ogg = \"Analogia con una variabile oggetto privata\"\n",
    "        self.__var = \"Analogia con una variabile privata, attributo d'oggetto\""
   ]
  },
  {
   "cell_type": "code",
   "execution_count": 15,
   "metadata": {},
   "outputs": [],
   "source": [
    "a = A()"
   ]
  },
  {
   "cell_type": "code",
   "execution_count": 16,
   "metadata": {},
   "outputs": [
    {
     "output_type": "stream",
     "name": "stdout",
     "text": [
      "Analogia con una variabile privata, attributo d'oggetto\nAnalogia con una variabile privata, attributo di classe\n"
     ]
    }
   ],
   "source": [
    "print(a._A__var)\n",
    "print(A._A__var)"
   ]
  },
  {
   "source": [
    "Come si nota dalle print, si ottengono due output diversi. Questo perchè python fa riferimento rispettivamente ad ```a``` ed a ```A``` e quindi il name mangling viene fatto prima sull'attributo di classe e dopo sull'attributo dell'oggetto, riconosciuto dall'utilizzo di self."
   ],
   "cell_type": "markdown",
   "metadata": {}
  },
  {
   "source": [
    "## Inserimento nuove variabili\n",
    "\n",
    "In python è possibile addirittura definire attributi di oggetti a tempo di esecuzione.\n",
    "\n",
    "Consideriamo l'oggett ```a``` appena istanziato. Esso non possiede nessun attributo di nome ```runtime``` come rappresenta il codice sottostante."
   ],
   "cell_type": "markdown",
   "metadata": {}
  },
  {
   "cell_type": "code",
   "execution_count": 6,
   "metadata": {},
   "outputs": [
    {
     "output_type": "error",
     "ename": "AttributeError",
     "evalue": "'A' object has no attribute 'runtime'",
     "traceback": [
      "\u001b[0;31m---------------------------------------------------------------------------\u001b[0m",
      "\u001b[0;31mAttributeError\u001b[0m                            Traceback (most recent call last)",
      "\u001b[0;32m<ipython-input-6-9793ba906f05>\u001b[0m in \u001b[0;36m<module>\u001b[0;34m\u001b[0m\n\u001b[0;32m----> 1\u001b[0;31m \u001b[0mprint\u001b[0m\u001b[0;34m(\u001b[0m\u001b[0ma\u001b[0m\u001b[0;34m.\u001b[0m\u001b[0mruntime\u001b[0m\u001b[0;34m)\u001b[0m\u001b[0;34m\u001b[0m\u001b[0;34m\u001b[0m\u001b[0m\n\u001b[0m",
      "\u001b[0;31mAttributeError\u001b[0m: 'A' object has no attribute 'runtime'"
     ]
    }
   ],
   "source": [
    "print(a.runtime)"
   ]
  },
  {
   "source": [
    "Ma grazie alla gestione dinamica degli oggetti e ai relativi concetti di namespace è possibile scrivere ciò."
   ],
   "cell_type": "markdown",
   "metadata": {}
  },
  {
   "cell_type": "code",
   "execution_count": 7,
   "metadata": {},
   "outputs": [
    {
     "output_type": "stream",
     "name": "stdout",
     "text": [
      "Analogia con una variabile oggetto definita dinamicamente, a runtime\n"
     ]
    }
   ],
   "source": [
    "a.runtime = \"Analogia con una variabile oggetto definita dinamicamente, a runtime\"\n",
    "\n",
    "print(a.runtime)"
   ]
  },
  {
   "source": [
    "Adesso l'oggetto a possiede un nuovo attributo di nome runtime. Quello che succede è semplicemente una assegnazione di un valore alla relativa variabile, con la sola differenza che il namespace in cui viene fatta questa assegnazione è il namespace dell'oggetto a di classe A.\n",
    "\n",
    "Possiamo inoltre analizzare la classe A per verificare che effettivamente l'attributo runtime risulti essere solamente attributo dell'oggetto a e non dell'intera classe A."
   ],
   "cell_type": "markdown",
   "metadata": {}
  },
  {
   "cell_type": "code",
   "execution_count": 11,
   "metadata": {},
   "outputs": [
    {
     "output_type": "stream",
     "name": "stdout",
     "text": [
      "Dizionario dell'oggetto a\n['_A__var', '__class__', '__delattr__', '__dict__', '__dir__', '__doc__', '__eq__', '__format__', '__ge__', '__getattribute__', '__gt__', '__hash__', '__init__', '__init_subclass__', '__le__', '__lt__', '__module__', '__ne__', '__new__', '__reduce__', '__reduce_ex__', '__repr__', '__setattr__', '__sizeof__', '__str__', '__subclasshook__', '__weakref__', '_var', 'ogg', 'runtime', 'var']\nDizionario della classe A\n['_A__var', '__class__', '__delattr__', '__dict__', '__dir__', '__doc__', '__eq__', '__format__', '__ge__', '__getattribute__', '__gt__', '__hash__', '__init__', '__init_subclass__', '__le__', '__lt__', '__module__', '__ne__', '__new__', '__reduce__', '__reduce_ex__', '__repr__', '__setattr__', '__sizeof__', '__str__', '__subclasshook__', '__weakref__', '_var', 'var']\n"
     ]
    }
   ],
   "source": [
    "print(\"Dizionario dell'oggetto a\")\n",
    "print(dir(a))\n",
    "print(\"Dizionario della classe A\")\n",
    "print(dir(A))"
   ]
  },
  {
   "source": [
    "## Information hiding\n",
    "\n",
    "In liguaggi OO, come Java, era consuetudine utilizzare i cosidetti getter e setter per accedere ad attributi degli oggetti. Questo era necessario dato che questi lunguaggi distinguevano gli attributi a seconda della loro visibilità all'esterno e servia di conseguenza un metodo per accedervi.\n",
    "\n",
    "Python, non avendo questo meccanismo di visibilità, non necessiterebbe di getter e setter per accedere ad attributi di oggetti o classi, ma è buona norma predisporre ugualmente metodi per fare ciò.\n",
    "\n",
    "Infatti immaginiamo di avere una classe che gestisce il nostro conto bancario."
   ],
   "cell_type": "markdown",
   "metadata": {}
  },
  {
   "cell_type": "code",
   "execution_count": 45,
   "metadata": {},
   "outputs": [],
   "source": [
    "class ContoCorrente:\n",
    "    def __init__(self, saldo_iniziale = 0):\n",
    "        self.saldo_disponibile = saldo_iniziale\n",
    "\n",
    "    def saldo(self):\n",
    "        return self.saldo_disponibile\n",
    "\n",
    "    def versamento(self, importo):\n",
    "        self.saldo_disponibile += importo\n",
    "\n",
    "    def prelievo(self, importo):\n",
    "        if importo > self.saldo_disponibile:\n",
    "            print(f\"Impossibile prelevare {importo} su un saldo di {self.saldo_disponibile}\")\n",
    "        else:\n",
    "            self.saldo_disponibile -= importo"
   ]
  },
  {
   "cell_type": "code",
   "execution_count": 46,
   "metadata": {},
   "outputs": [],
   "source": [
    "cc = ContoCorrente(100)"
   ]
  },
  {
   "cell_type": "code",
   "execution_count": 47,
   "metadata": {},
   "outputs": [
    {
     "output_type": "stream",
     "name": "stdout",
     "text": [
      "100\nImpossibile prelevare 150 su un saldo di 100\n50\n150\n"
     ]
    }
   ],
   "source": [
    "print(cc.saldo())\n",
    "\n",
    "cc.prelievo(150)\n",
    "\n",
    "cc.prelievo(50)\n",
    "\n",
    "print(cc.saldo())\n",
    "\n",
    "cc.versamento(100)\n",
    "\n",
    "print(cc.saldo())"
   ]
  },
  {
   "source": [
    "Tutto molto coerente con quello che ci aspettavamo facesse. Ma c'è un però.  \n",
    "Il codice scritto in questo modo non vieta ad un altro sviluppatore che utilizza la stessa classe di utilizzare l'oggetto cc in questo altro modo."
   ],
   "cell_type": "markdown",
   "metadata": {}
  },
  {
   "cell_type": "code",
   "execution_count": 48,
   "metadata": {},
   "outputs": [],
   "source": [
    "cc = ContoCorrente(100)"
   ]
  },
  {
   "cell_type": "code",
   "execution_count": 49,
   "metadata": {},
   "outputs": [
    {
     "output_type": "stream",
     "name": "stdout",
     "text": [
      "100\n-100\n-50\n"
     ]
    }
   ],
   "source": [
    "print(cc.saldo())\n",
    "\n",
    "cc.saldo_disponibile -= 150\n",
    "\n",
    "cc.saldo_disponibile -= 50\n",
    "\n",
    "print(cc.saldo())\n",
    "\n",
    "cc.saldo_disponibile += 50\n",
    "\n",
    "print(cc.saldo())"
   ]
  },
  {
   "source": [
    "Immagino che i clienti di questa futura banca saranno davvero pochi se la banca stessa utilizzasse un codice del genere.\n",
    "\n",
    "Qui viene messo in risalto come alle volte è davvero necessario imporre dei controlli sulle operazioni che vengono fatte sugli attributti di oggetti e classi. \n",
    "Allora per cercare di risolvere il problema, lo sviluppatore potrebbe pensare di utilizzare il name mangling. In questo modo risulterebbe più complesso accedere agli attributi."
   ],
   "cell_type": "markdown",
   "metadata": {}
  },
  {
   "cell_type": "code",
   "execution_count": 50,
   "metadata": {},
   "outputs": [],
   "source": [
    "class ContoCorrente:\n",
    "    def __init__(self, saldo_iniziale = 0):\n",
    "        self.__saldo_disponibile = saldo_iniziale\n",
    "\n",
    "    def saldo(self):\n",
    "        return self.__saldo_disponibile\n",
    "\n",
    "    def versamento(self, importo):\n",
    "        self.__saldo_disponibile += importo\n",
    "\n",
    "    def prelievo(self, importo):\n",
    "        if importo > self.__saldo_disponibile:\n",
    "            print(f\"Impossibile prelevare {importo} su un saldo di {self.__saldo_disponibile}\")\n",
    "        else:\n",
    "            self.__saldo_disponibile -= importo"
   ]
  },
  {
   "cell_type": "code",
   "execution_count": 51,
   "metadata": {},
   "outputs": [],
   "source": [
    "cc = ContoCorrente(100)"
   ]
  },
  {
   "cell_type": "code",
   "execution_count": 52,
   "metadata": {},
   "outputs": [
    {
     "output_type": "stream",
     "name": "stdout",
     "text": [
      "100\n-100\n-50\n"
     ]
    }
   ],
   "source": [
    "print(cc.saldo())\n",
    "\n",
    "cc._ContoCorrente__saldo_disponibile -= 150\n",
    "\n",
    "cc._ContoCorrente__saldo_disponibile -= 50\n",
    "\n",
    "print(cc.saldo())\n",
    "\n",
    "cc._ContoCorrente__saldo_disponibile += 50\n",
    "\n",
    "print(cc.saldo())"
   ]
  },
  {
   "source": [
    "Ma a quanto pare il nostro collega si intestardisce ad accervi in modo diretto agli attributi. Bisogna trovare una soluzione ulteriore.\n",
    "\n",
    "Per sopperire a questa necessità python introduce il concetto di information hiding, oscuramento delle informazioni cercando di tradurlo in italiano."
   ],
   "cell_type": "markdown",
   "metadata": {}
  },
  {
   "cell_type": "code",
   "execution_count": 85,
   "metadata": {},
   "outputs": [],
   "source": [
    "class ContoCorrente:\n",
    "    def __init__(self, saldo_iniziale = 0):\n",
    "        self._saldo_disponibile = saldo_iniziale\n",
    "\n",
    "    @property\n",
    "    def saldo_disponibile(self):\n",
    "        return self._saldo_disponibile\n",
    "\n",
    "    @saldo_disponibile.setter\n",
    "    def saldo_disponibile(self, importo):\n",
    "        if importo < 0:\n",
    "            print(f\"Impossibile prelevare {importo} su un saldo di {self._saldo_disponibile}\")\n",
    "        else:\n",
    "            self._saldo_disponibile = importo"
   ]
  },
  {
   "cell_type": "code",
   "execution_count": 102,
   "metadata": {},
   "outputs": [],
   "source": [
    "cc = ContoCorrente(100)"
   ]
  },
  {
   "cell_type": "code",
   "execution_count": 103,
   "metadata": {},
   "outputs": [
    {
     "output_type": "stream",
     "name": "stdout",
     "text": [
      "100\nImpossibile prelevare -50 su un saldo di 100\n50\n150\n"
     ]
    }
   ],
   "source": [
    "print(cc.saldo_disponibile)\n",
    "\n",
    "cc.saldo_disponibile -= 150\n",
    "\n",
    "cc.saldo_disponibile -= 50\n",
    "\n",
    "print(cc.saldo_disponibile)\n",
    "\n",
    "cc.saldo_disponibile += 100\n",
    "\n",
    "print(cc.saldo_disponibile)"
   ]
  },
  {
   "source": [
    "Utilizzando le istruzioni ```@property``` e ```@attributo.setter``` dicamo a python che i metodi decorati da queste istruzioni devono essere utilizzati come getter e setter per l'attributo avente il nome dei rispettivi metodi.\n",
    "\n",
    "Per fare si che python utilizzi adeguatamente i getter e setter, i nomi dei metodi che vogliamo eseguino i rispettivi compiti devono essere uguali al nome dell'attributo da accedere, con la differenza che per essere rilevato l'attributo deve essere considerato privato seguendo la convenzione del trattino basso.\n",
    "\n",
    "```python\n",
    "class A:\n",
    "    def __init__(self):\n",
    "        self._variabile = \"Variabile d'accesso controllato\"\n",
    "\n",
    "    @property\n",
    "    def variabile(self):\n",
    "        return self._variabile\n",
    "\n",
    "    @variabile.setter\n",
    "    def variabile(self, nome):\n",
    "        self._variabile = nome\n",
    "```\n",
    "\n",
    "Utilizzando il sistema messo a disposizione da python di property e setter permetterà alla nostra banca di creare un software sicuro, anche in presenza di incomprensioni tra colleghi sviluppatori. Ben fatto."
   ],
   "cell_type": "markdown",
   "metadata": {}
  }
 ]
}