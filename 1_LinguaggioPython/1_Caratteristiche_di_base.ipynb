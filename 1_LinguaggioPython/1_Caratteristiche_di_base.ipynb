{
 "metadata": {
  "language_info": {
   "codemirror_mode": {
    "name": "ipython",
    "version": 3
   },
   "file_extension": ".py",
   "mimetype": "text/x-python",
   "name": "python",
   "nbconvert_exporter": "python",
   "pygments_lexer": "ipython3",
   "version": "3.9.0-final"
  },
  "orig_nbformat": 2,
  "kernelspec": {
   "name": "python3",
   "display_name": "Python 3"
  }
 },
 "nbformat": 4,
 "nbformat_minor": 2,
 "cells": [
  {
   "source": [
    "# Caratteristiche di base\n",
    "\n",
    "Partiamo dalle basi di qualsiasi linguaggio di programmazine, le variabili.\n",
    "\n",
    "## Tipizzazione, typing\n",
    "\n",
    "In python ogni variabile è un oggetto, ovvero è una istanza di una classe che rappresenta una data tipologia di variabile. Questo meccanismo permette al linguaggio di non tipizzare le variabili manualmente, ovvero, quando andiamo a scrivere una variabile, essa non necessita la specifica di una qualche tipologia di dato. La tipizzazione viene fatta automaticamente dal linguaggio a runtime.\n",
    "\n",
    "```c\n",
    "// Variabile in C\n",
    "int a = 1;\n",
    "```\n",
    "\n",
    "```python\n",
    "# Variabile in Python\n",
    "a = 1\n",
    "```\n",
    "\n",
    "Questa tipizzazione a runtime permette a python di assegnare alla variabile ```a```, che era stata precedentemente assegnata ad un intero, un'altro tipo di dato come un decimale ```1.0```.\n",
    "\n",
    "```python\n",
    "# Assegno a ad un intero\n",
    "a = 1\n",
    "# Successivamente la riassegno ad un decimale\n",
    "a = 1.0\n",
    "```\n",
    "\n",
    "Le variabili in python sono tutti puntatori a oggetti in memoria, quindi python durante l'esecuzione del codice soprastante alloca in memoria due oggetti di due classi differenti. Fatto ciò, la variabile ```a``` cambia solamente il puntatore alla cella in memoria.  \n",
    "Quindi il tipo di dato di ```a``` è assegnato dal tipo di classe dell'oggetto a cui sta puntando in un dato periodo dell'esecuzione del programma. Vediamo un semplice esempio."
   ],
   "cell_type": "markdown",
   "metadata": {}
  },
  {
   "cell_type": "code",
   "execution_count": 3,
   "metadata": {},
   "outputs": [
    {
     "output_type": "stream",
     "name": "stdout",
     "text": [
      "a:  <class 'int'>\na:  <class 'float'>\na:  <class 'str'>\n"
     ]
    }
   ],
   "source": [
    "# Inizializzo una variabile a come intero\n",
    "# Python alloca un oggetto di tipo Int\n",
    "# Con il valore 2 in memoria e ritorna \n",
    "# Alla variabile a l'indirizzo dell'oggetto in memoria\n",
    "a = 2\n",
    "# Stampo il tipo di a\n",
    "print(\"a: \", type(a))\n",
    "\n",
    "# Assegno ad a un valore decimale\n",
    "# Python alloca un altro oggetto in memoria\n",
    "# Questa volta di tipo Float e ritorna\n",
    "# L'indirizzo dell'oggetto ad a\n",
    "a = 2.5\n",
    "# E ristampo il tipo di a\n",
    "print(\"a: \", type(a))\n",
    "\n",
    "# Ma possiamo fare di più\n",
    "# Python crea un oggetto in memoria di tipo String\n",
    "# Con il valore \"Tipizzazione dinamica\" e successivamente\n",
    "# Ritorna ad a l'indirizzo dell'oggetto appena creato\n",
    "a = \"Tipizzazione dinamica\"\n",
    "# Per poi ristampare ancora il tipo di a\n",
    "print(\"a: \", type(a))"
   ]
  },
  {
   "source": [
    "La funzione ```type(var)``` permette di ritornare la tipologia della variabile passata come parametro.\n",
    "\n",
    "In python non esistono delle specifiche precisioni di valori come per esempio in C.  \n",
    "Come sappiamo, in C è possibile specificare la dimensione del tipo di dato. Se volessimo salvare in memoria un intero di 16 bit potremmo specificare la variabile intera come ```short```. In maniera analoga anche per i decimali, il C distingue la precisione singola dalla doppia con ```float``` e ```double```.  \n",
    "Tutto questo python non lo permette. O almeno, non permette allo sviluppatore di specificarlo. Infatti python non pone limiti di dimensione di numeri interi o decimali, se non il limite della memoria fisica. Gestisce tutto python automaticamente al momento di istanziazione dell'oggetto in questione.\n",
    "\n",
    "Gli operatori che python ci mette a disposizione sono abbastanza:\n",
    "\n",
    "```python\n",
    "+, -, *, /              # Operatori classici\n",
    "//, %                   # Quoziente e resto\n",
    "<, <=, ==, !=, =>, >    # Operatori relazionali\n",
    "and, or, not            # Operatori logici\n",
    "<<, >>                  # Operatori di shifting di bit\n",
    "&, |                    # Operatori bitwise, and e or tra bit\n",
    "```\n",
    "\n",
    "Alcuni di questi operatori sono polimorfi, ovvero cambiano il loro comportamento a seconda della condizione in cui vengono utilizzati.  \n",
    "Ad esempio, l'operatore ```+``` sappiamo essere l'operatore della somma di interi o decimali, ma se facessimo la somma di due stringhe, l'operatore ```+``` si comporta come concatenazione di stringhe."
   ],
   "cell_type": "markdown",
   "metadata": {}
  },
  {
   "cell_type": "code",
   "execution_count": 4,
   "metadata": {},
   "outputs": [
    {
     "output_type": "stream",
     "name": "stdout",
     "text": [
      "3\nHello World!\n"
     ]
    }
   ],
   "source": [
    "a = 1\n",
    "b = 2\n",
    "print(a + b)\n",
    "\n",
    "a = \"Hello \"\n",
    "b = \"World!\"\n",
    "print(a + b)"
   ]
  },
  {
   "source": [
    "Un altro esempio di operatore polimorfo è ```*```. Noi lo conosciamo comunemente come moltiplicazione, ma se utilizzassimo come primo fattore una stringa e come secondo un intero, otterremo come risultato una seconda stringa formata da un numero di concatenazioni pari al secondo fattore."
   ],
   "cell_type": "markdown",
   "metadata": {}
  },
  {
   "cell_type": "code",
   "execution_count": 5,
   "metadata": {},
   "outputs": [
    {
     "output_type": "stream",
     "name": "stdout",
     "text": [
      "Ripeti Ripeti Ripeti \n"
     ]
    }
   ],
   "source": [
    "stringa = \"Ripeti \"\n",
    "intero = 3\n",
    "print(stringa * intero)"
   ]
  },
  {
   "source": [
    "Inoltre, sempre l'operatore ```*``` se utilizzato due volte, ovvero ```**```, viene interpretato come potenza. Il primo fattore rappresenta la base della potenza mentre il secondo l'esponente."
   ],
   "cell_type": "markdown",
   "metadata": {}
  },
  {
   "cell_type": "code",
   "execution_count": 6,
   "metadata": {},
   "outputs": [
    {
     "output_type": "stream",
     "name": "stdout",
     "text": [
      "256\n"
     ]
    }
   ],
   "source": [
    "base = 2\n",
    "esponente = 8\n",
    "print(base ** esponente)"
   ]
  },
  {
   "source": [
    "Un altro aspetto molto importante in python consiste nel comprendere come interpreta i valori delle variabili a seconda della presenza di operatori logici o aritmetici.  \n",
    "Python, in presenza di operatori logici come ```and```, ```or```, ```not```, interpreta i valori ```0```, ```None``` e stringa vuota ```\"\"``` delle variabili come valore logico ```False```, mentre qualsiasi altro valore come valore logico ```True```.  \n",
    "Nel caso invece di operatori aritmetici nel quale le variabili presentassero valori logici come ```True``` o ```False```, python traduce i valori rispettivamente in ```1``` e ```0```.  \n",
    "Vediamo qualche esempio in pratica per comprendere meglio."
   ],
   "cell_type": "markdown",
   "metadata": {}
  },
  {
   "cell_type": "code",
   "execution_count": 7,
   "metadata": {},
   "outputs": [
    {
     "output_type": "stream",
     "name": "stdout",
     "text": [
      "True\nTrue\nTrue\nTrue\nFalse\nFalse\nFalse\n3\n2\n1\nFalse\n"
     ]
    }
   ],
   "source": [
    "print(not \"\")\n",
    "print(not 0)\n",
    "print(not 0.0)\n",
    "print(not None)\n",
    "print(not \"Ciao\")\n",
    "print(not 2)\n",
    "print(not 1.2)\n",
    "print(2 + True)\n",
    "print(2 + False)\n",
    "print(True + False)\n",
    "print(True < False)"
   ]
  },
  {
   "source": [
    "In generale python è fortemente tipizzato, ovvero permette pochissime libertà a livello di concessioni. Una delle poche l'abbiamo appena vista con il casting tra valori numerici e logici.  \n",
    "Tutto il resto python non lo concede. Questo indica che un linguaggio è tipizzato fortemente, basato fortemente sulla tipizzazione, anche se dinamica. Un linguaggio a tipizzazione debole è molto più permissivo. Vediamo qualche esempio che python non concede."
   ],
   "cell_type": "markdown",
   "metadata": {}
  },
  {
   "cell_type": "code",
   "execution_count": 43,
   "metadata": {},
   "outputs": [
    {
     "output_type": "stream",
     "name": "stdout",
     "text": [
      "Tutte le seguenti operazioni provocano un errore\n"
     ]
    }
   ],
   "source": [
    "try:\n",
    "    1 + \"A\"\n",
    "    2.1 >> 2\n",
    "    5.0 & 1\n",
    "except:\n",
    "    print(\"Tutte le seguenti operazioni provocano un errore\")"
   ]
  },
  {
   "source": [
    "## Stringhe\n",
    "\n",
    "In python, come abbiamo già capito, anche le stringhe sono oggetti. Le stringhe vengono definite come una sequenza di caratteri comprese tra doppi apici ```\"\"``` oppure tra apici singoli ```''```. La differenza nell'utilizzo tra apici singoli o doppi non esiste, è letteralmente uguale. Solitamente si preferisce l'uno all'altro in base al contenuto della stringa, ecco un paio di esempi."
   ],
   "cell_type": "markdown",
   "metadata": {}
  },
  {
   "cell_type": "code",
   "execution_count": 10,
   "metadata": {},
   "outputs": [
    {
     "output_type": "stream",
     "name": "stdout",
     "text": [
      "C'era una volta...\nAldo: \"Non posso né scendere, né salire, né scendere, né salire!\"\n"
     ]
    }
   ],
   "source": [
    "print(\"C'era una volta...\")\n",
    "print('Aldo: \"Non posso né scendere, né salire, né scendere, né salire!\"')"
   ]
  },
  {
   "source": [
    "Sappiamo come in altri linguaggi le stringhe sono formate da un insieme di caratteri, intesi come tipologia di variabile. In python non esiste la tipologia carattere, infatti se provassimo ad accedere ad un dato indice della stringa con la nozione classica di array, quello che otterremo è una seconda stringa di lunghezza 1, non un carattere. Infatti:"
   ],
   "cell_type": "markdown",
   "metadata": {}
  },
  {
   "cell_type": "code",
   "execution_count": 11,
   "metadata": {},
   "outputs": [
    {
     "output_type": "stream",
     "name": "stdout",
     "text": [
      "<class 'str'> Una stringa lunga lunga\n<class 'str'> U\n"
     ]
    }
   ],
   "source": [
    "stringa = \"Una stringa lunga lunga\"\n",
    "print(type(stringa), stringa)\n",
    "\n",
    "carattere = stringa[0]\n",
    "print(type(carattere), carattere)"
   ]
  },
  {
   "source": [
    "Attenzione, quando diciamo carattere non intendiamo carattere inteso come tipologia di variabile, ma lo intendiamo come stringa di lunghezza 1 che contiene una lettera dell'alfabeto o un qualsiasi altro simbolo.\n",
    "\n",
    "In python è possibile inoltre utilizzare stringhe multilinea. Le stringhe multilinea sono sostanzialmente delle stringhe normalissime ma che permettono di non specificare esplicitamente il carattere new line ```\\n```, viene interpretato automaticamente. Per indicare a python che vogliamo utilizzare una stringa multilinea, racchiudiamo il nostro contenuto in tre apici singoli o doppi."
   ],
   "cell_type": "markdown",
   "metadata": {}
  },
  {
   "cell_type": "code",
   "execution_count": 12,
   "metadata": {},
   "outputs": [
    {
     "output_type": "stream",
     "name": "stdout",
     "text": [
      "Questa è\nuna stringa\nmultilinea\n"
     ]
    }
   ],
   "source": [
    "multilinea = \"\"\"Questa è\n",
    "una stringa\n",
    "multilinea\"\"\"\n",
    "print(multilinea)"
   ]
  },
  {
   "source": [
    "Le stringhe multilinee vedremo più avanti che hanno uno scopo specifico in python.\n",
    "\n",
    "Concludiamo l'argomento delle stringhe parlando delle f-stringhe. Sono stringhe che permettono di inserire al loro interno un blocco di codice da analizzare, ovvero una variabile, una operazione o anche una funzione. Il loro scopo è di creare stringhe contenenti valori non hard coded, ma valutato al momento della rappresentazione.  \n",
    "La f-stringa si utilizza semplicemente applicando una f appena prima degli apici della stringa."
   ],
   "cell_type": "markdown",
   "metadata": {}
  },
  {
   "cell_type": "code",
   "execution_count": 13,
   "metadata": {},
   "outputs": [
    {
     "output_type": "stream",
     "name": "stdout",
     "text": [
      "Leonardo ha 22 anni\n"
     ]
    }
   ],
   "source": [
    "età = 22\n",
    "fstring = f\"Leonardo ha {età} anni\"\n",
    "print(fstring)"
   ]
  },
  {
   "source": [
    "La f-string permette inoltre di formattare l'output del valore analizzato, come ad esempio approssimare un valore decimale."
   ],
   "cell_type": "markdown",
   "metadata": {}
  },
  {
   "cell_type": "code",
   "execution_count": 1,
   "metadata": {},
   "outputs": [
    {
     "output_type": "stream",
     "name": "stdout",
     "text": [
      "Io guadagno 66.67 euro al giorno\n"
     ]
    }
   ],
   "source": [
    "stipendio = 2000.0\n",
    "giorni_mese = 30\n",
    "print(f\"Io guadagno {stipendio / giorni_mese:.2f} euro al giorno\")"
   ]
  },
  {
   "source": [
    "Anticipiamo che le f-string sono solo una delle tante tipologie di stringhe. Esistono anche le b-string, ovvero stringhe binarie, le r-string, stringhe raw, grezze, e altre tipologie che vedremo in seguito.\n",
    "\n",
    "## Strutture dati\n",
    "\n",
    "Analizziamo le strutture dati in python.\n",
    "\n",
    "Python ha quattro stutture dati principali:\n",
    "\n",
    "- Liste\n",
    "- Tuple\n",
    "- Insiemi\n",
    "- Dizionari\n",
    "\n",
    "Le liste e le tuple sono sequenza di oggetti arbitrari, gli insiemi sono implementati come gli insiemi matematici ed infine i dizionari sono coppie chiave valore.\n",
    "\n",
    "In python, a differenza di altri linguaggi, le strutture dati possono contenere dati eterogenei, ovvero non necessitano un unico tipo di dato uniforme. Ad esmpio, possiamo creare una lista e inserire stringhe, interi e decimali senza che python ci dia errore.\n",
    "\n",
    "Le liste si rappresentano con le parentesi quadre ```[]```, esse permettono di contenere qualsiasi dato al suo interno, mantiene l'ordine di inserimento dei dati e può contenere anche dati doppiati."
   ],
   "cell_type": "markdown",
   "metadata": {}
  },
  {
   "cell_type": "code",
   "execution_count": 13,
   "metadata": {},
   "outputs": [
    {
     "output_type": "stream",
     "name": "stdout",
     "text": [
      "<class 'list'>\n['A', 1, True, 2.0, 'A', [1.0, 2]]\n['B', 1, True, 2.0, 'A', 3]\n"
     ]
    }
   ],
   "source": [
    "lista = [\"A\", 1, True, 2.0, \"A\", [1.0, 2]]\n",
    "\n",
    "print(type(lista))\n",
    "print(lista)\n",
    "\n",
    "lista[0] = \"B\"              # Modifico elemento della lista\n",
    "lista.remove([1.0, 2])      # Rimuovo elemento della lista\n",
    "lista.append(3)             # Aggiungo elemento della lista\n",
    "\n",
    "print(lista)"
   ]
  },
  {
   "source": [
    "Le tuple vengono definite con le parentesi tonde ```()```. Possono anch'esse contenere qualsiasi tipologia di dato, mantengono l'ordine di inserimento e può contenere dati doppiati.  \n",
    "Ma a differenza delle liste, le tuple sono oggetti immutabili. Questo vuole dire che una volta definita una variabile contenente una tupla, essa non è più modificabile, non possiamo aggiurere, rimuovere o modificare alcun dato interno ad essa. Eccezzione fatta se all'interno della tupla è contenuto un oggetto mutabile come una lista, allora è possibile modificale l'elemento della tupla corrispondente alla lista, ma è possibile modificare unicamente quell'indice."
   ],
   "cell_type": "markdown",
   "metadata": {}
  },
  {
   "cell_type": "code",
   "execution_count": 24,
   "metadata": {},
   "outputs": [
    {
     "output_type": "stream",
     "name": "stdout",
     "text": [
      "<class 'tuple'>\n('A', 1, True, 2.0, 'A', [1.0, 2])\nNon è consentita la modifica, aggiunta o rimozione di elementi dalle tuple\nSe non eccezione fatta per oggetti mutabili in essa...\n('A', 1, True, 2.0, 'A', [2, 4.0, 6])\n"
     ]
    }
   ],
   "source": [
    "tupla = (\"A\", 1, True, 2.0, \"A\", [1.0, 2])\n",
    "\n",
    "print(type(tupla))\n",
    "print(tupla)\n",
    "\n",
    "try:\n",
    "    tupla[0] = \"B\"              # Modifico elemento della tupla\n",
    "    tupla.remove([1.0, 2])      # Rimuovo elemento della tupla\n",
    "    tupla.append(3)             # Aggiungo elemento della tupla\n",
    "except:\n",
    "    print(\"Non è consentita la modifica, aggiunta o rimozione di elementi dalle tuple\")\n",
    "\n",
    "print(\"Se non eccezione fatta per oggetti mutabili in essa...\")\n",
    "\n",
    "tupla[5].append(4.0)        # Modifico oggetto della tupla mutabile, la lista\n",
    "tupla[5].remove(1.0)        # Rimuovo elemento dell'oggetto della tupla mutabile\n",
    "tupla[5].append(6)          # Aggiungo elemento dell'oggetto della tupla mutabile\n",
    "\n",
    "print(tupla)"
   ]
  },
  {
   "source": [
    "Gli insiemi sono definiti dalle parentesi graffe ```{}```. Abbiamo detto che in python sono implementati come gli insiemi matematici, il chè vuol dire che internamente agli insiemi non è possibile avere dati doppiati. Infatti se ci pensiamo, l'insieme dei numeri naturali N non contiene al suo interno due 1, oopure due 2, e così via. Ogni dato deve essere univoco all'interno dell'insieme.  \n",
    "L'insieme, detto anche ```set``` in python, è un oggetto mutabile ma che non conserva l'ordine di inserimento. Infatti anche l'insieme dei numeri naturali è un'insieme ordinato. Questa caratteristica del riordinare gli elementi dell'insieme implica un meccanismo per poter ordinare qualsiasi tipologia di oggeto, quindi aver la capacità di confrontare. Questo negli insiemi viene fatto grazie all'hash.\n",
    "\n",
    "> L'hash è una funzione matematica che accetta in input una serie di dati e restituisce un output di determinate dimensioni, esempio 256. La funzione hash è utilissima perchè permette di identificare univocamente un determinato oggetto. Un oggetto possiede un solo valore di hash, ma dal valore dell'hash non è possibile risalire all'oggetto. Esempio: ```hash256(\"Ciao\") = 25c73520e69f4bf229811e8e46ffe7d80471544b9bee15ed25044b86be4115ad```\n",
    "\n",
    "L'insieme calcola l'hash per ogni elemento interno ad esso e quindi li ordina valutando tutti i valori di hash ottenuti.  \n",
    "Questo meccanismo di ordinamento implica che gli elementi della lista siano immutabili. Infatti se l'insieme contenesse una lista di ```n``` elementi e ne calcolasse l'hash, otterrebbe un dato valore ```xyz```. Ma la lista sappiamo può mutare nel tempo, quindi in un secondo istante l'hash può risultare differente ```abc```.  \n",
    "Questo python non lo permette, quindi l'insieme è una struttura mutabile che accetta solamente elementi immutabili e hashabili. Ma attenzione, siccome l'insieme si basa sull'hash, è possibile aggiungere o rimuovere elementi ma non modificarli, per lo stesso motivo delle liste.  \n",
    "L'accesso agli elementi dell'insieme avviene sempre grazie all'indice come la lista e la tupla."
   ],
   "cell_type": "markdown",
   "metadata": {}
  },
  {
   "cell_type": "code",
   "execution_count": 37,
   "metadata": {},
   "outputs": [
    {
     "output_type": "stream",
     "name": "stdout",
     "text": [
      "L'insieme non accetta oggetti mutabili\n<class 'set'>\n{1, 2.0, (1.0, 2), 'A'}\nNon è possibile modificare un elemento di un insieme\n{1, 2.0, 3, 'A'}\n"
     ]
    }
   ],
   "source": [
    "try:\n",
    "    insieme = {\"A\", 1, True, 2.0, \"A\", [1.0, 2]}\n",
    "except:\n",
    "    print(\"L'insieme non accetta oggetti mutabili\")\n",
    "    insieme = {\"A\", 1, True, 2.0, \"A\", (1.0, 2)}\n",
    "\n",
    "print(type(insieme))\n",
    "print(insieme)\n",
    "\n",
    "try:\n",
    "    insieme[0] = \"B\"        # Modifico elemento dell'insieme\n",
    "except:\n",
    "    print(\"Non è possibile modificare un elemento di un insieme\")\n",
    "insieme.remove((1.0, 2))    # Rimuovo elemento dell'insieme\n",
    "insieme.add(3)              # Aggiungo elemento dell'insieme\n",
    "\n",
    "print(insieme)"
   ]
  },
  {
   "source": [
    "Infine i dizionari, indicati anch'essi cone le parentesi graffe ```{}```. A differenza degli insiemi, i dizionari essendo coppie chiave valore, all'interno delle parentesi graffe devono specificare la chiave e il valore separati con un ```:```. Ongi coppia chiave valore è separata da un'altra coppia chiave valore come nelle altre strutture dati, con una virgola ```,```.\n",
    "\n",
    "```json\n",
    "{\n",
    "    \"key_1\": \"value_1\",\n",
    "    \"key_2\": \"value_2\"\n",
    "}\n",
    "```\n",
    "\n",
    "I dizionari sono sostanzialmente delle liste, ma con un meccanismo di accesso alle varibaili differente. I dizionari, come in altri linguaggi, si basano anch'essi sull'hash della chiave. Questo vuol dire che le chiavi del dizionario devono essere immutabili. Le chiavi non possono cambiare proprio per il fatto che gli si calcola sopra l'hash, poprio come nell'insieme. I valori del dizionario invece sono liberi di cambiare nel tempo.  \n",
    "Nei dizionari l'accesso ai valori è differente rispetto alle altre strutture dati. Nelle liste, tuple e insiemi si accedeva al dato grazie all'indice del dato stesso ```structure[index]```, nei dizionari invece abbiamo capito che i valori sono ordinati secondo l'hash della chiave e quindi non abbiamo un indice vero e proprio per accedervi. Dobbiamo usare l'hash per accedere al dato. Python in questo caso ci viene in contro, infatti come indice ci lascia usare la chiave per poi lui stesso calcolarsi l'hash e confrontarlo con gli hash del dizionario."
   ],
   "cell_type": "markdown",
   "metadata": {}
  },
  {
   "source": [
    "try:\n",
    "    dizionario = {[1]: \"A\", \"Due\": 1, (3, 4.0): \"A\", 0: [1.0, 2]}\n",
    "except:\n",
    "    print(\"Il dizionario non accetta variabili mutabili come chiavi\")\n",
    "    dizionario = {1: \"A\", \"Due\": 1, (3, 4.0): \"A\", 0: [1.0, 2]}\n",
    "\n",
    "print(type(dizionario))\n",
    "print(dizionario)\n",
    "\n",
    "dizionario[1] = \"B\"             # Modifico valore dell'elemento 1\n",
    "dizionario[\"nuovo\"] = True      # Aggiungo elemento \"nuovo\" con valore True\n",
    "dizionario.pop(0)               # Rimuovo elemento con chiave 0\n",
    "\n",
    "print(dizionario)"
   ],
   "cell_type": "code",
   "metadata": {},
   "execution_count": 42,
   "outputs": [
    {
     "output_type": "stream",
     "name": "stdout",
     "text": [
      "Il dizionario non accetta variabili mutabili come chiavi\n<class 'dict'>\n{1: 'A', 'Due': 1, (3, 4.0): 'A', 0: [1.0, 2]}\n{1: 'B', 'Due': 1, (3, 4.0): 'A', 'nuovo': True}\n"
     ]
    }
   ]
  },
  {
   "source": [
    "Notiamo come le stringhe sono variabili immutabili, dato che sono accettate sia da insiemi che come chiavi di dizionari. Infatti le stringhe non possono essere modificate, semplicemente python crea un nuovo oggetto stringa ogni volta che c'è una modifica su di essa.\n",
    "\n",
    "Abbiamo fatto una carrellata sulle strutture dati, anche se ancora grande come argomento e quindi ci torneremo più avavnti.  \n",
    "È ora di vedere gli statement di controllo del flusso delle applicazioni.\n",
    "\n",
    "## Controllo\n",
    "\n",
    "Python non utilizza le parentesi graffe per specificare blocchi di codice come altri linguaggi. Python usa l'identazione del codice stesso per separare il codice in blocchi diversi.\n",
    "\n",
    "> Identazione base:\n",
    "    Rientro identazione 1\n",
    "        Rientro identazione 2\n",
    "\n",
    "È quindi fondamentale che i livelli di identazione risultino tutti identici, altrimenti python segnalerà allo sviluppatore un errore.\n",
    "\n",
    "Le strutture di controllo in python sono poche. Essenzialmente:\n",
    "\n",
    "- Condizionale, ```if```\n",
    "- Iterazione indeterminata, ```while```\n",
    "- Iterazione determinata, ```for```\n",
    "\n",
    "La struttura dell'```if``` è molto semplice e facile da leggere, come d'altronde tutto il linguaggio in sè.  \n",
    "La condizione dello statement if non ha bisogno di essere racchiuso in parentesi tonde e deve terminare con due punti ```:```. Il blocco di codice relativo al ```True``` dell'if va identato sotto l'if stesso, mentre nel caso si volesse aggiungere il caso ```False``` dell'if, ovvero l'```else```, lo si scrive allo stesso livello di identazione dell'if e lo si termina anch'esso con due punti."
   ],
   "cell_type": "markdown",
   "metadata": {}
  },
  {
   "cell_type": "code",
   "execution_count": 1,
   "metadata": {},
   "outputs": [
    {
     "output_type": "stream",
     "name": "stdout",
     "text": [
      "Il numero 2 è positivo\n"
     ]
    }
   ],
   "source": [
    "numero = 2\n",
    "\n",
    "if numero > 0:\n",
    "    print(f\"Il numero {numero} è positivo\")\n",
    "else:\n",
    "    print(f\"Il numero {numero} è negativo\")"
   ]
  },
  {
   "source": [
    "A differenza di altri linguaggi, python non possiede lo statement ```switch```. Ma permette di implementarlo semplicemente con l'uso di ```elif```. Lo statement elif permette di specificare una seconda condizione da valutare nel caso la condizione precedente non fosse risultata vera."
   ],
   "cell_type": "markdown",
   "metadata": {}
  },
  {
   "cell_type": "code",
   "execution_count": 5,
   "metadata": {},
   "outputs": [
    {
     "output_type": "stream",
     "name": "stdout",
     "text": [
      "Il numero -2 è negativo\n"
     ]
    }
   ],
   "source": [
    "numero = -2\n",
    "\n",
    "if numero > 0:\n",
    "    print(f\"Il numero {numero} è positivo\")\n",
    "elif numero < 0:\n",
    "    print(f\"Il numero {numero} è negativo\")\n",
    "else:\n",
    "    print(f\"Il numero {numero} è 0\")"
   ]
  },
  {
   "source": [
    "Lo statement di controllo ```while``` si rappresenta in maniera analoga all'```if```. Si scrive il while con la condizione e si identa il blocco del while in un livello di identaizone successivo."
   ],
   "cell_type": "markdown",
   "metadata": {}
  },
  {
   "cell_type": "code",
   "execution_count": 7,
   "metadata": {},
   "outputs": [
    {
     "output_type": "stream",
     "name": "stdout",
     "text": [
      "Mancano 10 secondi\nMancano 9 secondi\nMancano 8 secondi\nMancano 7 secondi\nMancano 6 secondi\nMancano 5 secondi\nMancano 4 secondi\nMancano 3 secondi\nMancano 2 secondi\nMancano 1 secondi\n"
     ]
    }
   ],
   "source": [
    "timer = 10\n",
    "\n",
    "while timer > 0:\n",
    "    print(f\"Mancano {timer} secondi\")\n",
    "    timer -= 1"
   ]
  },
  {
   "source": [
    "Ora penserete, anche il ```for``` sarà analogo al ```while``` e l'```if```. Questa volta no, lo statement ```for``` è concettualmente diverso dai classici for.\n",
    "\n",
    "Python non da l'opportunità di specificare variabili, condizioni e incrementi, come negli altri linguaggi. Python interpreta il for in maniera differente. Concettualmente python richiede un insieme di dati che siano iterabili (analizzeremo in maniera più approfondita il concetto più avavnti) dal quale ciclo dopo ciclo far assumere il relativo valore alla variabile del for.  \n",
    "Vediamo un esempio."
   ],
   "cell_type": "markdown",
   "metadata": {}
  },
  {
   "cell_type": "code",
   "execution_count": 8,
   "metadata": {},
   "outputs": [
    {
     "output_type": "stream",
     "name": "stdout",
     "text": [
      "Ciao Arianna!\nCiao Flavio!\nCiao Viola!\nMancano 5 secondi\nMancano 4 secondi\nMancano 3 secondi\nMancano 2 secondi\nMancano 1 secondi\nL\ne\no\nn\na\nr\nd\no\n"
     ]
    }
   ],
   "source": [
    "for nome in [\"Arianna\", \"Flavio\", \"Viola\"]:\n",
    "    print(f\"Ciao {nome}!\")\n",
    "\n",
    "for timer in (5, 4, 3, 2, 1):\n",
    "    print(f\"Mancano {timer} secondi\")\n",
    "\n",
    "for spelling in \"Leonardo\":\n",
    "    print(spelling)"
   ]
  },
  {
   "source": [
    "Il for introduce il concetto di iteratore che approfondiremo in seguito con l'aggiunta di altri argomenti affini.\n",
    "\n",
    "## Funzioni\n",
    "\n",
    "Le funzioni in python si definisco grazie alla parola ```def``` seguita dal nome della funzione e i relativi parametri. Python, non essendo un linguaggio a tipizzazione statica, non richiede di specificare il tipo di variabili degli argomenti della funzione e neanche la variabile di ritorno della funzione.\n",
    "\n",
    "Un esempio di definizione di funzione."
   ],
   "cell_type": "markdown",
   "metadata": {}
  },
  {
   "cell_type": "code",
   "execution_count": 9,
   "metadata": {},
   "outputs": [],
   "source": [
    "def somma(addendo_1, addendo_2):\n",
    "    return addendo_1 + addendo_2"
   ]
  },
  {
   "source": [
    "Come in altri linguaggi, ogni funzione possiede un proprio \"ambiente\" di vita per le variabili. In python questo ambiente è salvato in una struttura dati che abbiamo già visto, nei dizionari.  \n",
    "Quando richiamiamo una variabile o di una funzione, python controlla nell'ambiente locale, detto ```namespace locale```, se non è stato trovato in questo ambiente allora lo va a cercare nel ```namespace globale``` ed infine, se non risulta presente neanche in questo ambiente, lo va a cercare nel ```namespace built-in```.\n",
    "\n",
    "Abbiamo sostanzialmente tre namespace:\n",
    "\n",
    "- Namespace locale\n",
    "- Namespace globale\n",
    "- Namespace built-in\n",
    "\n",
    "Da ciò, è possibile stilare una sorta di regola utilizzata da python, detta LEGB.\n",
    "\n",
    "- L, local namespace\n",
    "- E, enclosing namespace\n",
    "- G, global namespace\n",
    "- B, built-in namespace\n",
    "\n",
    "Questo è l'ordine che segue python per la ricerca di un nome, partendo dall'alto della lista ed andando a scendere. L'enclosing namespace è sostanzialmente un namespace locale di funzioni che eventualmente includono la funzione relativa al namespace locale appena valutato.\n",
    "\n",
    "Esistono, inoltre, funzioni built-in che permettono di ritornare il namespace relativo al punto del programma. Le funzioni ```globals()``` e ```locals()``` restituiscono i dizionari relativi ai namespace nel quale sono state inserite. Inoltre, essendo il namespace una struttura dati, è anch'essa modificabile e quindi modificare il namespace. Per fare ciò, possiamo utilizzare le definizioni ```global``` e ```nonlocal``` seguite da una variablie per specificarne un namespace da associare. In più, essendo dizionari, possiamo modificare i namespace con la già nota nozione di accesso dei dizionari.\n",
    "\n",
    "Vediamo qualche esempio in pratica."
   ],
   "cell_type": "markdown",
   "metadata": {}
  },
  {
   "cell_type": "code",
   "execution_count": 15,
   "metadata": {},
   "outputs": [
    {
     "output_type": "stream",
     "name": "stdout",
     "text": [
      "Inizio del test:\nx: 1\ny: 1\nInizio funzione esterna:\nx: 1\ny: 2\nNamespace locale interna:\n{'y': 3}\nFine funzione esterna:\nx: 2\ny: 3\nNamespace locale esterna:\n{'interna': <function esterna.<locals>.interna at 0x112f10ca0>, 'y': 3}\nFine del test:\nx: 2\ny: 1\n"
     ]
    }
   ],
   "source": [
    "def esterna():\n",
    "    # Mi riferisco alla variabile x del programma principale\n",
    "    global x\n",
    "    def interna():\n",
    "        # Mi riferisco alla variabile x del programma principale\n",
    "        global x\n",
    "        # Mi riferisco alla variabile y della funzione esterna\n",
    "        nonlocal y\n",
    "        x = 2\n",
    "        y = 3\n",
    "        print(\"Namespace locale interna:\")\n",
    "        print(locals())\n",
    "    # Definisco una variabile locale y\n",
    "    y = 2\n",
    "    print(\"Inizio funzione esterna:\")\n",
    "    print(f\"x: {x}\")\n",
    "    print(f\"y: {y}\")\n",
    "    interna()\n",
    "    print(\"Fine funzione esterna:\")\n",
    "    print(f\"x: {x}\")\n",
    "    print(f\"y: {y}\")\n",
    "    print(\"Namespace locale esterna:\")\n",
    "    print(locals())\n",
    "\n",
    "x = 1\n",
    "y = 1\n",
    "\n",
    "print(\"Inizio del test:\")\n",
    "print(f\"x: {x}\")\n",
    "print(f\"y: {y}\")\n",
    "\n",
    "esterna()\n",
    "\n",
    "print(\"Fine del test:\")\n",
    "print(f\"x: {x}\")\n",
    "print(f\"y: {y}\")"
   ]
  },
  {
   "cell_type": "code",
   "execution_count": 16,
   "metadata": {},
   "outputs": [
    {
     "output_type": "stream",
     "name": "stdout",
     "text": [
      "5\n"
     ]
    }
   ],
   "source": [
    "def somma(x, y):\n",
    "    w = locals()['x'] + locals()['y']\n",
    "    globals()['w'] = w\n",
    "\n",
    "x = 2\n",
    "y = 3\n",
    "somma(x, y)\n",
    "print(w)"
   ]
  },
  {
   "source": [
    "Con questo meccanismo di ```globals()``` e ```locals()``` è possibile fare dei primi esempi di metaprogramming."
   ],
   "cell_type": "markdown",
   "metadata": {}
  },
  {
   "cell_type": "code",
   "execution_count": 1,
   "metadata": {
    "tags": []
   },
   "outputs": [
    {
     "output_type": "stream",
     "name": "stdout",
     "text": [
      "{'__name__': '__main__', '__doc__': 'Automatically created module for IPython interactive environment', '__package__': None, '__loader__': None, '__spec__': None, '__builtin__': <module 'builtins' (built-in)>, '__builtins__': <module 'builtins' (built-in)>, '_ih': ['', 'def aggiungi_variabile():\\n    variabile = input(\"Inserisci il nome di una variabile: \")\\n    globals()[variabile] = globals().get(variabile, 0) + 1\\n\\ncounter = 0\\nwhile counter < 5:\\n    aggiungi_variabile()\\n    counter += 1\\n\\nprint(locals())'], '_oh': {}, '_dh': ['/Users/luigimalaguti/Desktop/Designs/LearnDynamicLanguage/1_LinguaggioPython'], 'In': ['', 'def aggiungi_variabile():\\n    variabile = input(\"Inserisci il nome di una variabile: \")\\n    globals()[variabile] = globals().get(variabile, 0) + 1\\n\\ncounter = 0\\nwhile counter < 5:\\n    aggiungi_variabile()\\n    counter += 1\\n\\nprint(locals())'], 'Out': {}, 'get_ipython': <bound method InteractiveShell.get_ipython of <ipykernel.zmqshell.ZMQInteractiveShell object at 0x10c12ae80>>, 'exit': <IPython.core.autocall.ZMQExitAutocall object at 0x10c1822b0>, 'quit': <IPython.core.autocall.ZMQExitAutocall object at 0x10c1822b0>, '_': '', '__': '', '___': '', '_rwho_ls': [], 'os': <module 'os' from '/usr/local/Cellar/python@3.9/3.9.0_2/Frameworks/Python.framework/Versions/3.9/lib/python3.9/os.py'>, 'sys': <module 'sys' (built-in)>, '_i': '', '_ii': '', '_iii': '', '_i1': 'def aggiungi_variabile():\\n    variabile = input(\"Inserisci il nome di una variabile: \")\\n    globals()[variabile] = globals().get(variabile, 0) + 1\\n\\ncounter = 0\\nwhile counter < 5:\\n    aggiungi_variabile()\\n    counter += 1\\n\\nprint(locals())', 'aggiungi_variabile': <function aggiungi_variabile at 0x10c21e430>, 'counter': 5, 'a': 3, 'b': 1, 'c': 1}\n"
     ]
    }
   ],
   "source": [
    "def contatore_variabile():\n",
    "    variabile = input(\"Inserisci il nome di una variabile: \")\n",
    "    globals()[variabile] = globals().get(variabile, 0) + 1\n",
    "\n",
    "counter = 0\n",
    "while counter < 5:\n",
    "    contatore_variabile()\n",
    "    counter += 1\n",
    "\n",
    "print(locals())"
   ]
  },
  {
   "source": [
    "In questo semplice esempio, abbiamo implementato un contatore per delle variabili dinamicamente. Viene chiesto all'utente di indicare 5 nomi di variabili, che esistano o non, e il programma non fa altro che tenere il conto di quante volte una data variabile viene chiamata.  \n",
    "Questo è un primo semplice esempio di metaprogramming.\n",
    "\n",
    "## Parametri di funzioni\n",
    "\n",
    "In python abbiamo già detto come le variabili sono dei puntatori ad oggetti salvati in memoria. Il passaggio dei parametri ad una funzione funziona nello stesso modo. Il passaggio viene effettuato per riferimento, ovvero python non passa il valore della variabile che si vuole passare alla funzione, ma le passa il puntatore alla cella di memoria, passa un riferimento all'oggetto.\n",
    "\n",
    "Bisogna però fare attenzione alla variabile che si vuole passare alla funzione. Infatti se la variabile risulta essere una variabile immutabile, questo vuole dire che viene passato ugualmente il riferimento alla cella di memoria, ma se volessimo modificare un dato immutabile, allora python dovrà creare un nuovo oggetto con il relativo riferimento, che però sarà differente dal riferiemento della variabile iniziale del programma principale.\n",
    "\n",
    "Questo semplice esempio lo fa vedere bene."
   ],
   "cell_type": "markdown",
   "metadata": {}
  },
  {
   "cell_type": "code",
   "execution_count": 3,
   "metadata": {},
   "outputs": [
    {
     "output_type": "stream",
     "name": "stdout",
     "text": [
      "a: 3\na: 3\n"
     ]
    }
   ],
   "source": [
    "# Il namespace locale di incrementa risulterà\n",
    "# Essere formato solamente da x, un riferimento \n",
    "# All'oggetto 3 puntato anche da a\n",
    "def incrementa(x):\n",
    "    # La funzione incrementa ha lo scopo di aumentare\n",
    "    # La variabile paremetro di 1, ma sappiamo che\n",
    "    # Gli oggetti Int sono immutabili, quindi python\n",
    "    # Creerà un nuovo oggetto con valore 4 nella\n",
    "    # Cella di memoria ABC124\n",
    "    x += 1\n",
    "    # La variabile locale x punterà alla cella\n",
    "    # ABC124, ma non interferisce con il riferimento \n",
    "    # Di a alla cella ABC123\n",
    "\n",
    "# La variabile a è un riferimento alla cella\n",
    "# Di memoria ABC123 contenente il valore 3\n",
    "a = 3\n",
    "print(f\"a: {a}\")\n",
    "# Passiamo il riferimento a alla funzione incrementa\n",
    "incrementa(a)\n",
    "# Quindi, siccome il riferimento della variabile a\n",
    "# È rimasto immutato, il valore di a sarà ugualmente 3\n",
    "print(f\"a: {a}\")"
   ]
  },
  {
   "source": [
    "Detto questo, possiamo dire che se il parametro da passare alla funzione risulta essere immutabile, allora possiamo paragonare il passaggio come un passaggio per valore, mentre se il parametro risultasse mutabile allora si che si avrà un passaggio per riferimento.\n",
    "\n",
    "Vediamo un esempio con un parametro mutabile come la lista."
   ],
   "cell_type": "markdown",
   "metadata": {}
  },
  {
   "cell_type": "code",
   "execution_count": 5,
   "metadata": {},
   "outputs": [
    {
     "output_type": "stream",
     "name": "stdout",
     "text": [
      "Lista: [1, 2, 3]\nLista: [1, 2, 3, 4]\n"
     ]
    }
   ],
   "source": [
    "def aggiungi_elemento(lista, elemento):\n",
    "    lista.append(elemento)\n",
    "\n",
    "lista = [1, 2, 3]\n",
    "print(f\"Lista: {lista}\")\n",
    "aggiungi_elemento(lista, 4)\n",
    "print(f\"Lista: {lista}\")"
   ]
  },
  {
   "source": [
    "Attenzione però, gli elementi interni alla lista nell'esempio sono immutabili. Quindi qualsiasi operazione su di essi non funziona, come nell'esempio precedente. Solo operazioni sulla lista stessa, essendo mutabile, funziona per riferimento.  \n",
    "Vediamo questo particolare."
   ],
   "cell_type": "markdown",
   "metadata": {}
  },
  {
   "cell_type": "code",
   "execution_count": 6,
   "metadata": {},
   "outputs": [
    {
     "output_type": "stream",
     "name": "stdout",
     "text": [
      "Lista: [1, 2, 3]\nLista: [1, 2, 3]\n"
     ]
    }
   ],
   "source": [
    "def incrementa_valori(lista):\n",
    "    for valore in lista:\n",
    "        valore += 1\n",
    "\n",
    "lista = [1, 2, 3]\n",
    "# Mi stampa 1, 2, 3\n",
    "print(f\"Lista: {lista}\")\n",
    "# Voglio incrementare ogni valore della lista di 1\n",
    "incrementa_valori(lista)\n",
    "# Mi aspetto quindi 2, 3, 4\n",
    "print(f\"Lista: {lista}\")\n",
    "# Ma non funziona perchè gli Int sono immutabili"
   ]
  },
  {
   "source": [
    "In python, per fare restituire un valore ad una funzione si usa l'istruzione ```return```. Nel caso questa istruzione non venisse specificata, python restituisce un valore ```None``` che identifica un niente, vuoto.  \n",
    "Inoltre le funzioni in python possono restituire più di un valore. Basta elencare i valori di ritorno separati da una virgola dopo l'istruzione return. Quello che fa python in qusto case è semplicemente prendere tutti questi valori e impacchettarli in una tupla e quindi ritornare la tupla stessa."
   ],
   "cell_type": "markdown",
   "metadata": {}
  },
  {
   "cell_type": "code",
   "execution_count": 7,
   "metadata": {},
   "outputs": [
    {
     "output_type": "stream",
     "name": "stdout",
     "text": [
      "<class 'tuple'>\n(3, 9)\n"
     ]
    }
   ],
   "source": [
    "def potenza_quadrata(x):\n",
    "    return x, x ** 2\n",
    "\n",
    "a = 3\n",
    "b = potenza_quadrata(a)\n",
    "\n",
    "print(type(b))\n",
    "print(b)"
   ]
  },
  {
   "source": [
    "Alle volte può essere scomodo avere una tupla di ritorno da una funzione, quindi come esiste impacchettamente, packing, delle variabili di ritorno, è possibile spacchettare le variabili di ritorno, unpacking, nel programma principale."
   ],
   "cell_type": "markdown",
   "metadata": {}
  },
  {
   "cell_type": "code",
   "execution_count": 8,
   "metadata": {},
   "outputs": [
    {
     "output_type": "stream",
     "name": "stdout",
     "text": [
      "<class 'int'> <class 'int'>\n3 ** 2 = 9\n"
     ]
    }
   ],
   "source": [
    "def potenza_quadrata(x):\n",
    "    return x, x ** 2\n",
    "\n",
    "a = 3\n",
    "a, b = potenza_quadrata(a)\n",
    "\n",
    "print(type(a), type(b))\n",
    "print(f\"{a} ** 2 = {b}\")"
   ]
  },
  {
   "source": [
    "## Parametri keyword\n",
    "\n",
    "Python permette di inserire anche parametri di default nelle funzioni. I parametri di default sono parametri che possono essere o meno specificati quando si passano i parametri alla funzione stessa. I parametri di default sono un particolare parametro keyword."
   ],
   "cell_type": "markdown",
   "metadata": {}
  },
  {
   "cell_type": "code",
   "execution_count": 9,
   "metadata": {},
   "outputs": [
    {
     "output_type": "stream",
     "name": "stdout",
     "text": [
      "3\n5\n"
     ]
    }
   ],
   "source": [
    "def incremento(x, inc = 1):\n",
    "    return x + inc\n",
    "\n",
    "a = 2\n",
    "b = 3\n",
    "# Incrementa non ottiene il parametro inc, quindi usa il default 1\n",
    "print(incremento(a))\n",
    "# Incrementa ottiene il parametro inc, quindi usa il valore di b\n",
    "print(incremento(a, b))"
   ]
  },
  {
   "source": [
    "Più in generale, i parametri keyword possono essere passati alla funzione per posizione della signature, firma, della funzione, oppure specificando il nome del parametro keyword. I parametri non keyword sono detti parametri posizionali e devono sempre precedere i parametri keyword nella firma della funzione."
   ],
   "cell_type": "markdown",
   "metadata": {}
  },
  {
   "cell_type": "code",
   "execution_count": 20,
   "metadata": {},
   "outputs": [],
   "source": [
    "def funzione_generica(x, y, k = 1, z = 2):\n",
    "    pass\n",
    "\n",
    "funzione_generica(0, 1, 2, 3)           # Funziona\n",
    "funzione_generica(0, 1, k = 2, z = 3)   # Funziona\n",
    "funzione_generica(0, 1, 2, z = 3)       # Funziona\n",
    "funzione_generica(0, 1, z = 2, k = 3)   # Funziona"
   ]
  },
  {
   "cell_type": "code",
   "execution_count": 21,
   "metadata": {},
   "outputs": [
    {
     "output_type": "error",
     "ename": "SyntaxError",
     "evalue": "positional argument follows keyword argument (<ipython-input-21-5cbff3290d33>, line 1)",
     "traceback": [
      "\u001b[0;36m  File \u001b[0;32m\"<ipython-input-21-5cbff3290d33>\"\u001b[0;36m, line \u001b[0;32m1\u001b[0m\n\u001b[0;31m    funzione_generica(0, 1, z = 2, 3)       # Errore\u001b[0m\n\u001b[0m                                    ^\u001b[0m\n\u001b[0;31mSyntaxError\u001b[0m\u001b[0;31m:\u001b[0m positional argument follows keyword argument\n"
     ]
    }
   ],
   "source": [
    "funzione_generica(0, 1, z = 2, 3)       # Errore"
   ]
  },
  {
   "cell_type": "code",
   "execution_count": 23,
   "metadata": {},
   "outputs": [
    {
     "output_type": "error",
     "ename": "TypeError",
     "evalue": "funzione_generica() got multiple values for argument 'k'",
     "traceback": [
      "\u001b[0;31m---------------------------------------------------------------------------\u001b[0m",
      "\u001b[0;31mTypeError\u001b[0m                                 Traceback (most recent call last)",
      "\u001b[0;32m<ipython-input-23-4849f3273068>\u001b[0m in \u001b[0;36m<module>\u001b[0;34m\u001b[0m\n\u001b[0;32m----> 1\u001b[0;31m \u001b[0mfunzione_generica\u001b[0m\u001b[0;34m(\u001b[0m\u001b[0;36m0\u001b[0m\u001b[0;34m,\u001b[0m \u001b[0;36m1\u001b[0m\u001b[0;34m,\u001b[0m \u001b[0;36m2\u001b[0m\u001b[0;34m,\u001b[0m \u001b[0mk\u001b[0m \u001b[0;34m=\u001b[0m \u001b[0;36m3\u001b[0m\u001b[0;34m)\u001b[0m       \u001b[0;31m# Errore\u001b[0m\u001b[0;34m\u001b[0m\u001b[0;34m\u001b[0m\u001b[0m\n\u001b[0m",
      "\u001b[0;31mTypeError\u001b[0m: funzione_generica() got multiple values for argument 'k'"
     ]
    }
   ],
   "source": [
    "funzione_generica(0, 1, 2, k = 3)       # Errore\n"
   ]
  },
  {
   "source": [
    "## Numero indeterminato di parametri\n",
    "\n",
    "Nella definizione di una funzione è possibile specificare un numero arbitrario di parametri, siano essi posizionali o keyword.  \n",
    "Se volessimo indicare nella definizione di una funzione che può ricevere un numero generico di parametri posizionali, allora si inserisce un ```*``` prima della variabile posizionale che rappresenta un generico numero di parametri. In modo analogo si rappresenta per parametri keyword, con la sola differenza che si usano due asterischi ```**``` prima del parametro che rappresenta il numero generico dei parametri keyword.\n",
    "\n",
    "Chiaramente le precedenti regole di scrittura dei parametri devono essere rispettate anche in questo caso, ovvero la definizione generica di una funzione deve rispettare il seguente ordine di parametri:\n",
    "\n",
    "1. Parametri obbligatori\n",
    "2. Parametri posizionali indeterminati\n",
    "3. Parametri default\n",
    "4. Parametri keyword indeterminati\n",
    "\n",
    "Vediamo un generico esempio con il relativo uso di parametri indeterminati."
   ],
   "cell_type": "markdown",
   "metadata": {}
  },
  {
   "cell_type": "code",
   "execution_count": 25,
   "metadata": {},
   "outputs": [
    {
     "output_type": "stream",
     "name": "stdout",
     "text": [
      "a: A\nb: B\nc: ('C', 'D')\nx: X\ny: Y\nz: {'w': 'W', 'z': 'Z'}\n"
     ]
    }
   ],
   "source": [
    "def funzione(a, b, *c, x = 1, y = 2, **z):\n",
    "    print(f\"a: {a}\")\n",
    "    print(f\"b: {b}\")\n",
    "    print(f\"c: {c}\")\n",
    "    print(f\"x: {x}\")\n",
    "    print(f\"y: {y}\")\n",
    "    print(f\"z: {z}\")\n",
    "\n",
    "funzione(\"A\", \"B\", \"C\", \"D\", x = \"X\", y = \"Y\", w = \"W\", z = \"Z\")"
   ]
  },
  {
   "source": [
    "Ovviamente i parametri default non possono essere utilizzati come parametri posizionali se sono preceduti da parametri posizionali indeterminati.\n",
    "\n",
    "Da questo esempio si può notare che i parametri posizionali indeterminati sono salvati nella variabile ```c``` come una lista di valori, mentre i parametri keyword indeterminati sono salvati nella variabile ```z``` come un dizionario.  \n",
    "Quindi nel caso volessimo utilizzare uno dei parametri in particolare tra quelli indicati come indeterminati, allora ci basta accedere alla lista o al dizionario a seconda della variabile di nostro interesse.\n",
    "\n",
    "## Docstring\n",
    "\n",
    "Abbiamo detto precedentemente che le stringhe multilinea avevano uno scopo specifico in python. Siamo arrivati a definire questo scopo specifico.\n",
    "\n",
    "In python esistono le docstring, una stringa multilinea inserita immediatamente dopo la definizione di una funzione o di una classe. Come dice il nome stesso, il principale scopo della docstring è quello di documentare la funzione o classe nel quale è stata inserita. Inoltre in python esiste una funzione built-in molto utile ```help(function)``` che permette di stampare la docstring della funzione passata come parametro."
   ],
   "cell_type": "markdown",
   "metadata": {}
  },
  {
   "cell_type": "code",
   "execution_count": 27,
   "metadata": {},
   "outputs": [
    {
     "output_type": "stream",
     "name": "stdout",
     "text": [
      "Risultato della funzione:\n5\nDocstring della funzione:\nHelp on function incremento in module __main__:\n\nincremento(x, inc=1)\n    Funzione che permette di incrementare il valore x di una quantià default 1 oppure generica inc\n    \n        Parametri:\n            x: valore da incrementare\n            inc: quantità relativa all'incremento\n        \n        Ritorno:\n            ris: valore x incrementato di inc\n\n"
     ]
    }
   ],
   "source": [
    "def incremento(x, inc = 1):\n",
    "    \"\"\"\n",
    "    Funzione che permette di incrementare il valore x di una quantià default 1 oppure generica inc\n",
    "\n",
    "        Parametri:\n",
    "            x: valore da incrementare\n",
    "            inc: quantità relativa all'incremento\n",
    "        \n",
    "        Ritorno:\n",
    "            ris: valore x incrementato di inc\n",
    "    \"\"\"\n",
    "    ris = x + inc\n",
    "    return ris\n",
    "\n",
    "print(\"Risultato della funzione:\")\n",
    "print(incremento(2, 3))\n",
    "\n",
    "print(\"Docstring della funzione:\")\n",
    "help(incremento)"
   ]
  },
  {
   "source": [
    "## Manipolazione di funzioni\n",
    "\n",
    "In python le funzioni sono considerate first-class object. First-class object vuol dire, per fare un paragone, che sono considerate come oggetti tipo Int, Float, String. Più in generale, first-class object ci dice che le funzioni possono essere assegnate a variabili, possono essere passate come parametri ad altre funzioni e possono anche essere il risultato restituito sempre da altre funzioni. Sostanzialmente le funzioni sono anche loro degli oggetti."
   ],
   "cell_type": "markdown",
   "metadata": {}
  },
  {
   "cell_type": "code",
   "execution_count": 1,
   "metadata": {},
   "outputs": [
    {
     "output_type": "stream",
     "name": "stdout",
     "text": [
      "<class 'function'>\n"
     ]
    }
   ],
   "source": [
    "def potenza_quadrata(x):\n",
    "    return x * x\n",
    "\n",
    "# Stampo il tipo della funzione\n",
    "print(type(potenza_quadrata))"
   ]
  },
  {
   "cell_type": "code",
   "execution_count": 2,
   "metadata": {},
   "outputs": [
    {
     "output_type": "stream",
     "name": "stdout",
     "text": [
      "4\n"
     ]
    }
   ],
   "source": [
    "# Assegno la funzione a pq\n",
    "pq = potenza_quadrata\n",
    "\n",
    "# Utilizzo la funzione grazie a pq\n",
    "print(pq(2))"
   ]
  },
  {
   "cell_type": "code",
   "execution_count": 7,
   "metadata": {},
   "outputs": [],
   "source": [
    "def tabulazione(f, a, b, step = 0.1):\n",
    "    \"\"\"\n",
    "    Funzione che permette di tabulare i valori della funzione f\n",
    "    nell'intervallo chiuso [a, b] con step generico o di default 0.1\n",
    "\n",
    "        Parametri:\n",
    "            f: Funzione da tabulare\n",
    "            a: Estremo iniziale dell'intervallo\n",
    "            b: Estremo finale dell'intervallo\n",
    "            step: Distanza tra un valore e l'altro\n",
    "    \"\"\"\n",
    "    assert a <= b\n",
    "    print(\"x\\tf(x)\")\n",
    "    x = a\n",
    "    while x <= b + step / 2:\n",
    "        y = f(x)\n",
    "        print(f\"{x:.2f}\\t{y:.2f}\")\n",
    "        x += step"
   ]
  },
  {
   "cell_type": "code",
   "execution_count": 4,
   "metadata": {},
   "outputs": [
    {
     "output_type": "stream",
     "name": "stdout",
     "text": [
      "x\tf(x)\n-1.00\t-0.84\n-0.90\t-0.78\n-0.80\t-0.72\n-0.70\t-0.64\n-0.60\t-0.56\n-0.50\t-0.48\n-0.40\t-0.39\n-0.30\t-0.30\n-0.20\t-0.20\n-0.10\t-0.10\n-0.00\t-0.00\n0.10\t0.10\n0.20\t0.20\n0.30\t0.30\n0.40\t0.39\n0.50\t0.48\n0.60\t0.56\n0.70\t0.64\n0.80\t0.72\n0.90\t0.78\n1.00\t0.84\n"
     ]
    }
   ],
   "source": [
    "from math import sin\n",
    "\n",
    "# Sin è la funzione seno che passiamo per tabularla\n",
    "tabulazione(sin, -1, 1)"
   ]
  },
  {
   "source": [
    "Python prevede anche la possibilità di definire funzioni anonime usando la nozione ```lambda``` function."
   ],
   "cell_type": "markdown",
   "metadata": {}
  },
  {
   "cell_type": "code",
   "execution_count": 5,
   "metadata": {},
   "outputs": [
    {
     "output_type": "stream",
     "name": "stdout",
     "text": [
      "4\nx\tf(x)\n0.00\t0.00\n1.00\t1.00\n2.00\t4.00\n3.00\t9.00\n4.00\t16.00\n5.00\t25.00\n6.00\t36.00\n7.00\t49.00\n8.00\t64.00\n9.00\t81.00\n10.00\t100.00\n"
     ]
    }
   ],
   "source": [
    "# Funzinoe anonima\n",
    "quadrato = lambda x: x * x\n",
    "\n",
    "# Possiamo assegnarla a variabile\n",
    "y = quadrato(2)\n",
    "print(y)\n",
    "\n",
    "# Oppure passarla come parametro a funzioni\n",
    "tabulazione(quadrato, 0, 10, 1)"
   ]
  },
  {
   "source": [
    "Un utilizzo molto importante in python è la funzione come valore di ritorno, base per i decoratori che vedremo in seguito.\n",
    "\n",
    "Vediamo un esempio e poi lo commentiamo."
   ],
   "cell_type": "markdown",
   "metadata": {}
  },
  {
   "cell_type": "code",
   "execution_count": 6,
   "metadata": {},
   "outputs": [
    {
     "output_type": "stream",
     "name": "stdout",
     "text": [
      "Ciao Francesca!\n"
     ]
    }
   ],
   "source": [
    "def salutare():\n",
    "    def saluto(nome):\n",
    "        return f\"Ciao {nome}!\"\n",
    "    return saluto\n",
    "\n",
    "ciao = salutare()\n",
    "print(ciao(\"Francesca\"))"
   ]
  },
  {
   "source": [
    "Che cosa è mai questa?  \n",
    "Niente di troppo difficile. Il concetto è semplice, assegnamo ad una variabile il risultato di una funzione, che sarà una funzione anch'esso. Successivamente possiamo utilizzare la funzione restituita grazie alla variabile per chiamare la funzione interna.\n",
    "\n",
    "Dall'esempio possiamo notare come abbiamo due funzioni: una esterna e una interna alla prima. Questo esempio è molto semplice, infatti la funzione ```salutare``` non porta nessun beneficio in questo esempio, ma vedremo tra poco qualche esempio molto più pratico. Comunque, la funzione ```salutare``` contiene una funzione ```saluto```. Questo viene fatto perchè ```salutare``` deve tornare una funzione ```saluto``` e di conseguenza quest'ultima funzione deve essere presente nel namespace locale.  \n",
    "Una volta che viene assegnata ```salutare``` ad una variabile, la variabile conterrà la funzione interna ```saluto``` dal quale è possibile passare i relativi parametri e quindi usufruirne per salutare una persona in particolare. Nello specifico la funzione interna restituita è chiamata ```closure```, chiusura. Questo perchè quello che ritorna la funzione esterna non è solamente una funzione, ma un intero ambiente, ovvero delle associazioni nome valore, sostanzialmente ritorna il name space locale della funzione esterna e quindi il namespace non locale, enclosing, della funzione interna.\n",
    "\n",
    "Vediamo un esempio più utile."
   ],
   "cell_type": "markdown",
   "metadata": {}
  },
  {
   "cell_type": "code",
   "execution_count": 10,
   "metadata": {},
   "outputs": [],
   "source": [
    "def tabulazione(f):\n",
    "    def stampa(a, b, step = 0.1):\n",
    "        assert a <= b\n",
    "        print(\"x\\tf(x)\")\n",
    "        x = a\n",
    "        while x <= b + step / 2:\n",
    "            y = f(x)\n",
    "            print(f\"{x:.2f}\\t{y:.2f}\")\n",
    "            x += step\n",
    "    return stampa"
   ]
  },
  {
   "cell_type": "code",
   "execution_count": 12,
   "metadata": {},
   "outputs": [
    {
     "output_type": "stream",
     "name": "stdout",
     "text": [
      "sin, [-1, 1]\nx\tf(x)\n-1.00\t-0.84\n-0.90\t-0.78\n-0.80\t-0.72\n-0.70\t-0.64\n-0.60\t-0.56\n-0.50\t-0.48\n-0.40\t-0.39\n-0.30\t-0.30\n-0.20\t-0.20\n-0.10\t-0.10\n-0.00\t-0.00\n0.10\t0.10\n0.20\t0.20\n0.30\t0.30\n0.40\t0.39\n0.50\t0.48\n0.60\t0.56\n0.70\t0.64\n0.80\t0.72\n0.90\t0.78\n1.00\t0.84\nsin, [0, 1]\nx\tf(x)\n0.00\t0.00\n0.10\t0.10\n0.20\t0.20\n0.30\t0.30\n0.40\t0.39\n0.50\t0.48\n0.60\t0.56\n0.70\t0.64\n0.80\t0.72\n0.90\t0.78\n1.00\t0.84\n"
     ]
    }
   ],
   "source": [
    "from math import sin\n",
    "\n",
    "f = tabulazione(sin)\n",
    "print(\"sin, [-1, 1]\")\n",
    "f(-1, 1)\n",
    "print(\"sin, [0, 1]\")\n",
    "f(0, 1)"
   ]
  },
  {
   "source": [
    "In questo esempio abbiamo riscritto la funzione ```tabulazione``` con l'uso della funzione di ritorno. Già in questo esempio si può vedere come la funzione esterna restituisce un'ambiente e non solo una funzoine. Infatti è possibile chiamare più volte ```f``` con intervalli differenti senza dover specificare ogni volta la funzione sul quale vogliamo fare la tabulazione. Questo perchè è già presente dentro l'ambiente ```f``` la funzione ```sin```. Questa è la chiusura.\n",
    "\n",
    "## Decoratori\n",
    "\n",
    "La forza delle funzioni di ritorno è valorizzata al massimo grazie all'uso dei decoratori. I decoratori sono sostanzialmente zucchero sintattico, ovvero un mezzo per riscrivere qualcosa in maniera molto più pulita e semplice da comprendere.\n",
    "\n",
    "La sintassi dei decodatori è una ```@``` seguita dal nome di una funzione posto sopra alla definizione della funzione da decorare:\n",
    "\n",
    "```python\n",
    "@funzione_decoratore\n",
    "def funzione_decorata():\n",
    "    pass\n",
    "```\n",
    "\n",
    "Lo scopo del decoratore è di semplificare la scrittura della funzione di ritorno. Vediamo un esempio applicato alla precedente funzione di tabulazione."
   ],
   "cell_type": "markdown",
   "metadata": {}
  },
  {
   "cell_type": "code",
   "execution_count": 13,
   "metadata": {},
   "outputs": [],
   "source": [
    "from math import sin\n",
    "\n",
    "@tabulazione\n",
    "def seno(x):\n",
    "    return sin(x)"
   ]
  },
  {
   "cell_type": "code",
   "execution_count": 14,
   "metadata": {},
   "outputs": [
    {
     "output_type": "stream",
     "name": "stdout",
     "text": [
      "x\tf(x)\n-1.00\t-0.84\n-0.90\t-0.78\n-0.80\t-0.72\n-0.70\t-0.64\n-0.60\t-0.56\n-0.50\t-0.48\n-0.40\t-0.39\n-0.30\t-0.30\n-0.20\t-0.20\n-0.10\t-0.10\n-0.00\t-0.00\n0.10\t0.10\n0.20\t0.20\n0.30\t0.30\n0.40\t0.39\n0.50\t0.48\n0.60\t0.56\n0.70\t0.64\n0.80\t0.72\n0.90\t0.78\n1.00\t0.84\n"
     ]
    }
   ],
   "source": [
    "seno(-1, 1)"
   ]
  },
  {
   "source": [
    "Ecco tutta la potenza dei decoratori e delle funzioni di ritorno. La sintassi dei decoratori rende molto più pulito il codice da leggere, ma il programma funziona esattamente come l'esempio precedente.\n",
    "\n",
    "Ma analizziamo cosa succede in pratica. Quando decoriamo una funzione con un decoratore, quello che viene fatto sostanzialmente è quello di passare la funzione decorata alla funzione decoratore che accetta come parametro una funzione e quindi una volta chiamata la funzione decorata, viene restituita la funzione interna della funzione decoratore.\n",
    "\n",
    "Proviamo a mettere in evidenza i passaggi che fa python dell'esempio del decoratore."
   ],
   "cell_type": "markdown",
   "metadata": {}
  },
  {
   "cell_type": "code",
   "execution_count": 15,
   "metadata": {},
   "outputs": [
    {
     "output_type": "stream",
     "name": "stdout",
     "text": [
      "x\tf(x)\n-1.00\t-0.84\n-0.90\t-0.78\n-0.80\t-0.72\n-0.70\t-0.64\n-0.60\t-0.56\n-0.50\t-0.48\n-0.40\t-0.39\n-0.30\t-0.30\n-0.20\t-0.20\n-0.10\t-0.10\n-0.00\t-0.00\n0.10\t0.10\n0.20\t0.20\n0.30\t0.30\n0.40\t0.39\n0.50\t0.48\n0.60\t0.56\n0.70\t0.64\n0.80\t0.72\n0.90\t0.78\n1.00\t0.84\n"
     ]
    }
   ],
   "source": [
    "from math import sin\n",
    "\n",
    "def tabulazione(f):\n",
    "    def stampa(a, b, step = 0.1):\n",
    "        assert a <= b\n",
    "        print(\"x\\tf(x)\")\n",
    "        x = a\n",
    "        while x <= b + step / 2:\n",
    "            y = f(x)\n",
    "            print(f\"{x:.2f}\\t{y:.2f}\")\n",
    "            x += step\n",
    "    return stampa\n",
    "\n",
    "decoratore = tabulazione\n",
    "def seno(x):\n",
    "    return sin(x)\n",
    "seno = decoratore(seno)\n",
    "\n",
    "seno(-1, 1)"
   ]
  },
  {
   "source": [
    "Questo è l'esempio uguale al precedente, ma con la traduzione dello zucchero sintattico che porta il decoratore. Quindi la scrittura ```@decoratore``` è sostanzialmente una scorciatoia per evitare ogni volta, per ogni funzione da decorare, ```decorata = decoratore(funzione)```.\n",
    "\n",
    "Il decoratore viene spesso utilizzato, vista la sua semplicità, come cronometro per misurare il tempo di esecuzione di determinate funzioni."
   ],
   "cell_type": "markdown",
   "metadata": {}
  },
  {
   "cell_type": "code",
   "execution_count": 20,
   "metadata": {
    "tags": []
   },
   "outputs": [
    {
     "output_type": "stream",
     "name": "stdout",
     "text": [
      "Elapsed time: 0.007 ms\nElapsed time: 0.039 ms\nElapsed time: 0.531 ms\nElapsed time: 5.012 ms\nElapsed time: 37.881 ms\n"
     ]
    }
   ],
   "source": [
    "from time import time\n",
    "\n",
    "def time_it(function):\n",
    "    def timed(*args, **kwargs):\n",
    "        start = time() * 1000\n",
    "        result = function(*args, **kwargs)\n",
    "        end = time() * 1000\n",
    "        print(f\"Elapsed time: {end - start:.3f} ms\")\n",
    "        return result\n",
    "    return timed\n",
    "\n",
    "@time_it\n",
    "def pow_to_number(n):\n",
    "    \"\"\"\n",
    "    Calculed square power from 2 to n\n",
    "    \"\"\"\n",
    "    for x in range(2, n):\n",
    "        y = x ** 2\n",
    "        # print(f\"{x} ** 2 = {y}\")\n",
    "\n",
    "pow_to_number(10)\n",
    "pow_to_number(100)\n",
    "pow_to_number(1000)\n",
    "pow_to_number(10000)\n",
    "pow_to_number(100000)"
   ]
  },
  {
   "source": [
    "## Moduli\n",
    "\n",
    "Un modulo in python non è niet'altro che un file contenente definifinizioni e istruzioni. I moduli sono utili perchè possono essere utilizzati sia singolarmente ma anche come librerie esterne, quindi essere importate in altri moduli per permettere il riuso del codice.\n",
    "\n",
    "Per creare un modulo in python basta creare un file contenente il codice che vogliamo importare e nella stessa directory inserire un file ```__init__.py``` che permetterà a python di interpretare la seguente directory come un ```package```, ovvero contenitore di moduli.\n",
    "\n",
    "Possiamo provare quindi ad importare il modulo ```first_module.py```.  \n",
    "Prima di fare ciò, una piccola nota sull'interprete IPython, quello che sto usando nel corrente notebook. IPython è un interprete che riesce a comprendere anche comandi ```shell``` e quindi è possibile utilizzare la shell direttamente da IPython.  \n",
    "Ma ora proviamo ad importare il nostro modulo dentro la cartella ```modules```."
   ],
   "cell_type": "markdown",
   "metadata": {}
  },
  {
   "cell_type": "code",
   "execution_count": 1,
   "metadata": {},
   "outputs": [
    {
     "output_type": "execute_result",
     "data": {
      "text/plain": [
       "'/Users/luigimalaguti/Desktop/Designs/LearnDynamicLanguages/1_LinguaggioPython'"
      ]
     },
     "metadata": {},
     "execution_count": 1
    }
   ],
   "source": [
    "pwd"
   ]
  },
  {
   "cell_type": "code",
   "execution_count": 2,
   "metadata": {},
   "outputs": [
    {
     "output_type": "stream",
     "name": "stdout",
     "text": [
      "total 136\ndrwxr-xr-x@ 5 luigimalaguti  staff   160B Dec  4 11:48 \u001b[1m\u001b[31m.\u001b[m\u001b[m/\ndrwxr-xr-x@ 9 luigimalaguti  staff   288B Dec  4 11:48 \u001b[1m\u001b[31m..\u001b[m\u001b[m/\n-rw-r--r--  1 luigimalaguti  staff    63K Dec  4 11:47 1_caratteristiche_di_base.ipynb\n-rw-r--r--  1 luigimalaguti  staff   196B Dec  2 12:40 README.md\ndrwxr-xr-x@ 4 luigimalaguti  staff   128B Dec  4 11:48 \u001b[1m\u001b[31mmodules\u001b[m\u001b[m/\n"
     ]
    }
   ],
   "source": [
    "ls -lah"
   ]
  },
  {
   "cell_type": "code",
   "execution_count": 3,
   "metadata": {},
   "outputs": [
    {
     "output_type": "stream",
     "name": "stdout",
     "text": [
      "/Users/luigimalaguti/Desktop/Designs/LearnDynamicLanguages/1_LinguaggioPython/modules\n"
     ]
    }
   ],
   "source": [
    "cd modules/"
   ]
  },
  {
   "cell_type": "code",
   "execution_count": 4,
   "metadata": {},
   "outputs": [
    {
     "output_type": "stream",
     "name": "stdout",
     "text": [
      "total 8\ndrwxr-xr-x@ 4 luigimalaguti  staff   128B Dec  4 11:48 \u001b[1m\u001b[31m.\u001b[m\u001b[m/\ndrwxr-xr-x@ 5 luigimalaguti  staff   160B Dec  4 11:48 \u001b[1m\u001b[31m..\u001b[m\u001b[m/\n-rw-r--r--  1 luigimalaguti  staff     0B Dec  4 11:47 __init__.py\n-rw-r--r--  1 luigimalaguti  staff   519B Dec  4 11:48 first_module.py\n"
     ]
    }
   ],
   "source": [
    "ls -lah"
   ]
  },
  {
   "cell_type": "code",
   "execution_count": 7,
   "metadata": {},
   "outputs": [
    {
     "output_type": "stream",
     "name": "stdout",
     "text": [
      "x\tf(x)\n-1.00\t0.54\n-0.90\t0.62\n-0.80\t0.70\n-0.70\t0.76\n-0.60\t0.83\n-0.50\t0.88\n-0.40\t0.92\n-0.30\t0.96\n-0.20\t0.98\n-0.10\t1.00\n-0.00\t1.00\n0.10\t1.00\n0.20\t0.98\n0.30\t0.96\n0.40\t0.92\n0.50\t0.88\n0.60\t0.83\n0.70\t0.76\n0.80\t0.70\n0.90\t0.62\n1.00\t0.54\n"
     ]
    }
   ],
   "source": [
    "from math import cos\n",
    "\n",
    "from modules.first_module import tabulazione\n",
    "\n",
    "@tabulazione\n",
    "def coseno(x):\n",
    "    return cos(x)\n",
    "\n",
    "coseno(-1, 1)"
   ]
  }
 ]
}