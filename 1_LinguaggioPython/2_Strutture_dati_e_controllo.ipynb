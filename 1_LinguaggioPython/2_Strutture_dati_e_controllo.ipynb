{
 "metadata": {
  "language_info": {
   "codemirror_mode": {
    "name": "ipython",
    "version": 3
   },
   "file_extension": ".py",
   "mimetype": "text/x-python",
   "name": "python",
   "nbconvert_exporter": "python",
   "pygments_lexer": "ipython3",
   "version": "3.9.0-final"
  },
  "orig_nbformat": 2,
  "kernelspec": {
   "name": "python3",
   "display_name": "Python 3"
  }
 },
 "nbformat": 4,
 "nbformat_minor": 2,
 "cells": [
  {
   "source": [
    "# Strutture dati e controllo\n",
    "\n",
    "Un elemento fondamentale nella progettazione di software efficiente, o di algoritmi non banali, è la disponibilità di strutture dati che consentano di rappresentare i dati in maniera molto semplice e naturale. A loro volta, le strutture dati devono supportare le operazioni di modifica e accesso agli elementi in maniera efficiente oltre che semplice.  \n",
    "Dati e controllo sono quindi legati in maniera molto stretta e ciò si riflette nella corrispondente disponibilità di meccanismi programmativi adeguati per questi scopi.\n",
    "\n",
    "In python gli ```iteratori``` e ```iterabili``` sono un esempio notevole di questi meccanismi che prenderemo in considerazione in questo notebook. Oltre ad essi, studieremo i ```generatori```, meccanismi molto più affini al concetto di funzione ma che implementa lo stesso meccanismo degli iteratori. Per concludere parleremo anche di ```coroutine```. Queste possono essere viste in python come un'estensione dei generatori, ma che implementa un protocollo più bidirezionale, ovvero tra chiamante e chiamato.\n",
    "\n",
    "## Struttura iterabile\n",
    "\n",
    "Un iterabile in python, come dice già la parole in sè, è una struttura su cui si può iterare, ovvero accedere a tutti gli elementi secondo un ordine prestabilito. Più semplicemente, un iteratore è un contenitore ordinato di oggetti generati all'occorrenza, ovvero quando viene richiesto l'oggetto successivo viene calcolato.\n",
    "\n",
    "Vediamo subito un esempio di iteratore che abbiamo usato senza saperlo."
   ],
   "cell_type": "markdown",
   "metadata": {}
  },
  {
   "cell_type": "code",
   "execution_count": 5,
   "metadata": {},
   "outputs": [
    {
     "output_type": "stream",
     "name": "stdout",
     "text": [
      "<class 'range'>\n"
     ]
    }
   ],
   "source": [
    "# Iterabile che permette ad ogni chiamata di \n",
    "# Restituire l'oggetto successivo, quindi\n",
    "# 1, 2, 3, 4, 5, 6, 7, 8, 9, 10\n",
    "R = range(1, 10)\n",
    "print(type(R))"
   ]
  },
  {
   "source": [
    "L'iterabile range definisce quindi un intervallo di interi. Esso è definito da tre numeri, l'estremo iniziale, finale e il passo da fare ogni iterazione. Se il passo non viene specificato, lo si assume pari a 1.\n",
    "\n",
    "In Python 2 dichiarare un range era analogo a dichiarare una lista contenete i valori che avrebbe restituito il range. Questa implementazione di range non utilizzava il concetto di iterabile, infatti come grande svantaggio aveva che su grossi intervalli venivano allocati tutti i numeri dell'intervallo stesso, e quindi un grosso utilizzo di memoria solamente per ottenere un insieme di numeri.  \n",
    "Python 3 introdusse il concetto di iterabile e range ebbe subito un notevole beneficio. Come prima cosa, range non restituiva una lista di interi, ma un oggetto range, come visto sopra. Questo oggetto iterabile ha la capacità di creare l'intero successivo all'occorrenza seguendo determinate regole, nel caso del range il passo. Facendo questo cambiamento implementativo in range, quando si richiede un grosso insieme di numeri, la memoria non viene più riempita come nella precedente versione, e quindi ne beneficia sia essa che le prestazioni.\n",
    "\n",
    "Questa spiegazione di iterabile segue immediatamente il concetto di iteratore.  \n",
    "L'iteratore è del codice che sa come accedere, generare, uno ad uno gli elementi dell'iterabile.\n",
    "\n",
    "Vediamo un esempio di iterabile e iteratore con range."
   ],
   "cell_type": "markdown",
   "metadata": {}
  },
  {
   "cell_type": "code",
   "execution_count": 8,
   "metadata": {},
   "outputs": [
    {
     "output_type": "stream",
     "name": "stdout",
     "text": [
      "<class 'range'>\n<class 'range_iterator'>\n"
     ]
    }
   ],
   "source": [
    "iterabile = range(10)\n",
    "iteratore = iter(iterabile)\n",
    "\n",
    "print(type(iterabile))\n",
    "print(type(iteratore))"
   ]
  },
  {
   "cell_type": "code",
   "execution_count": 9,
   "metadata": {},
   "outputs": [
    {
     "output_type": "stream",
     "name": "stdout",
     "text": [
      "0\n1\n2\n3\n"
     ]
    }
   ],
   "source": [
    "print(next(iteratore))\n",
    "print(next(iteratore))\n",
    "print(next(iteratore))\n",
    "print(next(iteratore))"
   ]
  },
  {
   "cell_type": "code",
   "execution_count": 10,
   "metadata": {},
   "outputs": [
    {
     "output_type": "stream",
     "name": "stdout",
     "text": [
      "P\ny\nt\nh\n"
     ]
    }
   ],
   "source": [
    "iterabile = \"Python 3\"\n",
    "iteratore = iter(iterabile)\n",
    "\n",
    "print(next(iteratore))\n",
    "print(next(iteratore))\n",
    "print(next(iteratore))\n",
    "print(next(iteratore))"
   ]
  },
  {
   "cell_type": "code",
   "execution_count": 12,
   "metadata": {},
   "outputs": [
    {
     "output_type": "stream",
     "name": "stdout",
     "text": [
      "1\na\n(2, 'b')\nTrue\n"
     ]
    }
   ],
   "source": [
    "iterabile = [1, \"a\", (2, \"b\"), True]\n",
    "iteratore = iter(iterabile)\n",
    "\n",
    "print(next(iteratore))\n",
    "print(next(iteratore))\n",
    "print(next(iteratore))\n",
    "print(next(iteratore))"
   ]
  },
  {
   "source": [
    "Quindi, la sostanziale differenza tra iterabile e iteratore è la seguente:\n",
    "\n",
    "- Iterabile, contenitore di oggetti sul quale è possibile iterare\n",
    "- Iteratore, codice che conosce il come iterare l'iteratore\n",
    "\n",
    "Chiaramente l'iteratore deve implementare un meccanismo per quando l'iterabile è concluso. Nel caso si arrivi alla conclusione dell'iterabile, l'iteratore solleverà un'eccezzione ```StopIteration```."
   ],
   "cell_type": "markdown",
   "metadata": {}
  },
  {
   "cell_type": "code",
   "execution_count": 14,
   "metadata": {},
   "outputs": [
    {
     "output_type": "stream",
     "name": "stdout",
     "text": [
      "0\n1\n2\n"
     ]
    },
    {
     "output_type": "error",
     "ename": "StopIteration",
     "evalue": "",
     "traceback": [
      "\u001b[0;31m---------------------------------------------------------------------------\u001b[0m",
      "\u001b[0;31mStopIteration\u001b[0m                             Traceback (most recent call last)",
      "\u001b[0;32m<ipython-input-14-e4bfc61cc343>\u001b[0m in \u001b[0;36m<module>\u001b[0;34m\u001b[0m\n\u001b[1;32m      5\u001b[0m \u001b[0mprint\u001b[0m\u001b[0;34m(\u001b[0m\u001b[0mnext\u001b[0m\u001b[0;34m(\u001b[0m\u001b[0miteratore\u001b[0m\u001b[0;34m)\u001b[0m\u001b[0;34m)\u001b[0m\u001b[0;34m\u001b[0m\u001b[0;34m\u001b[0m\u001b[0m\n\u001b[1;32m      6\u001b[0m \u001b[0mprint\u001b[0m\u001b[0;34m(\u001b[0m\u001b[0mnext\u001b[0m\u001b[0;34m(\u001b[0m\u001b[0miteratore\u001b[0m\u001b[0;34m)\u001b[0m\u001b[0;34m)\u001b[0m\u001b[0;34m\u001b[0m\u001b[0;34m\u001b[0m\u001b[0m\n\u001b[0;32m----> 7\u001b[0;31m \u001b[0mprint\u001b[0m\u001b[0;34m(\u001b[0m\u001b[0mnext\u001b[0m\u001b[0;34m(\u001b[0m\u001b[0miteratore\u001b[0m\u001b[0;34m)\u001b[0m\u001b[0;34m)\u001b[0m\u001b[0;34m\u001b[0m\u001b[0;34m\u001b[0m\u001b[0m\n\u001b[0m",
      "\u001b[0;31mStopIteration\u001b[0m: "
     ]
    }
   ],
   "source": [
    "iterabile = range(3)\n",
    "iteratore = iter(iterabile)\n",
    "\n",
    "print(next(iteratore))\n",
    "print(next(iteratore))\n",
    "print(next(iteratore))\n",
    "print(next(iteratore))      # Solleva eccezzione StopIteration"
   ]
  },
  {
   "cell_type": "code",
   "execution_count": 15,
   "metadata": {},
   "outputs": [
    {
     "output_type": "stream",
     "name": "stdout",
     "text": [
      "0\n1\n2\n"
     ]
    }
   ],
   "source": [
    "iterabile = range(3)\n",
    "iteratore = iter(iterabile)\n",
    "\n",
    "while True:\n",
    "    try:\n",
    "        elemento = next(iteratore)\n",
    "    except StopIteration:\n",
    "        break\n",
    "    else:\n",
    "        print(elemento)"
   ]
  },
  {
   "source": [
    "Abbiamo detto nello scorso notebook che il for in python è molto diverso di for di altri linguaggi. L'iterabile e l'iteratore ne è il motivo.  \n",
    "Il for richiede un oggetto iterabile per essere utilizzato e quello che fa il for sostanzialmente è chiamare l'oggetto successivo dall'iterabile e gestire in maniera automatica la conclusione dell'iterabile. Sostanzialmente il for è l'implementazione con il while e il try/except appena vista sopra."
   ],
   "cell_type": "markdown",
   "metadata": {}
  },
  {
   "cell_type": "code",
   "execution_count": 16,
   "metadata": {},
   "outputs": [
    {
     "output_type": "stream",
     "name": "stdout",
     "text": [
      "0\n1\n2\n"
     ]
    }
   ],
   "source": [
    "iterabile = range(3)\n",
    "\n",
    "for elemento in iterabile:\n",
    "    print(elemento)"
   ]
  },
  {
   "source": [
    "## Costruzione di strutture\n",
    "\n",
    "Abbiamo visto che gli iteratori consentano di percorrere una struttura, ora vediamo come costruire una struttura efficiente.\n",
    "\n",
    "Immaginiamo di avere bisogno di una lista dei quadrati dei primi n numeri a partire da 0. Potremmo usare un for e le liste."
   ],
   "cell_type": "markdown",
   "metadata": {}
  },
  {
   "cell_type": "code",
   "execution_count": 19,
   "metadata": {},
   "outputs": [
    {
     "output_type": "stream",
     "name": "stdout",
     "text": [
      "[0, 1, 4, 9, 16, 25, 36, 49, 64, 81]\n"
     ]
    }
   ],
   "source": [
    "def squares(n):\n",
    "    squares_list = []\n",
    "    for number in range(n):\n",
    "        squares_list.append(number ** 2)\n",
    "    return squares_list\n",
    "\n",
    "l = squares(10)\n",
    "print(l)"
   ]
  },
  {
   "source": [
    "Ma chiaramente questa è un'implementazione analoga al range in python 2. Questa implementazione genera tutti i valori e non c'è altro modo che generarli tutti.\n",
    "\n",
    "Una seconda possibilità per risolvere il nostro problema è di crearci una struttura dati iterabile ad hoc."
   ],
   "cell_type": "markdown",
   "metadata": {}
  },
  {
   "cell_type": "code",
   "execution_count": 25,
   "metadata": {},
   "outputs": [],
   "source": [
    "class Squares:\n",
    "    def __init__(self, n):\n",
    "        self.n = n\n",
    "        self.i = 0\n",
    "\n",
    "    def __iter__(self):\n",
    "        return self\n",
    "\n",
    "    def __next__(self):\n",
    "        if self.i == self.n:\n",
    "            raise StopIteration\n",
    "        e = self.i\n",
    "        self.i += 1\n",
    "        return e ** 2"
   ]
  },
  {
   "cell_type": "code",
   "execution_count": 27,
   "metadata": {},
   "outputs": [
    {
     "output_type": "stream",
     "name": "stdout",
     "text": [
      "<class '__main__.Squares'>\n<__main__.Squares object at 0x108c9ee20>\n0\n1\n4\n9\n16\n25\n36\n49\n64\n81\n"
     ]
    }
   ],
   "source": [
    "s = Squares(10)\n",
    "\n",
    "print(type(s))\n",
    "print(s)\n",
    "\n",
    "for e in s:\n",
    "    print(e)"
   ]
  },
  {
   "source": [
    "## List comprehension\n",
    "\n",
    "La list comprehension è un meccanismo che rende semplice e compatto la costruzione di una lista e non solo, vale anche per altre strutture dati.  \n",
    "\n",
    "Immaginiamo di avere un file di log contenente una serie di indirizzi. Quello che vogliamo è avere una lista in python contenente solamente gli indirizzi appartenenti a UNIMORE, quindi di dominio ```unimore.it```.\n",
    "\n",
    "Una soluzione classica può essere la seguente."
   ],
   "cell_type": "markdown",
   "metadata": {}
  },
  {
   "cell_type": "code",
   "execution_count": 2,
   "metadata": {},
   "outputs": [
    {
     "output_type": "stream",
     "name": "stdout",
     "text": [
      "UNIMORE Domains:\nunimore.it\nwww.ingmo.unimore.it\ninginf.unimore.it\n"
     ]
    }
   ],
   "source": [
    "unimore = []\n",
    "\n",
    "with open(\"files/addresses.log\", \"r\") as file:\n",
    "    lines = file.readlines()\n",
    "    for line in lines:\n",
    "        if line.find(\"unimore.it\") != -1:\n",
    "            unimore.append(line.strip())\n",
    "\n",
    "print(\"UNIMORE Domains:\")\n",
    "for domain in unimore:\n",
    "    print(domain)"
   ]
  },
  {
   "source": [
    "Come si può notare dall'esempio, ci sono molte righe di codice per un compito semplice. Qui ci aiuta python con la list comprehension.\n",
    "\n",
    "Vediamo l'esempio e poi lo commentiamo."
   ],
   "cell_type": "markdown",
   "metadata": {}
  },
  {
   "cell_type": "code",
   "execution_count": 8,
   "metadata": {},
   "outputs": [
    {
     "output_type": "stream",
     "name": "stdout",
     "text": [
      "<class 'list'>\nUNIMORE Domains:\nunimore.it\nwww.ingmo.unimore.it\ninginf.unimore.it\n"
     ]
    }
   ],
   "source": [
    "unimore = []\n",
    "\n",
    "with open(\"files/addresses.log\", \"r\") as file:\n",
    "    lines = file.readlines()\n",
    "    unimore = [line.strip() for line in lines if line.find(\"unimore.it\") != -1]\n",
    "\n",
    "print(type(unimore))\n",
    "print(\"UNIMORE Domains:\")\n",
    "for domain in unimore:\n",
    "    print(domain)"
   ]
  },
  {
   "source": [
    "Il codice qui sopra potrebbe essere ridotto ulteriormente, ma ne andrebbe a discapito della facilità di lettura del codice stesso.\n",
    "\n",
    "Quindi la list comprehension ci permette di creare una struttura dati in una unica linea di codice mettendo anche delle condizioni da rispettare.\n",
    "\n",
    "La scrittura generica è la seguente.\n",
    "\n",
    "```python\n",
    "[<espressione> for <id> in <iterabile> if <condizione>]\n",
    "```\n",
    "\n",
    "Vediamo ora un esempio di list comprehension usando tuple e dizionari."
   ],
   "cell_type": "markdown",
   "metadata": {}
  },
  {
   "cell_type": "code",
   "execution_count": 9,
   "metadata": {},
   "outputs": [
    {
     "output_type": "stream",
     "name": "stdout",
     "text": [
      "<class 'generator'>\nUNIMORE Domains:\nunimore.it\nwww.ingmo.unimore.it\ninginf.unimore.it\n"
     ]
    }
   ],
   "source": [
    "unimore = ()\n",
    "\n",
    "with open(\"files/addresses.log\", \"r\") as file:\n",
    "    lines = file.readlines()\n",
    "    unimore = (line.strip() for line in lines if line.find(\"unimore.it\") != -1)\n",
    "\n",
    "print(type(unimore))\n",
    "print(\"UNIMORE Domains:\")\n",
    "for domain in unimore:\n",
    "    print(domain)"
   ]
  },
  {
   "cell_type": "code",
   "execution_count": 12,
   "metadata": {},
   "outputs": [
    {
     "output_type": "stream",
     "name": "stdout",
     "text": [
      "<class 'dict'>\nUNIMORE Domains:\n2 unimore.it\n4 www.ingmo.unimore.it\n5 inginf.unimore.it\n"
     ]
    }
   ],
   "source": [
    "unimore = {}\n",
    "\n",
    "with open(\"files/addresses.log\", \"r\") as file:\n",
    "    lines = file.readlines()\n",
    "    unimore = {index: line.strip() for index, line in zip(range(10), lines) if line.find(\"unimore.it\") != -1}\n",
    "\n",
    "print(type(unimore))\n",
    "print(\"UNIMORE Domains:\")\n",
    "for index, domain in unimore.items():\n",
    "    print(index, domain)"
   ]
  },
  {
   "source": [
    "Notiamo qualcosa di particolare nella list comprehension della tupla. Notiamo che il tipo che ritorna è un ```generator```. Quindi è arrivato il momento di analizzare cosa siano i generatori.\n",
    "\n",
    "## Generatori\n",
    "\n",
    "Un generatore implementa lo stesso protocollo di un iteratore, ma è definibile in modo più semplice a partire dalla ben nota nozione di funzione.  \n",
    "Con il termine generatore solitamente racchiudiamo due concetti differenti:\n",
    "\n",
    "- Funzione generatore\n",
    "- Oggetto generatore\n",
    "\n",
    "La funzione generatore è la funzione in sè, la funzione che implementa la logica dell'iterazione dei valori.  \n",
    "L'oggetto generatore è invece l'oggetto che permette di iterare e sul quale è possibile chiamare il metodo ```next```.\n",
    "\n",
    "Strutturalmente, una funzione viene considerata generatore se implementa all'interno della definizione l'istruzione ```yeld``` al posto della classica ```return```. L'istruzione yeld permette di ritornare un determinato parametro ogni volta che viene utilizzato next.\n",
    "\n",
    "Vediamo un possibile generatore."
   ],
   "cell_type": "markdown",
   "metadata": {}
  },
  {
   "cell_type": "code",
   "execution_count": 13,
   "metadata": {},
   "outputs": [],
   "source": [
    "# Funzione generatore\n",
    "def fibonacci():\n",
    "    a = 0\n",
    "    b = 1\n",
    "    while True:\n",
    "        yield b\n",
    "        a, b = b, a + b"
   ]
  },
  {
   "cell_type": "code",
   "execution_count": 14,
   "metadata": {},
   "outputs": [
    {
     "output_type": "stream",
     "name": "stdout",
     "text": [
      "<class 'generator'>\n"
     ]
    }
   ],
   "source": [
    "# Oggetto generatores\n",
    "f = fibonacci()\n",
    "\n",
    "print(type(f))"
   ]
  },
  {
   "cell_type": "code",
   "execution_count": 15,
   "metadata": {},
   "outputs": [
    {
     "output_type": "stream",
     "name": "stdout",
     "text": [
      "1\n1\n2\n"
     ]
    }
   ],
   "source": [
    "for i in range(3):\n",
    "    print(next(f))"
   ]
  },
  {
   "source": [
    "Quando viene chiamato il primo next, python esegue la funzione generatore fino a quando non raggiunge l'istruzione yield. A quel punto, l'esecuzione della funzione si interrompe e viene ritornato al metodo next il valore in yield.  \n",
    "Alla chiamata successiva di next, python fa ripartire l'esecuzione della funzione del punto di interruzzione precedente, quindi riprende a eseguire dalla yield della chiamataa precedente fino ad arrivare nuovamente alla yield corrente.\n",
    "\n",
    "Torniamo ora un attimo alla list comprehension sulla tupla. Abbiamo notato come generasse un generatore. Ora che abbiamo capito cosa sia, possiamo usufruirne con la next.  \n",
    "Quindi la list comprehension sulle tuple è sostanzialmente un metodo veloce e rapido, anche se limitato, di creare dei generatori inline.\n",
    "\n",
    "## Coroutine\n",
    "\n",
    "La coroutine è sostanzialmente un generatore bidirezionale. Infatti il generatore non è in grado di ricevere input dato che la chiatata su di esso viene effettuata dalla next.  \n",
    "Detto ciò, la yield in realtà è un'istruzione bidirezionale, ovvero è in grado di reicevere e restituire un valore. Il suo uso generale è il seguente:\n",
    "\n",
    "```python\n",
    "in = yield out\n",
    "```\n",
    "\n",
    "Dove ```in``` è una variabile e ```out``` è un'espressione. Importante è l'ordine di esecuzione. Prima il generatore restituisce un valore al chiamante e solo successivamente il generatore viene riattivato ricevendo un input dal chiamate. Per inviare un valore al generatore si usa l'istruzione ```send```.\n",
    "\n",
    "Quindi un generatore al quale si può passare input è detta coroutine. Vediamo un esempio semplice."
   ],
   "cell_type": "markdown",
   "metadata": {}
  },
  {
   "cell_type": "code",
   "execution_count": 16,
   "metadata": {},
   "outputs": [
    {
     "output_type": "stream",
     "name": "stdout",
     "text": [
      "Coroutine created\n",
      "Coroutine started\n",
      "Message from coroutine: 1\n",
      "Message to coroutine: 1\n",
      "Message from coroutine: 4\n",
      "Message to coroutine: 2\n",
      "Message from coroutine: 9\n",
      "Message to coroutine: 3\n",
      "Message from coroutine: 16\n",
      "Message to coroutine: 2\n",
      "Message from coroutine: 25\n",
      "Message to coroutine: \n",
      "Coroutine ended\n"
     ]
    }
   ],
   "source": [
    "def coroutine():\n",
    "    print(\"Coroutine started\")\n",
    "    for i in range(1, 6):\n",
    "        x = (yield i ** 2)\n",
    "        print(f\"Message to coroutine: {x}\")\n",
    "\n",
    "c = coroutine()\n",
    "\n",
    "print(\"Coroutine created\")\n",
    "print(f\"Message from coroutine: {next(c)}\")\n",
    "\n",
    "try:\n",
    "    while True:\n",
    "        x = input(\"Enter a value: \")\n",
    "        print(f\"Message from coroutine: {c.send(x)}\")\n",
    "except StopIteration:\n",
    "    print(\"Coroutine ended\")"
   ]
  },
  {
   "source": [
    "Attenzione, è molto importante che una coroutine parta con un next, perchè le coroutine hanno la necessità prima di mandare informazioni e solamente dopo riceverle, proprio dovuto al meccanismo dell'istruzione yield."
   ],
   "cell_type": "markdown",
   "metadata": {}
  }
 ]
}