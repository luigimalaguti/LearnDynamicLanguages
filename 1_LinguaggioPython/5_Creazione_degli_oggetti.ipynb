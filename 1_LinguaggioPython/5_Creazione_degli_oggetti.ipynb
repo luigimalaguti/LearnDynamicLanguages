{
 "metadata": {
  "language_info": {
   "codemirror_mode": {
    "name": "ipython",
    "version": 3
   },
   "file_extension": ".py",
   "mimetype": "text/x-python",
   "name": "python",
   "nbconvert_exporter": "python",
   "pygments_lexer": "ipython3",
   "version": "3.9.0-final"
  },
  "orig_nbformat": 2,
  "kernelspec": {
   "name": "python3",
   "display_name": "Python 3",
   "language": "python"
  }
 },
 "nbformat": 4,
 "nbformat_minor": 2,
 "cells": [
  {
   "source": [
    "# Creazione degli oggetti\n",
    "\n",
    "In questoo notebook iniziamo a presentare gli elementi che ci permettono di descrivere in dettaglio la procedurra di instanziazione di una classe.\n",
    "\n",
    "Come abbiamo già osservato per l'accesso agli attributi, python rende disponibili alcuni metodi che possono essere ridefiniti dall'utente per customizzare la procedura. Abbiamo precedentemente studiato i metodi \\__new\\__ e \\__init\\__, ma python rende disponibile un ulteriore metodo per la creazione degli oggetti, il metodo ```__call__```.\n",
    "\n",
    "Come già il nome del metodo stesso ci fa intuire, il metodo \\__call\\__ viene invocato ogni qualvolta una istanza di un oggetto viene utilizzata. Vediamo un primo esempio.\n",
    "\n",
    "Supponiamo di volere creare una classe che permetta di generare un numero random in un certo intervallo."
   ],
   "cell_type": "markdown",
   "metadata": {}
  },
  {
   "cell_type": "code",
   "execution_count": 1,
   "metadata": {},
   "outputs": [],
   "source": [
    "from random import random"
   ]
  },
  {
   "cell_type": "code",
   "execution_count": 2,
   "metadata": {},
   "outputs": [],
   "source": [
    "class Uniform:\n",
    "    def __init__(self, a, b):\n",
    "        self.a = a\n",
    "        self.b = b\n",
    "\n",
    "    def __call__(self):\n",
    "        self.num = self.a + (self.b - self.a) * random()\n",
    "        return self.num"
   ]
  },
  {
   "cell_type": "code",
   "execution_count": 3,
   "metadata": {},
   "outputs": [
    {
     "output_type": "stream",
     "name": "stdout",
     "text": [
      "-0.9393507137456651\n-0.7954368671729926\n-0.7010791854059761\n-0.7290567312421672\n0.7491029853615401\n"
     ]
    }
   ],
   "source": [
    "generator = Uniform(-1, 1)\n",
    "\n",
    "for _ in range(5):\n",
    "    print(generator.__call__())"
   ]
  },
  {
   "source": [
    "Tutto funziona come deve. Ma come visto dal notebook sugli attributi, non è il modo migliore invocare manualmente il metodo \\__call\\__.\n",
    "\n",
    "Infatti il metodo \\__call\\__ può essere invocato in un altro modo. La presenza di esso in una classe permette di rendere gli oggetti della classe stessa oggetti di tipo ```callable```."
   ],
   "cell_type": "markdown",
   "metadata": {}
  },
  {
   "cell_type": "code",
   "execution_count": 6,
   "metadata": {},
   "outputs": [
    {
     "output_type": "stream",
     "name": "stdout",
     "text": [
      "-0.3981300012719935\n"
     ]
    }
   ],
   "source": [
    "print(generator())"
   ]
  },
  {
   "source": [
    "## \\__call\\__ come decoratore\n",
    "\n",
    "Il passo precedente allo studio della creazione degli oggetti è proprio comprendere come utilizzare il metodo \\__call\\__ per creare decoratori.\n",
    "\n",
    "Proviamo ad utilizzare la classe precedente, ma questa volta come decoratore."
   ],
   "cell_type": "markdown",
   "metadata": {}
  },
  {
   "cell_type": "code",
   "execution_count": 8,
   "metadata": {},
   "outputs": [],
   "source": [
    "class Uniform:\n",
    "    def __init__(self, a, b):\n",
    "        self.a = a\n",
    "        self.b = b\n",
    "\n",
    "    def __call__(self, random_function):\n",
    "        func = lambda : self.a + (self.b - self.a) * random_function()\n",
    "        return func"
   ]
  },
  {
   "cell_type": "code",
   "execution_count": 10,
   "metadata": {},
   "outputs": [],
   "source": [
    "@Uniform(-1, 1)\n",
    "def generator():\n",
    "    from random import random\n",
    "    return random()"
   ]
  },
  {
   "cell_type": "code",
   "execution_count": 12,
   "metadata": {},
   "outputs": [
    {
     "output_type": "stream",
     "name": "stdout",
     "text": [
      "0.3769236752632188\n"
     ]
    }
   ],
   "source": [
    "print(generator())"
   ]
  },
  {
   "source": [
    "Funziona tutto come dovrebbe funzionare. Ma proviamo ad entrare nei dettagli di quello che succede.\n",
    "\n",
    "Ricordiamoci come prima cosa cos'è un decoratore.\n",
    "\n",
    "```python\n",
    "def decoratore(f):\n",
    "    def g(attr):\n",
    "        return f(attr)\n",
    "    return g\n",
    "```\n",
    "\n",
    "Il decoratore è quindi una funzione che permette di ritornare una seconda funzione eventualmente modificata. Quindi il processo esteso che viene effettuato nell'esempio sopra è l'analogo dell'esempio sotto."
   ],
   "cell_type": "markdown",
   "metadata": {}
  },
  {
   "cell_type": "code",
   "execution_count": 13,
   "metadata": {},
   "outputs": [],
   "source": [
    "uniform = Uniform(-1, 1)\n",
    "def generator():\n",
    "    from random import random\n",
    "    return random()\n",
    "generator = uniform(generator)"
   ]
  },
  {
   "cell_type": "code",
   "execution_count": 14,
   "metadata": {},
   "outputs": [
    {
     "output_type": "stream",
     "name": "stdout",
     "text": [
      "-0.43658555053266457\n"
     ]
    }
   ],
   "source": [
    "print(generator())"
   ]
  },
  {
   "source": [
    "Il metodo utilizzato nel notebook sul decoratore è uguale a quello utilizzato sopra. L'unica differenza sta nel decoratore. Infatti precedentemente l'avevamo definito come una funzione contenente una seconda funzione, mentre con l'ausilio di \\__call\\__ il decoratore è diventato una classe.\n",
    "\n",
    "Questo sistema della classe decoratore funziona appunto grazie al metodo \\__call\\__. Quando chiamiamo la funzione decorata, python chiamerà prima \\__call\\__ dalla classe decoratore passandogli la funzione decorata ed il gioco è fatto.\n",
    "\n",
    "## Le classi come oggetti e la loro creazione\n",
    "\n",
    "Abbiamo già precisato inizialmente come in python tutto è un oggetto. Quando diciamo tutto intendiamo proprio tutto, anche le classi. Ma se gli oggetti sono istanza di classi che definiamo noi e le classi sono a loro volta oggetti, questo vuole dire che le classi sono istanze di una qualche altra classe."
   ],
   "cell_type": "markdown",
   "metadata": {}
  },
  {
   "cell_type": "code",
   "execution_count": 15,
   "metadata": {},
   "outputs": [],
   "source": [
    "class A:\n",
    "    x = 0\n",
    "\n",
    "class B(A):\n",
    "    y = 1\n",
    "\n",
    "    def __init__(self, z = 2):\n",
    "        self.z = z"
   ]
  },
  {
   "cell_type": "code",
   "execution_count": 16,
   "metadata": {},
   "outputs": [
    {
     "output_type": "stream",
     "name": "stdout",
     "text": [
      "<class 'type'>\n<class 'type'>\n"
     ]
    }
   ],
   "source": [
    "print(type(A))\n",
    "print(type(type))"
   ]
  },
  {
   "source": [
    "Esatto, tutte le classi sono a loro volta istanza della ```metaclasse``` type. Vedremo tra un po cosa intendiamo per metaclasse.\n",
    "\n",
    "Questo ci porta a pensare una cosa, ma se python utilizza la classe type per istanziare altre classi, è possibile svolgere questa procedura manualmente anzichè lasciarlo fare all'interprete? La risposta è ovviamente si.\n",
    "\n",
    "Bisogna però spendere due parole su type.\n",
    "\n",
    "Type in python è sia una funzione built-in che una classe.\n",
    "\n",
    "La funzione built-in richiede o un singolo parametro oppure tre parametri. Nel caso del parametro singolo richiede solamente l'istanza di una qualche classe e restituisce il tipo dell'oggetto stesso."
   ],
   "cell_type": "markdown",
   "metadata": {}
  },
  {
   "cell_type": "code",
   "execution_count": 17,
   "metadata": {},
   "outputs": [
    {
     "output_type": "stream",
     "name": "stdout",
     "text": [
      "<class 'type'>\n"
     ]
    }
   ],
   "source": [
    "print(type(A))"
   ]
  },
  {
   "source": [
    "Mentre nel caso di tre parametri, essi sono:\n",
    "\n",
    "- Nome della classe, stringa\n",
    "- Le sue eventuali classi base, tupla\n",
    "- Il dizionario degli attributi, dizionario\n",
    "\n",
    "Nel caso della funzione built-in con tre parametri è facile intuire che il suo scopo è la creazione a sua volta di una classe."
   ],
   "cell_type": "markdown",
   "metadata": {}
  },
  {
   "cell_type": "code",
   "execution_count": 19,
   "metadata": {},
   "outputs": [],
   "source": [
    "ClassA = type('A', (), {'x': 0})\n",
    "\n",
    "def init(self, z = 2):\n",
    "    self.z = z\n",
    "\n",
    "ClassB = type('B', (ClassA, ), {'__init__': init, 'y': 1})"
   ]
  },
  {
   "cell_type": "code",
   "execution_count": 20,
   "metadata": {},
   "outputs": [
    {
     "output_type": "stream",
     "name": "stdout",
     "text": [
      "<class 'type'>\n<class 'type'>\n"
     ]
    }
   ],
   "source": [
    "print(type(ClassA))\n",
    "print(type(ClassB))"
   ]
  },
  {
   "source": [
    "Abbiamo ricreato le classi A e B definite a inizio notebook grazie alla funzione built-in type. Si nota facilmente le potenzialità di questo meccanismo. Infatti esso ci permetterebbe di creare dinamicamente addirittura le classi.\n",
    "\n",
    "La classe type, invece, altro non è che una classe callable, ovvero che implementa il metodo \\__call\\__. Le funzionalità della funzione built-in e della classe sono le stesse, cambia solamente il modo di invocarle."
   ],
   "cell_type": "markdown",
   "metadata": {}
  },
  {
   "cell_type": "code",
   "execution_count": 21,
   "metadata": {},
   "outputs": [
    {
     "output_type": "stream",
     "name": "stdout",
     "text": [
      "<class 'str'>\n<class 'str'>\n"
     ]
    }
   ],
   "source": [
    "print(type(\"Ciao\"))\n",
    "print(type.__call__(type, \"Ciao\"))"
   ]
  },
  {
   "source": [
    "Una differenza importante tra i due utilizzi di type è il fatto che \\__call\\__ sia un metodo unbound, ovvero non è legato ad un particolare oggetto. Infatti quando si utilizza \\__call\\__ bisogna specificare un'istanza di un oggetto al quale fare riferimento.  \n",
    "Per comprendere meglio, un metodo unbound può essere anche un metodo statico di una classe, ovvero che non richiede un parametro self per fare riferimento all'oggetto stesso."
   ],
   "cell_type": "markdown",
   "metadata": {}
  },
  {
   "cell_type": "code",
   "execution_count": 22,
   "metadata": {},
   "outputs": [],
   "source": [
    "ClassA = type.__call__(type, 'A', (), {'x': 0})\n",
    "\n",
    "def init(self, z = 2):\n",
    "    self.z = z\n",
    "\n",
    "ClassB = type.__call__(type, 'B', (ClassA, ), {'__init__': init, 'y': 1})"
   ]
  },
  {
   "cell_type": "code",
   "execution_count": 23,
   "metadata": {},
   "outputs": [
    {
     "output_type": "stream",
     "name": "stdout",
     "text": [
      "<class 'type'>\n<class 'type'>\n"
     ]
    }
   ],
   "source": [
    "print(type(ClassA))\n",
    "print(type(ClassB))"
   ]
  },
  {
   "source": [
    "Perfetto, ora abbiamo tutte le conoscenze per comprendere il processo di istanziazione di una classe.\n",
    "\n",
    "Chiamiamo ```A``` un generico oggetto e ```X``` una generica classe. Questo chiaramente può voler dire che A potrà essere anche una classe e X essere type, da quanto abbiamo precedentemente detto.\n",
    "\n",
    "I passaggi che esegue python sono i seguenti:\n",
    "\n",
    "1. Viene chiamato il metodo \\__call\\__ di type(X)\n",
    "2. \\__call\\__ chiama \\__new\\__ di X\n",
    "    - Se X è type allora viene creato un oggetto che è una classe\n",
    "3. \\__call\\__ chiama \\__init\\__ di X\n",
    "    - Se X è type, cioè se si sta creando una classe, allora il metodo \\__init\\__ sarà vuoto\n",
    "\n",
    "Notiamo come la scrittura A(), dove A è classe, invoca il metodo \\__call\\__ di type(A), ovvero type. Analogamente, se a è un'istanza di A, la scrittura a() invoca il metodo \\__call\\__ di type(a), ovvero A.\n",
    "\n",
    "Detto ciò, per intervenire sul protocollo di istanziazione bisogna intervenire sui metodi \\__new\\__ e \\__init\\__. Il metodo \\__call\\__ può essere ridefinito, ma il suo caso d'uso abbiamo visto essere altro rispetto all'istanziazione di una classe. Per intervenire ulteriormente sul processo di creazione degli oggetti dovremmo riscrivere il metodo \\__call\\__ di type, cosa che non è possibile.\n",
    "\n",
    "Un esempio potrebbe essere il voler aggiungere un attributo alla classe int. Siccome ciò non è permesso, dovremo procedere col creare una sotto classe di int e modificare quella."
   ],
   "cell_type": "markdown",
   "metadata": {}
  },
  {
   "cell_type": "code",
   "execution_count": 25,
   "metadata": {},
   "outputs": [
    {
     "output_type": "error",
     "ename": "TypeError",
     "evalue": "can't set attributes of built-in/extension type 'int'",
     "traceback": [
      "\u001b[0;31m---------------------------------------------------------------------------\u001b[0m",
      "\u001b[0;31mTypeError\u001b[0m                                 Traceback (most recent call last)",
      "\u001b[0;32m<ipython-input-25-d3744b7c80d7>\u001b[0m in \u001b[0;36m<module>\u001b[0;34m\u001b[0m\n\u001b[0;32m----> 1\u001b[0;31m \u001b[0mint\u001b[0m\u001b[0;34m.\u001b[0m\u001b[0mattr\u001b[0m \u001b[0;34m=\u001b[0m \u001b[0;36m0\u001b[0m\u001b[0;34m\u001b[0m\u001b[0;34m\u001b[0m\u001b[0m\n\u001b[0m",
      "\u001b[0;31mTypeError\u001b[0m: can't set attributes of built-in/extension type 'int'"
     ]
    }
   ],
   "source": [
    "int.attr = 0"
   ]
  },
  {
   "cell_type": "code",
   "execution_count": 26,
   "metadata": {},
   "outputs": [],
   "source": [
    "class myInt(int):\n",
    "    def __new__(cls):\n",
    "        a = super().__new__(cls)\n",
    "        a.attr = 0\n",
    "        return a"
   ]
  },
  {
   "cell_type": "code",
   "execution_count": 27,
   "metadata": {},
   "outputs": [
    {
     "output_type": "stream",
     "name": "stdout",
     "text": [
      "0\n"
     ]
    }
   ],
   "source": [
    "i = myInt()\n",
    "\n",
    "print(i.attr)"
   ]
  },
  {
   "source": [
    "## Metaclassi\n",
    "\n",
    "Una metaclasse è una classe che eredita dalla classe type, ovvero che specifica type come classe base.\n",
    "\n",
    "Quindi se una generica classe M è una metaclasse, possiamo definire una classe A il cui tipo è M e non più direttamente type. Questo ci permette di ridefinire il metodo \\__call\\__ ed eseguire quello quando viene istanziata la classe A. Nel caso in cui la metaclasse M non specifichi il metodo \\__call\\__, allora si risale la catena ereditaria fino a type."
   ],
   "cell_type": "markdown",
   "metadata": {}
  },
  {
   "cell_type": "code",
   "execution_count": 28,
   "metadata": {},
   "outputs": [
    {
     "output_type": "stream",
     "name": "stdout",
     "text": [
      "Hello!\n2\n<class '__main__.M'>\n"
     ]
    }
   ],
   "source": [
    "class M(type):\n",
    "    pass\n",
    "\n",
    "class A(metaclass = M):\n",
    "    def __init__(self, x):\n",
    "        self.x = x\n",
    "        print(\"Hello!\")\n",
    "\n",
    "a = A(2)\n",
    "print(a.x)\n",
    "print(type(A))"
   ]
  },
  {
   "source": [
    "type.\\__call\\__ può essere chiamato esplicitamente dalla classe M, oppure si può decidere di evitare di chiamarlo e quindi gestire tutto dentro \\__call\\__ della metaclasse M."
   ],
   "cell_type": "markdown",
   "metadata": {}
  },
  {
   "cell_type": "code",
   "execution_count": 30,
   "metadata": {},
   "outputs": [
    {
     "output_type": "stream",
     "name": "stdout",
     "text": [
      "Hi you guys!\n0\n5\n"
     ]
    }
   ],
   "source": [
    "class M(type):\n",
    "    def __call__(cls, *args):\n",
    "        print(\"Hi\", end=\" \")\n",
    "        return type.__call__(cls, *args)\n",
    "\n",
    "class SC:\n",
    "    x = 0\n",
    "\n",
    "class A(SC, metaclass = M):\n",
    "    def __init__(self, y):\n",
    "        self.y = y\n",
    "        print(\"you guys!\")\n",
    "        \n",
    "a = A(5)\n",
    "print(a.x)\n",
    "print(a.y)"
   ]
  },
  {
   "cell_type": "code",
   "execution_count": 31,
   "metadata": {},
   "outputs": [
    {
     "output_type": "stream",
     "name": "stdout",
     "text": [
      "Hi you guys!\n0\n5\n"
     ]
    }
   ],
   "source": [
    "class M(type):\n",
    "    def __call__(cls, *args):\n",
    "        print(\"Hi\", end=\" \")\n",
    "        c = cls.__new__(cls, *args)\n",
    "        c.__init__(*args)\n",
    "        return c\n",
    "\n",
    "class SC:\n",
    "    x = 0\n",
    "\n",
    "class A(SC, metaclass = M):\n",
    "    def __init__(self, y):\n",
    "        self.y = y\n",
    "        print(\"you guys!\")\n",
    "        \n",
    "a = A(5)\n",
    "print(a.x)\n",
    "print(a.y)"
   ]
  },
  {
   "source": [
    "Concludiamo vedendo un classico caso d'uso delle metaclassi.\n",
    "\n",
    "Immaginiamo di voler creare una classi su cui è possibile scegliere quali funzioni può implementare all'interno di essa."
   ],
   "cell_type": "markdown",
   "metadata": {}
  },
  {
   "cell_type": "code",
   "execution_count": 1,
   "metadata": {},
   "outputs": [],
   "source": [
    "# Elenco di funzioni opzionali\n",
    "def function_1(self, *args, **kwargs):\n",
    "    \"\"\"\n",
    "    Funzionalità opzionale 1\n",
    "    \"\"\"\n",
    "    print(\"Funzionalità 1\")\n",
    "    return True\n",
    "\n",
    "def function_2(self, *args, **kwargs):\n",
    "    \"\"\"\n",
    "    Funzionalità opzionale 2\n",
    "    \"\"\"\n",
    "    print(\"Funzionalità 2\")\n",
    "    return True\n",
    "\n",
    "optional_functions = [function_1, function_2]"
   ]
  },
  {
   "cell_type": "code",
   "execution_count": 2,
   "metadata": {},
   "outputs": [],
   "source": [
    "class Configurator(type):\n",
    "    def __init__(cls, cls_name, superclasses, attribute_dict):\n",
    "        for func in optional_functions:\n",
    "            descriprion = func.__doc__\n",
    "            name = func.__name__\n",
    "            ask = input(f\"Inserire la funzionalità: {descriprion}? [Y/n]\")\n",
    "            if not ask or ask.upper() == 'Y':\n",
    "                type.__setattr__(cls, name, func)"
   ]
  },
  {
   "cell_type": "code",
   "execution_count": 3,
   "metadata": {},
   "outputs": [],
   "source": [
    "class Configurated(metaclass = Configurator):\n",
    "    pass"
   ]
  },
  {
   "cell_type": "code",
   "execution_count": 4,
   "metadata": {},
   "outputs": [
    {
     "output_type": "stream",
     "name": "stdout",
     "text": [
      "Funzionalità 1 non configurata\nFunzionalità 2\nTrue\n"
     ]
    }
   ],
   "source": [
    "conf = Configurated()\n",
    "\n",
    "try:\n",
    "    print(conf.function_1())\n",
    "except AttributeError:\n",
    "    print(\"Funzionalità 1 non configurata\")\n",
    "try:\n",
    "    print(conf.function_2())\n",
    "except AttributeError:\n",
    "    print(\"Funzionalità 2 non configurata\")"
   ]
  }
 ]
}