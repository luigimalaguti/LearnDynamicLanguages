{
 "metadata": {
  "language_info": {
   "codemirror_mode": {
    "name": "ipython",
    "version": 3
   },
   "file_extension": ".py",
   "mimetype": "text/x-python",
   "name": "python",
   "nbconvert_exporter": "python",
   "pygments_lexer": "ipython3",
   "version": "3.9.0-final"
  },
  "orig_nbformat": 2,
  "kernelspec": {
   "name": "python3",
   "display_name": "Python 3",
   "language": "python"
  }
 },
 "nbformat": 4,
 "nbformat_minor": 2,
 "cells": [
  {
   "source": [
    "# Attributi e descrittori\n",
    "\n",
    "Iniziamo questa \"seconda\" parte sul linguaggio di programmazione Python.\n",
    "\n",
    "In questi notebook analizzeremo dei concetto che ci porteranno ad una più approfondita comprensione degli aspetti del linguaggio che consentono di modificare e adattare il comportamento dell'interpete. Questo ci porterrà quindi ad una maggior comprensione dei meccanismi di metaprogramming di python, ma anche di altri linguaggi dinamici.\n",
    "\n",
    "Il primo argomento di questa serie è il seguente notebook, ovvero andremo a comprendere il protocollo utilizzato dall'interprete per accedere agli attributi e il come sia possibile intervenire su di esso.\n",
    "\n",
    "## Protocollo di accesso agli attributi\n",
    "\n",
    "Dai primi notebook abbiamo imparato come accedere agli attributi con la nozione puntata."
   ],
   "cell_type": "markdown",
   "metadata": {}
  },
  {
   "cell_type": "code",
   "execution_count": 9,
   "metadata": {},
   "outputs": [],
   "source": [
    "class Padre:\n",
    "    padre = \"Sono il padre\""
   ]
  },
  {
   "cell_type": "code",
   "execution_count": 10,
   "metadata": {},
   "outputs": [],
   "source": [
    "class Figlio(Padre):\n",
    "    figlio = \"Sono il figlio\"\n",
    "\n",
    "    def __init__(self, fratello = \"\"):\n",
    "        self.fratello = fratello"
   ]
  },
  {
   "cell_type": "code",
   "execution_count": 11,
   "metadata": {},
   "outputs": [
    {
     "output_type": "stream",
     "name": "stdout",
     "text": [
      "Sono il padre\nSono il figlio\nSono il fratello\n"
     ]
    }
   ],
   "source": [
    "figlio = Figlio(\"Sono il fratello\")\n",
    "\n",
    "print(figlio.padre)\n",
    "print(figlio.figlio)\n",
    "print(figlio.fratello)"
   ]
  },
  {
   "source": [
    "Questo meccanismo, che pare essere il classico meccanismo di altri linguaggi non dinamici come Java, in realtà nasconde al di sotto un processo altamente customizzabile, altamente dinamico.\n",
    "\n",
    "Python utilizza tre metodi principali per l'accesso agli attributi:\n",
    "\n",
    "- ```__getattribute__```, viene invocato per gli accessi in lettura\n",
    "- ```__getattr__```, viene invocato da \\__getattribute\\__ qualora si verifichi una eccezzione, ovvero l'attributo non è presente\n",
    "- ```__setattr__```, invocato per la scrittura di un attributo, se non è presente lo crea\n",
    "\n",
    "Possiamo ripetere l'esempio soprastante con l'utilizzo di questi metodi."
   ],
   "cell_type": "markdown",
   "metadata": {}
  },
  {
   "cell_type": "code",
   "execution_count": 12,
   "metadata": {},
   "outputs": [
    {
     "output_type": "stream",
     "name": "stdout",
     "text": [
      "Sono il padre\nSono il figlio\nSono il fratello\n"
     ]
    }
   ],
   "source": [
    "figlio = Figlio(\"Sono il fratello\")\n",
    "\n",
    "print(figlio.__getattribute__('padre'))\n",
    "print(figlio.__getattribute__('figlio'))\n",
    "print(figlio.__getattribute__('fratello'))"
   ]
  },
  {
   "source": [
    "Dalle definizioni delle nostre classi è possibile capire che il metodo \\__getattribute\\__ chiamato dall'oggetto è definito nella classe ```object```. Infatti è possibile invocarlo direttamente dalla classe object."
   ],
   "cell_type": "markdown",
   "metadata": {}
  },
  {
   "cell_type": "code",
   "execution_count": 14,
   "metadata": {},
   "outputs": [
    {
     "output_type": "stream",
     "name": "stdout",
     "text": [
      "Sono il padre\nSono il figlio\nSono il fratello\n"
     ]
    }
   ],
   "source": [
    "figlio = Figlio(\"Sono il fratello\")\n",
    "\n",
    "print(object.__getattribute__(figlio, 'padre'))\n",
    "print(object.__getattribute__(figlio, 'figlio'))\n",
    "print(object.__getattribute__(figlio, 'fratello'))"
   ]
  },
  {
   "source": [
    "Nel caso in cui cercassimo di accedere ad un attributo che il nostro oggetto non contiene, allora l'interprete, dopo aver constatato che il \\__getattribute\\__ ha sollevato un eccezzione, prova a chiamare il metodo \\__getattr\\__. Attenzione, il metodo \\__getattr\\__ viene invocato solamente se è presente una definizione di esso nella classe, altrimenti passa l'eccezzione al chiamate.\n",
    "\n",
    "Proviamo quindi ad implementare il metodo \\__getattr\\__ nella nostra classe."
   ],
   "cell_type": "markdown",
   "metadata": {}
  },
  {
   "cell_type": "code",
   "execution_count": 22,
   "metadata": {},
   "outputs": [],
   "source": [
    "class Padre:\n",
    "    padre = \"Sono il padre\""
   ]
  },
  {
   "cell_type": "code",
   "execution_count": 23,
   "metadata": {},
   "outputs": [],
   "source": [
    "class Figlio(Padre):\n",
    "    figlio = \"Sono il figlio\"\n",
    "\n",
    "    def __init__(self, fratello = \"\"):\n",
    "        self.fratello = fratello\n",
    "\n",
    "    def __getattr__(self, attr):\n",
    "        return f\"Oggetti della classe Figlia non hanno l'attributo {attr}\""
   ]
  },
  {
   "cell_type": "code",
   "execution_count": 24,
   "metadata": {},
   "outputs": [
    {
     "output_type": "stream",
     "name": "stdout",
     "text": [
      "Sono il padre\nSono il figlio\nSono il fratello\nOggetti della classe Figlia non hanno l'attributo madre\n"
     ]
    }
   ],
   "source": [
    "figlio = Figlio(\"Sono il fratello\")\n",
    "\n",
    "print(figlio.padre)\n",
    "print(figlio.figlio)\n",
    "print(figlio.fratello)\n",
    "print(figlio.madre)"
   ]
  },
  {
   "source": [
    "Come possiamo notare dall'esempio, l'interprete invoca il metodo \\__getattribute\\__ sull'oggetto figlio per tentare di accedere all'attributo madre, ma questo attributo non è presente in figlio. Quindi il metodo \\__getattribute\\__, generando una eccezzione, invoca il metodo \\__getattr\\__ per gestire questo caso particolare. Il metodo \\__getattr\\__ è stato definito da noi e quindi ritornerà la stringa di testo per indicare che l'attributo non è presente.\n",
    "\n",
    "Il metodo \\__getattr\\__ lo si può utilizzare per varie cose. Una di queste può essere il definire dinamicamente l'attributo che precedentemente non era presente. In questo modo sarà possibile accedervi in un secondo momento."
   ],
   "cell_type": "markdown",
   "metadata": {}
  },
  {
   "cell_type": "code",
   "execution_count": 25,
   "metadata": {},
   "outputs": [],
   "source": [
    "class Padre:\n",
    "    padre = \"Sono il padre\""
   ]
  },
  {
   "cell_type": "code",
   "execution_count": 26,
   "metadata": {},
   "outputs": [],
   "source": [
    "class Figlio(Padre):\n",
    "    figlio = \"Sono il figlio\"\n",
    "\n",
    "    def __init__(self, fratello = \"\"):\n",
    "        self.fratello = fratello\n",
    "\n",
    "    def __getattr__(self, attr):\n",
    "        print(f\"Oggetti della classe Figlia non hanno l'attributo {attr}\")\n",
    "        self.__setattr__(attr, None)\n",
    "        return None"
   ]
  },
  {
   "cell_type": "code",
   "execution_count": 27,
   "metadata": {},
   "outputs": [
    {
     "output_type": "stream",
     "name": "stdout",
     "text": [
      "Sono il padre\nSono il figlio\nSono il fratello\nOggetti della classe Figlia non hanno l'attributo madre\nNone\n"
     ]
    }
   ],
   "source": [
    "figlio = Figlio(\"Sono il fratello\")\n",
    "\n",
    "print(figlio.padre)\n",
    "print(figlio.figlio)\n",
    "print(figlio.fratello)\n",
    "print(figlio.madre)"
   ]
  },
  {
   "source": [
    "Questo processo è molto utile per la programmazione dinamica. Ma c'è da fare attenzione ad una cosa. Infatti se proviamo ad eseguire lo stesso codice, ma questa volta utilizzando \\__getattribute\\__ noteremo qualcosa di strano."
   ],
   "cell_type": "markdown",
   "metadata": {}
  },
  {
   "cell_type": "code",
   "execution_count": 29,
   "metadata": {},
   "outputs": [
    {
     "output_type": "stream",
     "name": "stdout",
     "text": [
      "Sono il padre\nSono il figlio\nSono il fratello\n"
     ]
    },
    {
     "output_type": "error",
     "ename": "AttributeError",
     "evalue": "'Figlio' object has no attribute 'madre'",
     "traceback": [
      "\u001b[0;31m---------------------------------------------------------------------------\u001b[0m",
      "\u001b[0;31mAttributeError\u001b[0m                            Traceback (most recent call last)",
      "\u001b[0;32m<ipython-input-29-c436e459ba78>\u001b[0m in \u001b[0;36m<module>\u001b[0;34m\u001b[0m\n\u001b[1;32m      4\u001b[0m \u001b[0mprint\u001b[0m\u001b[0;34m(\u001b[0m\u001b[0mfiglio\u001b[0m\u001b[0;34m.\u001b[0m\u001b[0m__getattribute__\u001b[0m\u001b[0;34m(\u001b[0m\u001b[0;34m'figlio'\u001b[0m\u001b[0;34m)\u001b[0m\u001b[0;34m)\u001b[0m\u001b[0;34m\u001b[0m\u001b[0;34m\u001b[0m\u001b[0m\n\u001b[1;32m      5\u001b[0m \u001b[0mprint\u001b[0m\u001b[0;34m(\u001b[0m\u001b[0mfiglio\u001b[0m\u001b[0;34m.\u001b[0m\u001b[0m__getattribute__\u001b[0m\u001b[0;34m(\u001b[0m\u001b[0;34m'fratello'\u001b[0m\u001b[0;34m)\u001b[0m\u001b[0;34m)\u001b[0m\u001b[0;34m\u001b[0m\u001b[0;34m\u001b[0m\u001b[0m\n\u001b[0;32m----> 6\u001b[0;31m \u001b[0mprint\u001b[0m\u001b[0;34m(\u001b[0m\u001b[0mfiglio\u001b[0m\u001b[0;34m.\u001b[0m\u001b[0m__getattribute__\u001b[0m\u001b[0;34m(\u001b[0m\u001b[0;34m'madre'\u001b[0m\u001b[0;34m)\u001b[0m\u001b[0;34m)\u001b[0m\u001b[0;34m\u001b[0m\u001b[0;34m\u001b[0m\u001b[0m\n\u001b[0m",
      "\u001b[0;31mAttributeError\u001b[0m: 'Figlio' object has no attribute 'madre'"
     ]
    }
   ],
   "source": [
    "figlio = Figlio(\"Sono il fratello\")\n",
    "\n",
    "print(figlio.__getattribute__('padre'))\n",
    "print(figlio.__getattribute__('figlio'))\n",
    "print(figlio.__getattribute__('fratello'))\n",
    "print(figlio.__getattribute__('madre'))"
   ]
  },
  {
   "source": [
    "Questa volta ci da un errore. Perchè con l'utilizzo di \\__getattribute\\__ ci da errore e con la nozione puntata no?\n",
    "\n",
    "La risposta è semplice. Perchè con la nozione puntata è l'interprete python che chiama il metodo \\__getattribute\\__ e quindi sarà ancora l'interprete a gestire l'eccezzione che genera il metodo stesso, non trovando l'attributo. Mentre se accediamo agli attributi tramite \\__getattribute\\__ saremo noi questa volta i chiamanti del metodo e quindi saremo ancora noi a dover gestire questa eccezzione.\n",
    "\n",
    "Per gestire l'eccezzione possiamo banalmente utilizzare il try except come per qualsiasi altra eccezzione."
   ],
   "cell_type": "markdown",
   "metadata": {}
  },
  {
   "cell_type": "code",
   "execution_count": 30,
   "metadata": {},
   "outputs": [],
   "source": [
    "class Padre:\n",
    "    padre = \"Sono il padre\"\n",
    "\n",
    "    def __getattribute__(self, attr):\n",
    "        print(f\"Eseguito l'accesso all'attributo {attr}\")\n",
    "        try:\n",
    "            return super().__getattribute__(attr)\n",
    "        except AttributeError:\n",
    "            return self.__getattr__(attr)\n",
    "\n",
    "    def __getattr__(self, attr):\n",
    "        print(f\"Oggetti della classe Figlia non hanno l'attributo {attr}\")\n",
    "        self.__setattr__(attr, None)\n",
    "        return None"
   ]
  },
  {
   "cell_type": "code",
   "execution_count": 31,
   "metadata": {},
   "outputs": [],
   "source": [
    "class Figlio(Padre):\n",
    "    figlio = \"Sono il figlio\"\n",
    "\n",
    "    def __init__(self, fratello = \"\"):\n",
    "        self.fratello = fratello"
   ]
  },
  {
   "cell_type": "code",
   "execution_count": 33,
   "metadata": {},
   "outputs": [
    {
     "output_type": "stream",
     "name": "stdout",
     "text": [
      "Eseguito l'accesso all'attributo __getattribute__\nEseguito l'accesso all'attributo padre\nSono il padre\nEseguito l'accesso all'attributo __getattribute__\nEseguito l'accesso all'attributo figlio\nSono il figlio\nEseguito l'accesso all'attributo __getattribute__\nEseguito l'accesso all'attributo fratello\nSono il fratello\nEseguito l'accesso all'attributo __getattribute__\nEseguito l'accesso all'attributo madre\nEseguito l'accesso all'attributo __getattr__\nOggetti della classe Figlia non hanno l'attributo madre\nEseguito l'accesso all'attributo __setattr__\nNone\n"
     ]
    }
   ],
   "source": [
    "figlio = Figlio(\"Sono il fratello\")\n",
    "\n",
    "print(figlio.__getattribute__('padre'))\n",
    "print(figlio.__getattribute__('figlio'))\n",
    "print(figlio.__getattribute__('fratello'))\n",
    "print(figlio.__getattribute__('madre'))"
   ]
  },
  {
   "source": [
    "In questo esempio abbiamo fatto due cose. La prima è di gestire l'eccezzione di \\__getattribute\\__, mentre la seconda è stata proprio definire il metodo \\__getattribute\\__.\n",
    "\n",
    "L'abbiamo dovuto definire perchè altrimenti non sarebbe stato possibile gestire l'eccezzione di una chiamata derivante non dall'interprete. Quando facciamo l'override del metodo \\__getattribute\\__ bisogna fare attenzione a due cose:\n",
    "\n",
    "- Non incorrere ad una ricorsione infinita\n",
    "- Gestire l'eccezzioni derivanti da attributi non definiti\n",
    "\n",
    "Per evitare una ricorsione infinita in \\__getattribute\\__ basta invocarlo tramite l'oggetto ```super()```. Facendo ciò andremo a chiedere alla superclasse di eseguire \\__getattribute\\__ e nel caso di eccezzione, la gestiamo chiamando \\__getattr\\__. Se al posto di super() avessimo utilizzato ```self```, allora si che avremmo una ricorsione infinita.\n",
    "\n",
    "## Descrittori\n",
    "\n",
    "I descrittori vengono utilizzati per controllare l'accesso agli attributi di altre classi. Sono quindi una generalizzazione delle property.\n",
    "\n",
    "Tecnicamente un descrittore è una classe in cui è presente la definizione di almeno uno dei seguenti metodi magici:\n",
    "\n",
    "- ```__get__(self, instance, cls)```\n",
    "- ```__set__(self, instance, value)```\n",
    "- ```__delete__(self, instance)```\n",
    "\n",
    "Vediamo un primo esempio."
   ],
   "cell_type": "markdown",
   "metadata": {}
  },
  {
   "cell_type": "code",
   "execution_count": 34,
   "metadata": {},
   "outputs": [],
   "source": [
    "class descrittore:\n",
    "    def __get__(self, instance, cls):\n",
    "        print(instance)\n",
    "        return 2"
   ]
  },
  {
   "cell_type": "code",
   "execution_count": 38,
   "metadata": {},
   "outputs": [],
   "source": [
    "class Controllata:\n",
    "    attr = descrittore()"
   ]
  },
  {
   "cell_type": "code",
   "execution_count": 41,
   "metadata": {},
   "outputs": [
    {
     "output_type": "stream",
     "name": "stdout",
     "text": [
      "<__main__.Controllata object at 0x10fba7400>\n2\n"
     ]
    }
   ],
   "source": [
    "c = Controllata()\n",
    "\n",
    "print(c.attr)"
   ]
  },
  {
   "source": [
    "Quando proviamo ad accedere all'attributo ```attr``` di ```c```, viene invocato il metodo ```__get__``` della classe ```descrittore``` dato che l'attributo attr è definito come istanza della classe descrittore.\n",
    "\n",
    "In questo esempio non utilizziamo nessun parametro della classe descrittore. Però attraverso il parametro ```instance``` è possibile operare sulle singole istanze degli oggetti contenenti l'attributo descrittore.\n",
    "\n",
    "Vediamo un secondo esempio."
   ],
   "cell_type": "markdown",
   "metadata": {}
  },
  {
   "cell_type": "code",
   "execution_count": 44,
   "metadata": {},
   "outputs": [],
   "source": [
    "class descrittore:\n",
    "    def __get__(self, instance, cls):\n",
    "        return instance.val + 1"
   ]
  },
  {
   "cell_type": "code",
   "execution_count": 45,
   "metadata": {},
   "outputs": [],
   "source": [
    "class Controllata:\n",
    "    attr = descrittore()\n",
    "\n",
    "    def __init__(self, val):\n",
    "        self.val = val"
   ]
  },
  {
   "cell_type": "code",
   "execution_count": 46,
   "metadata": {},
   "outputs": [
    {
     "output_type": "stream",
     "name": "stdout",
     "text": [
      "3\n24\n"
     ]
    }
   ],
   "source": [
    "c1 = Controllata(2)\n",
    "c2 = Controllata(23)\n",
    "\n",
    "print(c1.attr)\n",
    "print(c2.attr)"
   ]
  },
  {
   "source": [
    "Infatti in questo esempio è evidente come il metodo \\__get\\__ della classe descrittore utilizzi l'attributo instance, che altro non è l'istanza di una classe, per recuperare valori dall'istanza stessa e ritornare valori a seconda di essi.\n",
    "\n",
    "Il comportamento del metodo ```__set__``` a questo punto risulta evidente."
   ],
   "cell_type": "markdown",
   "metadata": {}
  },
  {
   "cell_type": "code",
   "execution_count": 47,
   "metadata": {},
   "outputs": [],
   "source": [
    "class descrittore:\n",
    "    def __get__(self, instance, cls):\n",
    "        return instance.val + 1\n",
    "\n",
    "    def __set__(self, instance, value):\n",
    "        instance.val = value"
   ]
  },
  {
   "cell_type": "code",
   "execution_count": 48,
   "metadata": {},
   "outputs": [],
   "source": [
    "class Controllata:\n",
    "    attr = descrittore()\n",
    "\n",
    "    def __init__(self, val):\n",
    "        self.val = val"
   ]
  },
  {
   "cell_type": "code",
   "execution_count": 49,
   "metadata": {},
   "outputs": [
    {
     "output_type": "stream",
     "name": "stdout",
     "text": [
      "3\n33\n"
     ]
    }
   ],
   "source": [
    "c = Controllata(2)\n",
    "\n",
    "print(c.attr)\n",
    "\n",
    "c.attr = 32\n",
    "\n",
    "print(c.attr)"
   ]
  },
  {
   "source": [
    "Ma perchè il descrittore lo utilizziamo sempre sugli attributi di classe?\n",
    "\n",
    "Il descrittore definisce un compotamento generale che si applica a tutte le istanze della classe istanza.\n",
    "\n",
    "Se supponessimo di avere la seguente classe:\n",
    "\n",
    "```python\n",
    "class Controllata:\n",
    "    def __init__(self):\n",
    "        self.attr = descrittore()\n",
    "```\n",
    "\n",
    "In questo caso, ad ogni istanza della classe Controllata verrebbe associato un oggetto descrittore, creando una ridondanza inutile visto che il descrittore modella un unico comportamento che si applica ad ogni oggetto della classe controllata. Invece associando il descrittore all'attributo di classe viene istanziato una sola volta.\n",
    "\n",
    "Concludiamo l'argomento dei destrittori e il notebook corrente con un esempio di uso realistico dei descrittori.\n",
    "\n",
    "I file relativi a questo esempio li possiamo trovare dento ```codes/keyring```. In questo esempio realizziamo una sorta di keyring, cioè una strutturaa per memorizzaare informazioni protette da password."
   ],
   "cell_type": "markdown",
   "metadata": {}
  }
 ]
}