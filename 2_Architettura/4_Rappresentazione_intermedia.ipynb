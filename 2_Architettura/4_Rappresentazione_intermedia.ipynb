{
 "metadata": {
  "language_info": {
   "codemirror_mode": {
    "name": "ipython",
    "version": 3
   },
   "file_extension": ".py",
   "mimetype": "text/x-python",
   "name": "python",
   "nbconvert_exporter": "python",
   "pygments_lexer": "ipython3",
   "version": "3.9.0-final"
  },
  "orig_nbformat": 2,
  "kernelspec": {
   "name": "python3",
   "display_name": "Python 3",
   "language": "python"
  }
 },
 "nbformat": 4,
 "nbformat_minor": 2,
 "cells": [
  {
   "source": [
    "# Rappresentazione intermedia\n",
    "\n",
    "Nel notebook precedente abbiamo creato una specie di calcolatrice, con la possibilità di utilizzare assegnamenti e variabili per la memorizzazione di risultati intermedi. Questo esercizio ci è servito per familiarizzare con le grammatiche libere e con lo stumento ply.yacc per la generazione di un parser.\n",
    "\n",
    "In questo notebook facciamo il passo successivo, ultimo passo che prenderemo in analisi del processo di interpretazione di un linguaggio. Il passo che faremo oggi è trasformare l'applicazione operando la separazione fra compilatore e interprete.\n",
    "\n",
    "Prenderemo come esempio il codice ```expressions``` dello scorso notebook ma con qualche aggiunta, tipo la possibilità di eseguire più linee di codice alla volta e la possibilità di utilizzare un comando di stampa. Il codice del notebook corrente lo troviamo nella catella ```language``` sempre in ```codes```.\n",
    "\n",
    "Procediamo quindi arricchendo la nostra grammatica:\n",
    "\n",
    "- $\\mathcal{P} \\rightarrow L$\n",
    "- $L \\rightarrow L; S | S$\n",
    "- $S \\rightarrow A | E | print(E) | \\varepsilon$\n",
    "\n",
    "Le seguenti produzioni ci permettono di specificare un programma come un insieme vuoto, quindi nessun comando, oppure come una sequenza di un numero arbitrario di comandi separati da ```;```. Inoltre abbiamo introdotto anche la possibilità di stampa.\n",
    "\n",
    "Avremo quindi la seguente grammatica libera completa:\n",
    "\n",
    "- $\\mathcal{P} \\rightarrow L$\n",
    "- $L \\rightarrow L; S | S$\n",
    "- $S \\rightarrow A | E | print(E) | \\varepsilon$\n",
    "- $A \\rightarrow id = E$\n",
    "- $E \\rightarrow E + T | E - T | T$\n",
    "- $T \\rightarrow T \\times P | T / P | P$\n",
    "- $P \\rightarrow F ^ P | F | -F$\n",
    "- $F \\rightarrow id | pi | sqrt(E) | n | (E)$\n",
    "\n",
    "> Per i più curiosi:  \n",
    "Per avere un'idea della semplicità, potete confrontare la grammatica completa in [Python](https://docs.python.org/3/reference/grammar.html) con la grammatica completa in [C](https://www.lysator.liu.se/c/ANSI-C-grammar-y.html)\n",
    "\n",
    "## Rappresentazione intermedia\n",
    "\n",
    "Il processo di rappresentazione intermedia si tratta sostanzialmente di applicare un algoritmo. Bisogna infatti definire la rappresentazione intermedia ad albero, ovvero l'AST che abbiamo precedentemente visto, e definire un algoritmo di valutazione sulla base di una vista post ordine dello stesso albero.\n",
    "\n",
    "La rappresentazione utilizza le tuple. Infatti l'albero lo rappresenteremo con la nozione delle tuple dove:\n",
    "\n",
    "- Il primo elemento della tupla, l'indice 0, è un intero il quale denota un opcode, ovvero un codice operativo condiviso tra parser e interprete. L'opcode generalmente è arbitrario, l'importante che sia condiviso dalle parti in gioco\n",
    "- Gli elementi di indice successivo allo 0 sono a loro volta tuple che rappresentano sottoalberi oppure numeri o identificatori\n",
    "\n",
    "Possiamo fare un esempio banale per comprendere il processo. Immaginiamo di avere questo frammento di codice.\n",
    "\n",
    "```\n",
    "a = sqrt(3);\n",
    "print(a);\n",
    "print(5 * a)\n",
    "```\n",
    "\n",
    "Supponiamo i sequenti codici operativi, opcode. Ricordo che gli opcode sono arbitrari e non hanno quindi una connessione logica.\n",
    "\n",
    "- 1 = NUM\n",
    "- 2 = ID\n",
    "- 3 = SEQ\n",
    "- 4 = ASSIGN\n",
    "- 8 = MUL\n",
    "- 20 = PRINT\n",
    "- 30 = SQRT\n",
    "\n",
    "La prima cosa che fa il parser, come già noto, è di utilizzare le produzioni della grammatica per arrivare ad avere la sequente frase linguistica:\n",
    "\n",
    "$$ID = SQRT(n); \\ PRINT(ID); \\ PRINT(n \\times ID)$$\n",
    "\n",
    "Successivamente il parser utilizza le riduzioni per generare l'AST, il quale figura come segue.\n",
    "\n",
    "![Image 10](images/image-10.png)\n",
    "\n",
    "Dove i nodi intermedi rappresentano gli opcode, mentre le foglie i valori rispettivi a identificatori o valori numerici.\n",
    "\n",
    "La rappresentazione dell'AST sotto forma di tupla è la seguente.\n",
    "\n",
    "$$(3, (3, (4, a, (30, (1, 3))), (20, (2, a))), (20, (8, (1, 5), (2, a))))$$\n",
    "\n",
    "## Regole per la costruzione dell'AST\n",
    "\n",
    "Il passaggio che dobbiamo fare adesso è fare in modo che il parser crei l'albero sotto forma di tupla come abbiamo appena visto, in modo che l'interprete riesca ad possa eseguire il nostro programma.\n",
    "\n",
    "Questo passaggio è molto diretto. Prendiamo come esempio una produzione qualsiasi, tipo $L \\rightarrow L; S$. Nel momento in cui viene applicata la riduzione, le variabili associate a $L$ e $S$ memorizzano già delle tuple corrispondenti ai relativi comandi. Ne segue quindi che la riduzione dovrà costruire una tupla in cui l'opcode è, in questo esempio, ```SEQ```, mentre gli elementi restanti sono proprio le tuple in questione, quelle di $L$ e di $S$."
   ],
   "cell_type": "markdown",
   "metadata": {}
  },
  {
   "cell_type": "code",
   "execution_count": null,
   "metadata": {},
   "outputs": [],
   "source": [
    "def p_statement_list(p):\n",
    "    'statement_list : statement_list SEP statement'\n",
    "    p[0] = (SEQ, p[1], p[3])"
   ]
  },
  {
   "source": [
    "Procediamo in questo modo per tutte le produzioni e arriveremo ad avere il parser in grado di restituire un AST.\n",
    "\n",
    "## Il formato su disco\n",
    "\n",
    "Il nostro parser dovrà in qualche modo salvare i suoi risultati, ovvero l'AST, da qualche parte. Noi procederemo salvando le informazioni in un file JSON permettendoci la lettura in modo agevole.\n",
    "\n",
    "```python\n",
    "import json\n",
    "\n",
    "# Scrittura\n",
    "jsonfile = json.dumps(ast)\n",
    "\n",
    "...\n",
    "\n",
    "# Lettura\n",
    "try:\n",
    "     ast = json.loads(open(sys.argv[1]).read())\n",
    "except JSONDecodeError:\n",
    "     # Eventuale recupero\n",
    "```\n",
    "\n",
    "Facendo in questo modo, l'interprete potrà leggere il file ```ast.json``` prodotto dal parser per interpretare il nostro programma.\n",
    "\n",
    "## L'interprete\n",
    "\n",
    "Arrivati a questo punto, il gioco è fatto. Ci basta scrivere un codice che permetta di interpretare il nostro programma. Per fare ciò, utilizzeremo il modulo ```operator``` che contiene gli operatori definiti come funzioni.\n",
    "\n",
    "L'interprete quindi visita l'AST salvato nel disco ed esegue gli opcode dopo aver ricorsivamente valutato tutti i sotto alberi in post-ordine.\n",
    "\n",
    "Tutti i file scritti in questo notebook sono presnti in ```codes/language```. In questa directory troviamo lo scanner scritto inizialmente per ottenere i token a noi necessari, troviamo il parser che ci permette di scrivere nel disco il relativo AST a partire dai token dello scanner e per finire troveremo anche l'interprete, che altro non fa che interpretare il nostro programma, scritto nel file ```program.lang```. L'estensione ```.lang``` del nostro programma non ha alcun effetto sul funzionamento dell'interprete, potevamo addirittura omettere l'estensione, UNIX non è basato sull'estensione del file.\n",
    "\n",
    "Concludiamo questo notebook con un accenno sul come utilizzare questi file.\n",
    "\n",
    "Per eseguire il nostro programma custom abbiamo bisogno di fare due passaggi:\n",
    "\n",
    "1. Utilizzare il parser per generare nel disco il file contenente l'AST\n",
    "2. Utilizzare l'interprete per appunto interpretare il nostro programma"
   ],
   "cell_type": "markdown",
   "metadata": {}
  },
  {
   "cell_type": "code",
   "execution_count": 3,
   "metadata": {},
   "outputs": [
    {
     "output_type": "stream",
     "name": "stdout",
     "text": [
      "Uso: ./parser.py [opzioni] -p input_prog | -f prog_file\nOPTIONS: \n\t-h: stampa questo help e termina\n\t-t: stampa su stdout l'Abstract Syntax Tree\n"
     ]
    }
   ],
   "source": [
    "!python codes/language/parser.py -h"
   ]
  },
  {
   "cell_type": "code",
   "execution_count": 4,
   "metadata": {},
   "outputs": [
    {
     "output_type": "stream",
     "name": "stdout",
     "text": [
      "Abstract Syntax Tree internal representation\n(3,\n (3, (4, 'a', (30, (1, 3))),\n  (20, (2, 'a'))),\n (20, (8, (1, 5), (2, 'a'))))\n"
     ]
    }
   ],
   "source": [
    "!python codes/language/parser.py -t -f codes/language/program.lang"
   ]
  },
  {
   "cell_type": "code",
   "execution_count": 5,
   "metadata": {},
   "outputs": [
    {
     "output_type": "stream",
     "name": "stdout",
     "text": [
      "1.7320508075688772\n8.660254037844386\n"
     ]
    }
   ],
   "source": [
    "!python codes/language/interpreter.py codes/language/ast.json"
   ]
  },
  {
   "source": [
    "Sarebbe stato possibile fare tutti e due i passaggi in uno solo, lasciando al nostro codice tutto il lavoro, ma facendo in questo modo risultano immediati i compiti singoli di frontend, quindi scanner e parser, e di backend, ovvero l'interprete."
   ],
   "cell_type": "markdown",
   "metadata": {}
  }
 ]
}