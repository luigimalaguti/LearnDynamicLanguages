{
 "metadata": {
  "language_info": {
   "codemirror_mode": {
    "name": "ipython",
    "version": 3
   },
   "file_extension": ".py",
   "mimetype": "text/x-python",
   "name": "python",
   "nbconvert_exporter": "python",
   "pygments_lexer": "ipython3",
   "version": "3.9.0-final"
  },
  "orig_nbformat": 2,
  "kernelspec": {
   "name": "python3",
   "display_name": "Python 3",
   "language": "python"
  }
 },
 "nbformat": 4,
 "nbformat_minor": 2,
 "cells": [
  {
   "source": [
    "# PERL\n",
    "\n",
    "In questo notebook analizziamo velocemente il modello di esecuzione del linguaggio PERL.\n",
    "\n",
    "Perl è l'acronimo di ```Pratical Extraction and Report Language```. Il linguaggio perl è un linguaggio di programmazione originariamente sviluppato per la manipolazione di testo e attualmente utilizzato per svolgere svariati compiti differenti, come web development, system administration, network programming, GUI development e altro.\n",
    "\n",
    "Il perl è anch'esso un linguaggio dinamico, come python. Il suo modello di esecuzione è basato sull'AST, a differenza di python che utilizza il modello bytecode. La struttura di esecuzione di un programma in perl è quindi più simile al compilatore e interprete creato da noi nel notebook precedente, più che essere simile al modello di esecuzione di python.\n",
    "\n",
    "## Variabili\n",
    "\n",
    "Un programma perl è semplicemente un elenco di statement, istruzioni, e come python non necessita di una qualche funzione ```main()```. Il linguaggio perl gestisce tre tipologie di strutture dati:\n",
    "\n",
    "- Dati scalari, tipicamente stringhe e numeri\n",
    "- Array, liste di valori non necessariamente omogenei\n",
    "- Hash, insiemi di coppie chiave valore, analoghi ai dizionari python\n",
    "\n",
    "Gli identificatori in perl sono preceduti da un simbolo, detto sigillo, che identifica il relativo tipo di struttura."
   ],
   "cell_type": "markdown",
   "metadata": {}
  },
  {
   "cell_type": "code",
   "execution_count": 1,
   "metadata": {},
   "outputs": [],
   "source": [
    "%%perl\n",
    "\n",
    "$a = 1;\n",
    "@b = (2, 3, 'last');\n",
    "%c = ('a', 4, 'b', 5);\n",
    "%d = ('c' => 6, 'd' => 7);"
   ]
  },
  {
   "source": [
    "> Nota. IPython ci permette di eseguire script perl direttamente dal nostro notebook. Per fare in modo che IPython riconosca il linguaggio perl dobbiamo indicarlo come prima direttiva, usando ```%%perl```. Tutto ciò che segue questa direttiva verrà interpretato come linguaggio perl.\n",
    "\n",
    "Analizziamo le tre tipologie di sigilli:\n",
    "\n",
    "- $\n",
    "\n",
    "    Il $ indica che le variabili in questione sono di tipo scalare\n",
    "\n",
    "- @\n",
    "\n",
    "    Le variabili con il sigillo @ sono array\n",
    "\n",
    "- %\n",
    "\n",
    "    Il sigillo % indica che la variabile è di tipo hash. Le variabili hash è possibile definirle in due modi differenti, come nell'esempio soprastante. La definizione classica è la prima dove l'elemento di indice pari, \\[0, 2, 4, ...\\], rappresenta la chiave, mentre l'elemento di indice dispari, \\[1, 3, 5, ...\\], rappresenta il valore relativa alla chiave precedente. Il secondo modo di definire una variabile hash invece è più espressivo. Infatti è immediato capire grazie a ```=>``` quale sia la chiave di quale valore\n",
    "\n",
    "Bisogna quindi tenere presente che il perl non è tanto basato sui tipi delle variabili, quanto sulle strutture di esse. Infatti il sigillo svolge un ruolo molto più importante di quanto ci potremmo immaginare. La funzione principale di esso è di indicare all'interprete il come accedere alla variabile o alla struttura dati. Un esempio è proprio la struttura hash, in quanto è possibile definirla come una lista, ma avendo il sigillo di hash cambia completamente il modo di accedervi.\n",
    "\n",
    "Vediamo qualche esempio che enfatizza questo concetto.\n",
    "\n",
    "Primo esempio."
   ],
   "cell_type": "markdown",
   "metadata": {}
  },
  {
   "cell_type": "code",
   "execution_count": 3,
   "metadata": {},
   "outputs": [
    {
     "output_type": "stream",
     "name": "stdout",
     "text": [
      "4\n--\n"
     ]
    }
   ],
   "source": [
    "%%perl\n",
    "\n",
    "@b = (2,3,4,5,'last');\n",
    "\n",
    "$x = $b[2];\n",
    "\n",
    "print $x;             \n",
    "print \"\\n--\\n\";\n",
    "print $x[0];"
   ]
  },
  {
   "source": [
    "Questo esempio definisce una variabile ```b``` di tipo array. In un secondo momento, definiamo una seconda variabile ```x``` di tipo scalare e gli assegnamo ```$b[2]```. Seppur abbiamo definito b come variabile di tipo array, il $b indica all'interprete di accedere al singolo scalare di indice 2.\n",
    "\n",
    "Successivamente proviamo a fare due print. Il primo stampa correttamente il valore della variabile x, ovvero 4. Il secondo invece non fa niente. Questo perchè il linguaggio perl è type safe e quindi restituisce pochissimi errori di tipo. Ma analizziamo anche il perchè perl non la considera una scrittura corretta. Perl non stampa niente perchè seppur il valore in x è un singolo elemento e quindi potremmo immaginarlo come il primo elemento di una lista di dimensione 1, la variabile x è una variabile di tipo scalare e di conseguenza non ha un accesso indicizzato come un array.\n",
    "\n",
    "Secondo esempio."
   ],
   "cell_type": "markdown",
   "metadata": {}
  },
  {
   "cell_type": "code",
   "execution_count": 10,
   "metadata": {},
   "outputs": [
    {
     "output_type": "stream",
     "name": "stdout",
     "text": [
      "\n--\n4"
     ]
    }
   ],
   "source": [
    "%%perl\n",
    "\n",
    "@b = (2,3,4,5,'last');\n",
    "\n",
    "@y = $b[1,3,2];\n",
    "\n",
    "print $y;\n",
    "print \"\\n--\\n\";\n",
    "print @y[0];"
   ]
  },
  {
   "source": [
    "In questo esempio non utilizziamo più la variabile scalare x ma una seconda variabile ```y``` di tipo array. Alla variabile y assegnamo il seguente valore, ```$b[1, 3, 2]```. La scrittura di multi indice per accedere ad un array in perl è consentita, quindi non rappresenta nessun problema in questo esempio. Il problema sorge nel primo print.\n",
    "\n",
    "La variabile y è definita come un array, ma il metodo di accesso di b è tramite uno scalare, ```$```. Quindi l'interprete ritornerà a y un solo elemento tra l'indice 1, 3 e 2. Perl decide di ritornare l'ultimo indice indicato, quindi la variabile y sarà un array contenente solamente l'elemento di indice 2 della variabile b. Ed è proprio in questo punto il problema. Dato che nel print viene specificato di accedere a y tramite lo scalare, perl avrà anche bisogno di un indice della lista e dato che non glielo abbiamo indicato, perl non esegue niente. Infatti il secondo print funziona perfettamente.\n",
    "\n",
    "Terzo esempio."
   ],
   "cell_type": "markdown",
   "metadata": {}
  },
  {
   "cell_type": "code",
   "execution_count": 2,
   "metadata": {},
   "outputs": [
    {
     "output_type": "stream",
     "name": "stdout",
     "text": [
      "345last\n--\n4"
     ]
    }
   ],
   "source": [
    "%%perl\n",
    "\n",
    "@b = (2,3,4,5,'last');\n",
    "\n",
    "@z = @b[1..4];\n",
    "\n",
    "print @z;\n",
    "print \"\\n--\\n\";\n",
    "\n",
    "%z = @z;\n",
    "\n",
    "print $z{3};"
   ]
  },
  {
   "source": [
    "Il terzo è l'esempio che meglio rappresenta l'importanza del sigillo. In questo frammento di codice, definiamo una variabile ```z``` di tipo array e le assegnamo una sottolista di estremi 1, 4 di b. Il contenuto di z sarà un array perchè abbiamo detto all'interprete di accedere a b tramite un array.\n",
    "\n",
    "A questo punto facciamo un primo print. Funziona tutto correttamente dato che z è un array e viene acceduto tramite un array. La stampa rappresenta il contenuto dell'intera variabile senza nessuna formattazione testuale, ovvero vengono stampati tutti gli elementi in sequenza.\n",
    "\n",
    "Prima di effettuare un secondo print, ridefiniamo z come una variabile di tipo hash, grazie al sigillo %. Ora, dato che z è un hash, seppur la definizione di essa rimane inalterata, (3, 4, 5, 'last'), il sigillo % indica un accesso differente agli elementi di z. Quindi quando stampiamo lo scalare {3} di z, non ci viene restituito il valore nell'indice 3, ma il valore della chiave 3, quindi l'elemento successivo all'elemento 3.\n",
    "\n",
    "È un concetto abbastanza differente da python che si basa sul tipo della variabile piuttosto che sulla struttura. Bisogna prenderci un pò la mano e capire il meccanismo.\n",
    "\n",
    "## Global e lexical scope\n",
    "\n",
    "Ogni variabile che abbiamo definito fino ad adesso in perl vengono considerate tutte variabili di ambiente globale.\n",
    "\n",
    "Nel caso invece volessimo definire variabili con ambiente lessicale, ovvero la potremmo usare nell'ambiente nel quale è stata definita e nei suoi sotto ambienti, dobbiamo utilizzare una istruzione specifica, l'istruzione ```my```."
   ],
   "cell_type": "markdown",
   "metadata": {}
  },
  {
   "cell_type": "code",
   "execution_count": 7,
   "metadata": {},
   "outputs": [
    {
     "output_type": "stream",
     "name": "stdout",
     "text": [
      "foo\nbar\nfoobaz\nfoo\n\nbaz\n"
     ]
    }
   ],
   "source": [
    "%%perl\n",
    "\n",
    "my $x = \"foo\";\n",
    "$w = \"fie\";\n",
    "\n",
    "# L'if server solamente per creare un nuovo ambiente, scope\n",
    "if (1) {\n",
    "    my $y = \"bar\";\n",
    "    my $w = \"foobaz\";\n",
    "    $z = \"baz\";\n",
    "\n",
    "    print $x.\"\\n\";\n",
    "    print $y.\"\\n\";\n",
    "    print $w.\"\\n\";\n",
    "}\n",
    "\n",
    "print $x.\"\\n\";\n",
    "print $y.\"\\n\";\n",
    "print $z.\"\\n\";"
   ]
  },
  {
   "source": [
    "Analizziamo le stampe dell'esempio.\n",
    "\n",
    "Le prime tre stampe corrispondono ai print di x, y, w dentro il blocco if. Dentro il blocco notiamo che non abbiamo definito nessuna variabile x ma il print conosce ugualmente x perchè essa è stata definita, seppure come lexical scope, in un ambiente esterno al blocco if e quindi ne \"eredita\" la variabile. Notiamo inoltre che sempre dentro l'if abbiamo definito y e w anch'esse come lessicali, mentre z come globale. Questo chiaramente non crea nessun problema per le print, ma teniamolo a mente per i successivi print.\n",
    "\n",
    "Verifichiamo ora i tre print nel programma principale. Vediamo come prima cosa che il print di y non ha avuto successo. Infatti, essendo perl type safe, non ritorna nessun errore ma salta l'istruzione. Il print di y non ha avuto successo perchè la variabile y è stata definita dentro un sotto ambiente, ovvero l'if. In più, la variabile y non è stata definita come globale, ma come lessicale, quindi il suo ciclo di vita termina con il terminare del blocco if. Il print di x risulta abbastanza chiaro dato che sia il print che x sono nello stesso ambiente, mentre il print di z funziona perchè z, seppur definita dentro l'if, è stata definita come variabile globale, quindi il ciclo di vita di essa termina solamente quando termina il programma stesso.\n",
    "\n",
    "## Funzioni e I/O\n",
    "\n",
    "In questo paragrafo vediamo velocemente il concetto di funzione e come si utilizza l'I/O in perl.\n",
    "\n",
    "Procediamo con un esempio."
   ],
   "cell_type": "markdown",
   "metadata": {}
  },
  {
   "cell_type": "code",
   "execution_count": 11,
   "metadata": {},
   "outputs": [
    {
     "output_type": "stream",
     "name": "stdout",
     "text": [
      "287"
     ]
    }
   ],
   "source": [
    "%%perl\n",
    "\n",
    "sub myfun {\n",
    "   my $param1 = shift;\n",
    "   my $param2 = shift;\n",
    "   open my $result, \">>\", \"codes/perl/file.res\" or die \"Non posso scrivere sul file file.res: $!\";\n",
    "   my $val = $param1+$param2**2;\n",
    "   print $result $val;\n",
    "   return $val;\n",
    "}\n",
    "\n",
    "print myfun(3,5);\n",
    "print myfun(3,2);"
   ]
  },
  {
   "cell_type": "code",
   "execution_count": 12,
   "metadata": {},
   "outputs": [
    {
     "output_type": "stream",
     "name": "stdout",
     "text": [
      "287"
     ]
    }
   ],
   "source": [
    "!cat codes/perl/file.res"
   ]
  },
  {
   "source": [
    "La definizione di una funzione è molto semplice. Essa non necessita di una signature, firma, ovvero non necessita di specificare quali sono i parametri che la funzione si aspetta in input. Per accedere ai parametri la funzione in perl funziona in modo simile alla shell. I parametri passati alla funzione vengono messi in una sorta di coda FIFO, First In Forst Out, e per accedervi bisogna scorrere tutta la coda con il comando ```shift```. Il comando shift permette di togliere il primo elemento della coda e in questo esempio assegnarlo quindi alla variabile param1. Facendo questo, il secondo shift permette di ritornare a param2 la nuova testa della coda, ovvero il secondo parametro della funzione. Il concetto è abbastanza simile alla shell dove per accedere ai parametri si utilizza la nozione ```$NUM_PARAM```.\n",
    "\n",
    "Questo meccanismo di passaggio dei parametri permette un alto grado di dinamicità. In più ha una scrittura molto più semplice della scrittura in python, che anch'esso permette un numero arbitrario di parametri. Un punto un pò dolente di questa scrittura della signature potrebbe essere la comprensione della funzione, dato che non vengono specificati esplicitamente i parametri.\n",
    "\n",
    "Ora, recuperati i nostri parametri, la funzione esegue una operazione di I/O. Sostanzialmente vuole appendere in un file il risultato della seguente espressione ```param1 + param2 ** 2```.\n",
    "\n",
    "Come prima cosa bisogna creare un descrittore per il file in questione. Questo viene fatto con la direttiva ```open```. Open necessita di una variabile al quale associare il descrittore del file. Bisogna specificare come accedere al file, se in lettura o scrittura. Perl per indicare questa modalità copia pari pari il linguaggio shell. Infatti utilizza ```<``` per la lettura del file, mentre ```>``` e ```>>``` corrispondono rispettivamente a scrittura dall'inizio del file e scrittura in append, aggiunge il nuovo contenuto al contenuto esistente. Infine viene specificato una casistica nel caso l'accesso al file fallisse, ovvero ```or die \"...\"```.\n",
    "\n",
    "Una volta creato il nostro file descriptor ```result```, dobbiamo scrivere al suo interno il valore da salvare. Questo viene fatto in modo simile al linguaggio C. Infatti perl utilizza la stessa istruzione print anche per \"stampare\" in un determinato output, ovvero ```result```, il valore ```val```.\n",
    "\n",
    "Per concludere, la funzione ritorna il valore appena calcolato per poi stamparlo nel programma principale.  \n",
    "Se proviamo a visualizzare il file ```file.res```, noteremo che infatti avremo due valori, ```3 + 5 ** 2 = 28``` e ```3 + 2 ** 2 = 7```.\n",
    "\n",
    "## Iterazioni\n",
    "\n",
    "Nel linguaggio perl abbiamo i cicli ```for``` e ```while```. Questi cicli possono essere scritti sia in stile C che in stile Python.\n",
    "\n",
    "Stile C."
   ],
   "cell_type": "markdown",
   "metadata": {}
  },
  {
   "cell_type": "code",
   "execution_count": 4,
   "metadata": {},
   "outputs": [
    {
     "output_type": "stream",
     "name": "stdout",
     "text": [
      "0\n1\n2\n3\n4\n"
     ]
    }
   ],
   "source": [
    "%%perl\n",
    "\n",
    "for($i = 0; $i < 5; $i++) {\n",
    "    print $i.\"\\n\";\n",
    "}"
   ]
  },
  {
   "cell_type": "code",
   "execution_count": 3,
   "metadata": {},
   "outputs": [
    {
     "output_type": "stream",
     "name": "stdout",
     "text": [
      "3\n2\n1\n"
     ]
    }
   ],
   "source": [
    "%%perl\n",
    "\n",
    "$n = 3;\n",
    "while($n > 0) {\n",
    "    print $n.\"\\n\";\n",
    "    $n--;\n",
    "}"
   ]
  },
  {
   "source": [
    "Stile Python."
   ],
   "cell_type": "markdown",
   "metadata": {}
  },
  {
   "cell_type": "code",
   "execution_count": 5,
   "metadata": {},
   "outputs": [
    {
     "output_type": "stream",
     "name": "stdout",
     "text": [
      "0\n1.2\na\nbcd\n"
     ]
    }
   ],
   "source": [
    "%%perl\n",
    "\n",
    "@l = (0, 1.2, 'a', 'bcd');\n",
    "foreach(@l) {\n",
    "    print $_.\"\\n\";\n",
    "}"
   ]
  },
  {
   "source": [
    "In perl esiste inoltre una versione negata del ciclo while, ovvero viene eseguito il ciclo finchè non si verifica la condizione, quindi finchè la condizione risulta ```false``` anzichè il classico ```true``` del while.\n",
    "\n",
    "Questo ciclo utilizza l'istruzione ```until```."
   ],
   "cell_type": "markdown",
   "metadata": {}
  },
  {
   "cell_type": "code",
   "execution_count": 6,
   "metadata": {},
   "outputs": [
    {
     "output_type": "stream",
     "name": "stdout",
     "text": [
      "3\n2\n1\n"
     ]
    }
   ],
   "source": [
    "%%perl\n",
    "\n",
    "$n = 3;\n",
    "until($n == 0) {\n",
    "    print $n.\"\\n\";\n",
    "    $n--;\n",
    "}"
   ]
  },
  {
   "source": [
    "## Il concetto di contesto\n",
    "\n",
    "In perl, come altri linguaggi, permette di utilizzare uno stesso termine in diversi contesti, avendo di conseguenza una differente semantica a seconda del contesto stesso.\n",
    "\n",
    "Questo concetto viene spesso visualizzato in tanti linguaggi grazie all'operatore +. Riferiamoci un momento al linguaggio Python."
   ],
   "cell_type": "markdown",
   "metadata": {}
  },
  {
   "cell_type": "code",
   "execution_count": 7,
   "metadata": {},
   "outputs": [
    {
     "output_type": "stream",
     "name": "stdout",
     "text": [
      "5\n5.0\n23\n"
     ]
    }
   ],
   "source": [
    "print(2 + 3)\n",
    "print(2 + 3.0)\n",
    "print(\"2\" + \"3\")"
   ]
  },
  {
   "source": [
    "L'operatore + ha cambiato il suo significato semantico a seconda del contesto in cui è stato inserito. Nel primo esempio il + è in un contesto di somma intera e restituisce un intero. Mentre nel secondo è in un contesto di somma tra un intero ed un decimale. In questo caso l'operatore + altera il proprio comportamento facendo una conversione implicita e quindi restituendo un decimale. Mentre l'ultimo esempio, ormai ben noto, l'operatore + assume il significato di concatenazione tra stringhe.\n",
    "\n",
    "In perl questo concetto di contesto è molto più spinto.\n",
    "\n",
    "Il perl definisce due tipi di contesti differenti, il contesto scalare ed il contesto lista, array. Questo significa che al momento di esecuzione di una particolare istruzione, l'interprete si aspetta dati con la corrispondente struttura.\n",
    "\n",
    "Questo esempio sottostante ne esprime bene il concetto."
   ],
   "cell_type": "markdown",
   "metadata": {}
  },
  {
   "cell_type": "code",
   "execution_count": 8,
   "metadata": {},
   "outputs": [
    {
     "output_type": "stream",
     "name": "stdout",
     "text": [
      "L'array contiene 3 elementi\n---\n"
     ]
    }
   ],
   "source": [
    "%%perl\n",
    "\n",
    "@a = (1, 2, 3);\n",
    "\n",
    "if(@a) {\n",
    "    my $a = @a;\n",
    "    print \"L'array contiene $a elementi\\n\";\n",
    "}\n",
    "print \"---\\n\";\n",
    "@b = ();\n",
    "if(@b) {\n",
    "    my $b = @b;\n",
    "    print \"L'array contiene $b elementi\\n\";\n",
    "}"
   ]
  },
  {
   "source": [
    "Si nota come la variabile ```a```, e analogamente ```b```, dal momento che vengono eseguiti gli if, si trovano in un contesto scalare dove necessita un ```true``` o ```false```. In questo caso, l'if aspettandosi uno scalare, la lista viene valutata come scalare della lunghezza di essa, proprio come si nota anche dalla stampa.\n",
    "\n",
    "Questo può risultare molto utile dal momento che la lista risulta vuota. Infatti una lista vuota ha lunghezza 0 e quindi lo 0 è considerato false. Da ciò risulta molto semplice e immediato fare dei controlli di consistenza su liste.\n",
    "\n",
    "Altri esempi possono essere fatti anche con gli operatori."
   ],
   "cell_type": "markdown",
   "metadata": {}
  },
  {
   "cell_type": "code",
   "execution_count": 10,
   "metadata": {},
   "outputs": [
    {
     "output_type": "stream",
     "name": "stdout",
     "text": [
      "14\nNumero di elementi dell'array: 4\n"
     ]
    }
   ],
   "source": [
    "%%perl\n",
    "\n",
    "# Istruzione necessaria per l'uso di say\n",
    "use v5.10;\n",
    "\n",
    "my @A = (1,2,3,5);\n",
    "\n",
    "say 10 + @A;\n",
    "say \"Numero di elementi dell'array: \" . @A;"
   ]
  },
  {
   "source": [
    "Il concetto di contesto in perl diventa molto interessante nell'utilizzo di funzioni. Vediamo un esempio per capire di cosa stiamo parlando."
   ],
   "cell_type": "markdown",
   "metadata": {}
  },
  {
   "cell_type": "code",
   "execution_count": 11,
   "metadata": {},
   "outputs": [
    {
     "output_type": "stream",
     "name": "stdout",
     "text": [
      "Tue Dec 15 12:36:25 2020\n"
     ]
    }
   ],
   "source": [
    "%%perl\n",
    "\n",
    "use v5.10;\n",
    "\n",
    "# Contesto scalare\n",
    "$now = localtime();\n",
    "say $now"
   ]
  },
  {
   "cell_type": "code",
   "execution_count": 12,
   "metadata": {},
   "outputs": [
    {
     "output_type": "stream",
     "name": "stdout",
     "text": [
      "15/12/2020 12:36:52\n"
     ]
    }
   ],
   "source": [
    "%%perl\n",
    "\n",
    "use v5.10;\n",
    "\n",
    "# Contesto lista\n",
    "@t = localtime();\n",
    "$d = $t[3];\n",
    "$m = $t[4]+1;\n",
    "$y = $t[5]+1900;\n",
    "say \"$d/$m/$y $t[2]:$t[1]:$t[0]\";"
   ]
  },
  {
   "source": [
    "Si nota immediatamente come la stessa funzione restituisca due differenti risultati a seconda del contesto in cui si trova, in questi esempi contesti di assegnamento rispettivamente scalare e di lista.\n",
    "\n",
    "Quello che succede dentro la funzione in questi casi è essenzialmente l'esaminare il contesto con degli if. Per conoscere il contesto di utilizzo perl mette a disposizione le seguenti funzioni:\n",
    "\n",
    "- ```wantarray()```, ritorna true se il contesto è una lista, altrimenti false\n",
    "- ```defined wantarray()```, ritorna true se il contesto è una lista o uno scalare, altrimenti false se il contesto è nullo, void\n",
    "\n",
    "Proviamo a definire una funzione che varia il suo comportamento a seconda del contesto in cui è utilizzata."
   ],
   "cell_type": "markdown",
   "metadata": {}
  },
  {
   "cell_type": "code",
   "execution_count": 14,
   "metadata": {},
   "outputs": [
    {
     "output_type": "stream",
     "name": "stdout",
     "text": [
      "1 2 3\nIl risultato richiesto è uno scalare\nRisultato inutilizzato\n"
     ]
    }
   ],
   "source": [
    "%%perl\n",
    "\n",
    "use v5.10;\n",
    "\n",
    "sub check_context {\n",
    "    if (wantarray()) {\n",
    "        return (1,2,3);\n",
    "    } \n",
    "    elsif (defined wantarray()) {   \n",
    "        return \"Il risultato richiesto è uno scalare\";\n",
    "    } \n",
    "    else {\n",
    "        say \"Risultato inutilizzato\";\n",
    "        return 0;\n",
    "    }\n",
    "}\n",
    "\n",
    "# Contesto array\n",
    "@A = check_context;\n",
    "say \"@A\";\n",
    "# Contesto scalare\n",
    "$A = check_context;\n",
    "say $A;\n",
    "# Contesto void\n",
    "check_context;"
   ]
  },
  {
   "source": [
    "## Espressioni regolari\n",
    "\n",
    "Il punto forte di perl è la facilità di manipolazione del testo. Perl manipola espressioni regolari estese con essenzialmente la stessa sintassi già vista in python."
   ],
   "cell_type": "markdown",
   "metadata": {}
  },
  {
   "cell_type": "code",
   "execution_count": 1,
   "metadata": {},
   "outputs": [
    {
     "output_type": "stream",
     "name": "stdout",
     "text": [
      "generica stringa"
     ]
    }
   ],
   "source": [
    "%%perl\n",
    "\n",
    "$s = \"generica stringa\";\n",
    "\n",
    "if ($s =~ /gene/) {\n",
    "    print $s;\n",
    "}"
   ]
  },
  {
   "source": [
    "Il simbolo ```=~``` indica che si vogliono utilizzare le espressioni regolari. Le espressioni regolari vengono definite all'interno di una coppia di ```/```.\n",
    "\n",
    "Con lo stesso simbolo è possibile effettuare semplici sostituzioni al testo grazie sempre alle espressioni regolari."
   ],
   "cell_type": "markdown",
   "metadata": {}
  },
  {
   "cell_type": "code",
   "execution_count": 2,
   "metadata": {},
   "outputs": [
    {
     "output_type": "stream",
     "name": "stdout",
     "text": [
      "generiche stringhe"
     ]
    }
   ],
   "source": [
    "%%perl\n",
    "\n",
    "$s = \"generica stringa\";\n",
    "\n",
    "$s =~ s/ica/iche/;\n",
    "$s =~ s/nga/nghe/;\n",
    "\n",
    "if ($s =~ /.*[h]+.*/) {\n",
    "    print $s;\n",
    "}"
   ]
  },
  {
   "source": [
    "La sintassi per la sostituzione è analoga alle espressioni regolari ma con l'aggiunta di una ```s``` per indicare la substitution. Inoltre bisogna specificare il testo da volere sostituire e il testo da rimpiazzare, sempre utilizzando le espressioni regolari.\n",
    "\n",
    "La sostituzione, a differenza della verifica, effettua un assegnamento alla variabile con il risultato dell'operazione. Infatti il print dell'esempio mostra la stringha modificata.\n",
    "\n",
    "## Costruzione dell'AST del Perl\n",
    "\n",
    "Torniamo ora a parlare del modello di esecuzione di Perl. L'AST deve soddisfare due requisiti fondamentali:\n",
    "\n",
    "- Elencare gli opcode\n",
    "- Specificare l'ordine di sequenza degli opcode senza che debba essere eseguita la visita ricorsiva dell'AST\n",
    "\n",
    "Dell'AST e dell'ottimizzazione di esso sono responsabili i moduli parser e optimizer. La costruzione e ottimizzazione di esso avviene in tre fasi:\n",
    "\n",
    "1. Bottom up parsing\n",
    "2. Top down optimizer\n",
    "3. Peephole optimizer\n",
    "\n",
    "### Bottom up parsing\n",
    "\n",
    "Il parser riceve in ingresso i token dallo scanner dai quali inizia a costruire l'AST. Il parsing è di tipo bottom up, quindi l'albero viene costruito a partire dalle foglie. Dopo la costruzione di un nodo non foglia, quindi un opcode e dunque la realizzazione di un sotto albero, viene effettuata una verifica di congruenza della semantica dell'opcode, come ad esempio il giusto numero di parametri per una funzione o i parametri per un operatore. Questa fase di verifica semantica, essendo non context-free, non può essere impostata dalla grammatica.\n",
    "\n",
    "Appena viene terminata la costruzione di un sotto albero, sempre durante la fase di parsing, si costruisce anche l'ordine di visita dei nodi per quel sotto albero. L'ordine di visita viene poi memorizzato nell'AST stesso, mediante dei puntatori. Questa memorizzazione è necessaria per garantire una maggior efficienza all'interprete. I puntatori definiscono una struttura ciclica che collega i nodi secondo l'ordinamento di esecuzione, visita in post ordine, a partire dalla radice. Il nodo radice viene collegato al primo nodo da visitare, il primo nodo al secondo e così via. Quando viene aggiunto un sotto albero AST al precedente, il ciclo radice - primo nodo si spezza e viene ricostruito con il nuovo albero. In questo modo l'interprete potrà individuare il prossimo nodo da visitare in maniera molto efficiente.\n",
    "\n",
    "### Top down optimizer\n",
    "\n",
    "La fase di ottimizzazione top down è in realtà interlacciata con la fase di parsing bottom up. Infatti non appena un sotto albero AST viene prodotto, esso viene scansionato dalla radice alle foglie per eventuali ottimizzazioni locali al sotto albero.\n",
    "\n",
    "L'ottimizzazione più importante che viene effettuata è context propagation. Conoscere il contesto di un'istruzione può rendere inutili determinati controlli, soprattutto sul tipo di una variabile, e di conseguenza ottimizzare l'esecuzione.\n",
    "\n",
    "Un'aspetto particolare in questo caso riguarda l'impossibilità di rimuovere sotto alberi, ovvero rimuovere degli opcode, dall'AST. Per compensare ciò, gli opcode in questione vengono marcati come da non eseguire.\n",
    "\n",
    "### Peephole optimizer\n",
    "\n",
    "Questa fase, che tradotta vuole dire ottimizzazione \"spioncino\", si tratta di una fase di ottimizzazione su piccole parti di codice, come:\n",
    "\n",
    "- Combine operations\n",
    "\n",
    "    Sostituisce un insieme di operazioni con una operazione singola equivalente a esse\n",
    "\n",
    "- Algebraic laws\n",
    "\n",
    "    Utilizza leggi algebriche per semplificare o riordinare le istruzione. Ad esempio alleggerire il calcolo di $(a \\times 2) + (b \\times 2)$ nel seguente calcolo algebricamente analogo $(a + b) \\times 2$\n",
    "\n",
    "- Special case instractions\n",
    "\n",
    "    Utilizza. istruzioni speciali progettate per specifici operandi\n",
    "\n",
    "## Interpretazione\n",
    "\n",
    "Una volta terminata la costruzione dell'AST intero da parte del compilatore, l'albero viene passato all'interprete che esegue gli opcode dell'AST nella sequenza specificata.\n",
    "\n",
    "L'interprete perl utilizza una macchina basata su stack per eseguire il codice. L'idea alla base è che ogni opcode manipola degli operandi, i quali vengono inseriti iin uno stack. Il criterio di inserimento degli operandi nello stack è il seguente:\n",
    "\n",
    "- Push dei valori ```a``` e ```b``` sullo stack\n",
    "- Si esegue l'opcode che a sua volta si divide in questi passi:\n",
    "    - Pop dei valori ```a``` e ```b```\n",
    "    - Calcolo vero e proprio dell'opcode\n",
    "    - Push del risultato\n",
    "\n",
    "Perl in realtà utilizza diversi stack a seconda dello scopo:\n",
    "\n",
    "- Operand stack\n",
    "\n",
    "    Memorizzazione degli operandi usati dagli operatori e dai risultati\n",
    "\n",
    "- Save stack\n",
    "\n",
    "    Memorizzazione delle variabili il cui scope è stato offuscato da altre. Ad esempio una variabile globale ```x``` da una variabile locale ad una funzione sempre nominata ```x```\n",
    "\n",
    "- Return stack\n",
    "\n",
    "    Memorizzazione degli indirizzi di ritorno delle funzioni\n",
    "\n",
    "### Compilazione a runtime\n",
    "\n",
    "L'interprete perl può effettuare compilazioni di espressioni direttamente a runtime attraverso la funzione ```eval```.\n",
    "\n",
    "Eval effettua una compilazione dell'espressione prima di passare alla sua esecuzione. Il suo utilizzo diviene molto utile nel momento in cui si vogliamo maggiori sicurezze, come ad esempio un programma che riceve dall'esterno degli input e se ne vuole prima verificare la sicurezza. In caso di errore viene restituito un errore nella variabile ```$EVAL_ERROR```."
   ],
   "cell_type": "markdown",
   "metadata": {}
  },
  {
   "cell_type": "code",
   "execution_count": 2,
   "metadata": {},
   "outputs": [
    {
     "output_type": "stream",
     "name": "stdout",
     "text": [
      "31"
     ]
    }
   ],
   "source": [
    "%%perl\n",
    "\n",
    "$str = '$a++; $a + $b';\n",
    "$a = 10;\n",
    "$b = 20;\n",
    "$c = eval $str;\n",
    "\n",
    "print $c;"
   ]
  }
 ]
}